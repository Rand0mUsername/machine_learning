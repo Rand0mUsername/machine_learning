{
 "cells": [
  {
   "cell_type": "markdown",
   "metadata": {},
   "source": [
    "### Today:\n",
    "* Generative models\n",
    "* Naive Bayes\n",
    "\n",
    "### Resources:\n",
    "* Generative model: https://en.wikipedia.org/wiki/Generative_model\n",
    "* Naive Bayes: http://cs229.stanford.edu/notes/cs229-notes2.pdf\n",
    "* Naive Bayes: https://en.wikipedia.org/wiki/Naive_Bayes_classifier"
   ]
  },
  {
   "cell_type": "code",
   "execution_count": 1,
   "metadata": {},
   "outputs": [],
   "source": [
    "import numpy as np\n",
    "import tensorflow as tf\n",
    "import matplotlib.mlab as mlab\n",
    "import matplotlib.pyplot as plt\n",
    "\n",
    "from scipy.stats import norm\n",
    "from sklearn import datasets"
   ]
  },
  {
   "cell_type": "code",
   "execution_count": 20,
   "metadata": {},
   "outputs": [
    {
     "name": "stdout",
     "output_type": "stream",
     "text": [
      "IRIS DATASET\n",
      "Features [[5.1]\n",
      " [4.9]\n",
      " [4.7]]\n",
      "Class [0 0 0]\n",
      "Unique labels [0 1 2]\n",
      "Separeted (3, 50, 1)\n",
      "Mean [[5.006]\n",
      " [5.936]\n",
      " [6.588]]\n",
      "Var [[0.121764]\n",
      " [0.261104]\n",
      " [0.396256]]\n",
      "3 1\n",
      "(10, 1)\n",
      "(10, 3, 1)\n",
      "[0 0 0 0 0 1 1 1 1 1]\n",
      "[0 0 0 0 0 2 2 2 1 2]\n"
     ]
    }
   ],
   "source": [
    "iris = datasets.load_iris()\n",
    "\n",
    "# Only take the first feature\n",
    "X = iris.data[:, :1]\n",
    "y = iris.target\n",
    "\n",
    "print('IRIS DATASET')\n",
    "print('Features', X[:3])\n",
    "print('Class', y[:3])\n",
    "\n",
    "# Separate training points by class (nb_classes * nb_samples * nb_features)\n",
    "unique_y = np.unique(y)\n",
    "print('Unique labels', unique_y)\n",
    "\n",
    "points_by_class = np.array([[x for x, t in zip(X, y) if t == c] for c in unique_y])\n",
    "print('Separeted', points_by_class.shape)\n",
    "\n",
    "with tf.Session() as sess:\n",
    "    \n",
    "    # FIT\n",
    "    \n",
    "    # Estimate mean and variance for each class / feature \n",
    "    # Shape: number_of_classes * number_of_features\n",
    "    mean, var = tf.nn.moments(tf.constant(points_by_class), axes=[1])\n",
    "    \n",
    "    print('Mean', mean.eval())\n",
    "    print('Var', var.eval())\n",
    "    \n",
    "    # Create a 3x2 univariate normal distribution with the known mean and variance\n",
    "    dist = tf.distributions.Normal(loc=mean, scale=tf.sqrt(var))\n",
    "    \n",
    "    # PREDICT\n",
    "    \n",
    "    nb_classes, nb_features = map(int, dist.scale.shape)\n",
    "    \n",
    "    print(nb_classes, nb_features)\n",
    "    \n",
    "    X = X[45:55]\n",
    "    \n",
    "    print(X.shape)\n",
    "    print(tf.reshape(tf.tile(X, [1, nb_classes]), [-1, nb_classes, nb_features]).shape)\n",
    "    \n",
    "    # Conditional probabilities log P(x|c) with shape (nb_samples, nb_classes)\n",
    "    cond_probs = tf.reduce_sum(\n",
    "        dist.log_prob(tf.reshape(tf.tile(X, [1, nb_classes]), [-1, nb_classes, nb_features])),\n",
    "        axis=2\n",
    "    )\n",
    "    \n",
    "    # uniform priors\n",
    "    priors = np.log(np.array([1. / nb_classes] * nb_classes))\n",
    "\n",
    "    # posterior log probability, log P(c) + log P(x|c)\n",
    "    joint_likelihood = tf.add(priors, cond_probs)\n",
    "\n",
    "    # normalize to get (log)-probabilities\n",
    "    norm_factor = tf.reduce_logsumexp(joint_likelihood, axis=1, keep_dims=True)\n",
    "    \n",
    "    log_prob = joint_likelihood - norm_factor\n",
    "    \n",
    "    # exp to get the actual probabilities\n",
    "    Z = sess.run(tf.argmax(tf.exp(log_prob), axis=1))\n",
    "\n",
    "    print(y[45:55])\n",
    "    print(Z)"
   ]
  },
  {
   "cell_type": "code",
   "execution_count": 13,
   "metadata": {},
   "outputs": [
    {
     "data": {
      "image/png": "[encoded data removed]",
      "text/plain": [
       "<matplotlib.figure.Figure at 0x7f550d859240>"
      ]
     },
     "metadata": {},
     "output_type": "display_data"
    }
   ],
   "source": [
    "fig, ax = plt.subplots()\n",
    "\n",
    "colors = ['r', 'g', 'b']\n",
    "\n",
    "x = np.linspace(0, 10, 1000)\n",
    "\n",
    "for i in range(len(mu)):\n",
    "    \n",
    "    # Create a normal distribution\n",
    "    dist = norm(mu[i], sigma[i])\n",
    "    \n",
    "    # Plot\n",
    "    plt.plot(x, dist.pdf(x), c=colors[i], label=r'$\\mu=%.1f,\\ \\sigma=%.1f$' % (mu[i], sigma[i]))\n",
    "\n",
    "plt.xlim(4.0, 8.2)\n",
    "plt.ylim(0, 1.5)\n",
    "plt.title('Gaussian Distribution')\n",
    "\n",
    "plt.legend()\n",
    "plt.show()"
   ]
  }
 ],
 "metadata": {
  "kernelspec": {
   "display_name": "Python 3",
   "language": "python",
   "name": "python3"
  },
  "language_info": {
   "codemirror_mode": {
    "name": "ipython",
    "version": 3
   },
   "file_extension": ".py",
   "mimetype": "text/x-python",
   "name": "python",
   "nbconvert_exporter": "python",
   "pygments_lexer": "ipython3",
   "version": "3.6.3"
  }
 },
 "nbformat": 4,
 "nbformat_minor": 2
}

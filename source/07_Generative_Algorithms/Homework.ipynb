{
 "cells": [
  {
   "cell_type": "markdown",
   "metadata": {},
   "source": [
    "Multinomail Naive Bayes: https://www.youtube.com/watch?v=km2LoOpdB3A"
   ]
  },
  {
   "cell_type": "markdown",
   "metadata": {},
   "source": [
    "### TODO: Check everything again"
   ]
  },
  {
   "cell_type": "code",
   "execution_count": 6,
   "metadata": {},
   "outputs": [],
   "source": [
    "import numpy as np\n",
    "import tensorflow as tf"
   ]
  },
  {
   "cell_type": "markdown",
   "metadata": {},
   "source": [
    "**Train set**\n",
    "\n",
    "    [Chinese, Chinese, Bejing, C]\n",
    "\n",
    "    [Chinese, Chinese, Shangai, C]\n",
    "\n",
    "    [Chinese, Macao, C]\n",
    "\n",
    "    [Tokyo, Japan, Chinese, J]\n",
    "\n",
    "**Test set**\n",
    "\n",
    "    [Chinese, Chinese, Chinese, Tokyo, Japan, ?]"
   ]
  },
  {
   "cell_type": "code",
   "execution_count": 14,
   "metadata": {},
   "outputs": [],
   "source": [
    "data = np.array([\n",
    "    [2, 1, 0, 0, 0, 0, 0],\n",
    "    [2, 0, 1, 0, 0, 0, 0],\n",
    "    [1, 0, 0, 1, 0, 0, 0],\n",
    "    [1, 0, 0, 0, 1, 1, 1]\n",
    "], dtype=np.float32)\n",
    "\n",
    "X = data[:, :6] + 1.0 # To remove 0, because 0 make problems\n",
    "y = data[:, 6:] # Class\n",
    "\n",
    "# Calculate priors\n",
    "probs = np.array([\n",
    "    np.sum(X[:3], axis=0) / np.sum(np.sum(X[:3], axis=0)),\n",
    "    np.sum(X[3:], axis=0) / np.sum(np.sum(X[3:], axis=0))\n",
    "])"
   ]
  },
  {
   "cell_type": "code",
   "execution_count": 12,
   "metadata": {},
   "outputs": [
    {
     "name": "stdout",
     "output_type": "stream",
     "text": [
      "(1, 1, 2)\n",
      "[[0.92735163 0.07264837]]\n",
      "[0]\n"
     ]
    }
   ],
   "source": [
    "predict = np.array([\n",
    "    [[4.0, 1.0, 1.0, 1.0, 2.0, 2.0]]\n",
    "], dtype=np.float32)\n",
    "\n",
    "with tf.Session() as sess:\n",
    "    \n",
    "    dist = tf.distributions.Multinomial(probs=probs, total_count=[3.0, 1.0])\n",
    "    \n",
    "    nb_classes, nb_features = 2, 6\n",
    "    \n",
    "    bbbb = tf.reshape(dist.log_prob(predict), [-1, 1, 2])\n",
    "    bbbb = tf.cast(bbbb, tf.float64)\n",
    "    \n",
    "    cond_probs = tf.reduce_sum(bbbb, axis=0)\n",
    "    \n",
    "    priors = tf.log(tf.constant([0.75, 0.25], dtype=tf.float64))\n",
    "    \n",
    "    joint_likelihood = tf.add(priors, cond_probs)\n",
    "    \n",
    "    norm_factor = tf.reduce_logsumexp(joint_likelihood, axis=1)\n",
    "    \n",
    "    log_prob = joint_likelihood - norm_factor\n",
    "    \n",
    "    Z = tf.exp(log_prob)\n",
    "    \n",
    "    print(sess.run(Z))\n",
    "    print(sess.run(tf.argmax(Z, axis=1)))"
   ]
  },
  {
   "cell_type": "code",
   "execution_count": null,
   "metadata": {},
   "outputs": [],
   "source": []
  }
 ],
 "metadata": {
  "kernelspec": {
   "display_name": "Python 3",
   "language": "python",
   "name": "python3"
  },
  "language_info": {
   "codemirror_mode": {
    "name": "ipython",
    "version": 3
   },
   "file_extension": ".py",
   "mimetype": "text/x-python",
   "name": "python",
   "nbconvert_exporter": "python",
   "pygments_lexer": "ipython3",
   "version": "3.6.3"
  }
 },
 "nbformat": 4,
 "nbformat_minor": 2
}

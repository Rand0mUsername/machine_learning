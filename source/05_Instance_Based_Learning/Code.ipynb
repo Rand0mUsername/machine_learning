{
 "cells": [
  {
   "cell_type": "markdown",
   "metadata": {},
   "source": [
    "### Today:\n",
    "* Instance-based learning\n",
    "    * Intro\n",
    "* k-Nearest neighbours\n",
    "    * Intro\n",
    "    * Weighted k-NN\n",
    "    * k-D tree\n",
    "* Locally-Weighted Regression\n",
    "    * Model\n",
    "\n",
    "### Resources:\n",
    "* k-NN: http://poincare.matf.bg.ac.rs/~janicic//courses/vi0.pdf\n",
    "* k-D tree: https://www.cise.ufl.edu/class/cot5520fa09/CG_RangeKDtrees.pdf\n",
    "* LOWESS: http://cs229.stanford.edu/notes/cs229-notes1.pdf\n",
    "* Numpy Axis: https://www.safaribooksonline.com/library/view/elegant-scipy/9781491922927/assets/elsp_0105.png"
   ]
  },
  {
   "cell_type": "markdown",
   "metadata": {},
   "source": [
    "# k-Nearest neighbours"
   ]
  },
  {
   "cell_type": "code",
   "execution_count": 1,
   "metadata": {},
   "outputs": [],
   "source": [
    "# Import necessary libraries\n",
    "import numpy as np\n",
    "import tensorflow as tf\n",
    "from tensorflow.examples.tutorials.mnist import input_data\n",
    "import matplotlib.pyplot as plt\n",
    "%matplotlib inline"
   ]
  },
  {
   "cell_type": "code",
   "execution_count": 2,
   "metadata": {},
   "outputs": [
    {
     "name": "stdout",
     "output_type": "stream",
     "text": [
      "Extracting ../../data/05_kNN/MNIST_data/train-images-idx3-ubyte.gz\n",
      "Extracting ../../data/05_kNN/MNIST_data/train-labels-idx1-ubyte.gz\n",
      "Extracting ../../data/05_kNN/MNIST_data/t10k-images-idx3-ubyte.gz\n",
      "Extracting ../../data/05_kNN/MNIST_data/t10k-labels-idx1-ubyte.gz\n"
     ]
    }
   ],
   "source": [
    "# load MNIST data to the folder data/mnist\n",
    "mnist = input_data.read_data_sets(\"../../data/05_kNN/MNIST_data/\", one_hot=True)"
   ]
  },
  {
   "cell_type": "code",
   "execution_count": 3,
   "metadata": {},
   "outputs": [
    {
     "data": {
      "text/plain": [
       "<matplotlib.image.AxesImage at 0x7f022208d7f0>"
      ]
     },
     "execution_count": 3,
     "metadata": {},
     "output_type": "execute_result"
    },
    {
     "data": {
      "image/png": "[encoded data removed]",
      "text/plain": [
       "<matplotlib.figure.Figure at 0x7f0224134240>"
      ]
     },
     "metadata": {},
     "output_type": "display_data"
    }
   ],
   "source": [
    "image = mnist.train.images[10].reshape((28, 28))\n",
    "plt.imshow(image, cmap='Greys')"
   ]
  },
  {
   "cell_type": "code",
   "execution_count": 4,
   "metadata": {},
   "outputs": [],
   "source": [
    "# Define paramaters for the model\n",
    "n_features = 784\n",
    "K = 3"
   ]
  },
  {
   "cell_type": "code",
   "execution_count": 5,
   "metadata": {},
   "outputs": [],
   "source": [
    "# Training dataset\n",
    "x_data, y_data = mnist.train.next_batch(5000)\n",
    "\n",
    "# Test dataset\n",
    "x_test, y_test = mnist.test.next_batch(200)"
   ]
  },
  {
   "cell_type": "code",
   "execution_count": 6,
   "metadata": {},
   "outputs": [],
   "source": [
    "# Input train vector\n",
    "X1 = tf.placeholder(dtype=tf.float32, shape=[None, n_features], name=\"X1\")\n",
    "\n",
    "# Input test vector\n",
    "X2 = tf.placeholder(dtype=tf.float32, shape=[n_features], name=\"X2\")"
   ]
  },
  {
   "cell_type": "code",
   "execution_count": 7,
   "metadata": {},
   "outputs": [],
   "source": [
    "# Calculate L1 norm\n",
    "# distance = tf.reduce_sum(tf.abs(tf.subtract(X1, X2)), axis=1)\n",
    "\n",
    "# Calculate L2 norm\n",
    "distance = tf.sqrt(tf.reduce_sum(tf.square(tf.subtract(X1, X2)), axis=1)) "
   ]
  },
  {
   "cell_type": "code",
   "execution_count": 8,
   "metadata": {},
   "outputs": [],
   "source": [
    "# Indeces of k nearest neighbours\n",
    "_, indices = tf.nn.top_k(tf.negative(distance), K)\n",
    "\n",
    "# Get labels of k nearest neigbours\n",
    "k_nn_labels = tf.gather(y_data, indices)\n",
    "\n",
    "# Labels are as one-hot vector, so sum them to find \n",
    "# one with the most votes and find its position 0-9\n",
    "predict = tf.argmax(tf.reduce_sum(k_nn_labels, axis=0), axis=0)"
   ]
  },
  {
   "cell_type": "code",
   "execution_count": 9,
   "metadata": {},
   "outputs": [
    {
     "name": "stdout",
     "output_type": "stream",
     "text": [
      "[Test   0] Prediction: 3, True Class: 3, Match: 1\n",
      "[Test   1] Prediction: 1, True Class: 1, Match: 1\n",
      "[Test   2] Prediction: 0, True Class: 0, Match: 1\n",
      "[Test   3] Prediction: 4, True Class: 4, Match: 1\n",
      "[Test   4] Prediction: 8, True Class: 8, Match: 1\n",
      "[Test   5] Prediction: 3, True Class: 3, Match: 1\n",
      "[Test   6] Prediction: 7, True Class: 7, Match: 1\n",
      "[Test   7] Prediction: 1, True Class: 1, Match: 1\n",
      "[Test   8] Prediction: 7, True Class: 7, Match: 1\n",
      "[Test   9] Prediction: 3, True Class: 3, Match: 1\n",
      "[Test  10] Prediction: 5, True Class: 5, Match: 1\n",
      "[Test  11] Prediction: 0, True Class: 2, Match: 0\n",
      "[Test  12] Prediction: 7, True Class: 7, Match: 1\n",
      "[Test  13] Prediction: 9, True Class: 9, Match: 1\n",
      "[Test  14] Prediction: 4, True Class: 4, Match: 1\n",
      "[Test  15] Prediction: 3, True Class: 3, Match: 1\n",
      "[Test  16] Prediction: 8, True Class: 8, Match: 1\n",
      "[Test  17] Prediction: 5, True Class: 5, Match: 1\n",
      "[Test  18] Prediction: 5, True Class: 5, Match: 1\n",
      "[Test  19] Prediction: 3, True Class: 3, Match: 1\n",
      "[Test  20] Prediction: 9, True Class: 9, Match: 1\n",
      "[Test  21] Prediction: 6, True Class: 6, Match: 1\n",
      "[Test  22] Prediction: 3, True Class: 3, Match: 1\n",
      "[Test  23] Prediction: 6, True Class: 6, Match: 1\n",
      "[Test  24] Prediction: 1, True Class: 1, Match: 1\n",
      "[Test  25] Prediction: 9, True Class: 9, Match: 1\n",
      "[Test  26] Prediction: 1, True Class: 1, Match: 1\n",
      "[Test  27] Prediction: 1, True Class: 1, Match: 1\n",
      "[Test  28] Prediction: 0, True Class: 0, Match: 1\n",
      "[Test  29] Prediction: 7, True Class: 7, Match: 1\n",
      "[Test  30] Prediction: 9, True Class: 9, Match: 1\n",
      "[Test  31] Prediction: 5, True Class: 5, Match: 1\n",
      "[Test  32] Prediction: 7, True Class: 7, Match: 1\n",
      "[Test  33] Prediction: 7, True Class: 7, Match: 1\n",
      "[Test  34] Prediction: 4, True Class: 4, Match: 1\n",
      "[Test  35] Prediction: 7, True Class: 7, Match: 1\n",
      "[Test  36] Prediction: 8, True Class: 8, Match: 1\n",
      "[Test  37] Prediction: 7, True Class: 7, Match: 1\n",
      "[Test  38] Prediction: 1, True Class: 1, Match: 1\n",
      "[Test  39] Prediction: 0, True Class: 0, Match: 1\n",
      "[Test  40] Prediction: 1, True Class: 1, Match: 1\n",
      "[Test  41] Prediction: 3, True Class: 3, Match: 1\n",
      "[Test  42] Prediction: 3, True Class: 3, Match: 1\n",
      "[Test  43] Prediction: 2, True Class: 2, Match: 1\n",
      "[Test  44] Prediction: 1, True Class: 4, Match: 0\n",
      "[Test  45] Prediction: 3, True Class: 3, Match: 1\n",
      "[Test  46] Prediction: 2, True Class: 2, Match: 1\n",
      "[Test  47] Prediction: 7, True Class: 7, Match: 1\n",
      "[Test  48] Prediction: 6, True Class: 6, Match: 1\n",
      "[Test  49] Prediction: 4, True Class: 4, Match: 1\n",
      "[Test  50] Prediction: 1, True Class: 1, Match: 1\n",
      "[Test  51] Prediction: 9, True Class: 9, Match: 1\n",
      "[Test  52] Prediction: 5, True Class: 5, Match: 1\n",
      "[Test  53] Prediction: 1, True Class: 1, Match: 1\n",
      "[Test  54] Prediction: 7, True Class: 7, Match: 1\n",
      "[Test  55] Prediction: 0, True Class: 5, Match: 0\n",
      "[Test  56] Prediction: 8, True Class: 8, Match: 1\n",
      "[Test  57] Prediction: 7, True Class: 7, Match: 1\n",
      "[Test  58] Prediction: 4, True Class: 4, Match: 1\n",
      "[Test  59] Prediction: 1, True Class: 1, Match: 1\n",
      "[Test  60] Prediction: 1, True Class: 1, Match: 1\n",
      "[Test  61] Prediction: 8, True Class: 8, Match: 1\n",
      "[Test  62] Prediction: 9, True Class: 9, Match: 1\n",
      "[Test  63] Prediction: 2, True Class: 2, Match: 1\n",
      "[Test  64] Prediction: 1, True Class: 1, Match: 1\n",
      "[Test  65] Prediction: 0, True Class: 0, Match: 1\n",
      "[Test  66] Prediction: 3, True Class: 3, Match: 1\n",
      "[Test  67] Prediction: 9, True Class: 9, Match: 1\n",
      "[Test  68] Prediction: 4, True Class: 4, Match: 1\n",
      "[Test  69] Prediction: 1, True Class: 1, Match: 1\n",
      "[Test  70] Prediction: 0, True Class: 0, Match: 1\n",
      "[Test  71] Prediction: 2, True Class: 2, Match: 1\n",
      "[Test  72] Prediction: 7, True Class: 7, Match: 1\n",
      "[Test  73] Prediction: 5, True Class: 5, Match: 1\n",
      "[Test  74] Prediction: 7, True Class: 7, Match: 1\n",
      "[Test  75] Prediction: 7, True Class: 7, Match: 1\n",
      "[Test  76] Prediction: 0, True Class: 0, Match: 1\n",
      "[Test  77] Prediction: 6, True Class: 6, Match: 1\n",
      "[Test  78] Prediction: 4, True Class: 4, Match: 1\n",
      "[Test  79] Prediction: 9, True Class: 9, Match: 1\n",
      "[Test  80] Prediction: 6, True Class: 6, Match: 1\n",
      "[Test  81] Prediction: 8, True Class: 8, Match: 1\n",
      "[Test  82] Prediction: 6, True Class: 6, Match: 1\n",
      "[Test  83] Prediction: 0, True Class: 0, Match: 1\n",
      "[Test  84] Prediction: 5, True Class: 5, Match: 1\n",
      "[Test  85] Prediction: 2, True Class: 2, Match: 1\n",
      "[Test  86] Prediction: 6, True Class: 4, Match: 0\n",
      "[Test  87] Prediction: 4, True Class: 4, Match: 1\n",
      "[Test  88] Prediction: 8, True Class: 8, Match: 1\n",
      "[Test  89] Prediction: 5, True Class: 5, Match: 1\n",
      "[Test  90] Prediction: 7, True Class: 7, Match: 1\n",
      "[Test  91] Prediction: 0, True Class: 0, Match: 1\n",
      "[Test  92] Prediction: 4, True Class: 4, Match: 1\n",
      "[Test  93] Prediction: 5, True Class: 8, Match: 0\n",
      "[Test  94] Prediction: 4, True Class: 4, Match: 1\n",
      "[Test  95] Prediction: 0, True Class: 0, Match: 1\n",
      "[Test  96] Prediction: 4, True Class: 8, Match: 0\n",
      "[Test  97] Prediction: 5, True Class: 5, Match: 1\n",
      "[Test  98] Prediction: 4, True Class: 4, Match: 1\n",
      "[Test  99] Prediction: 2, True Class: 2, Match: 1\n",
      "[Test 100] Prediction: 1, True Class: 1, Match: 1\n",
      "[Test 101] Prediction: 9, True Class: 9, Match: 1\n",
      "[Test 102] Prediction: 5, True Class: 5, Match: 1\n",
      "[Test 103] Prediction: 6, True Class: 6, Match: 1\n",
      "[Test 104] Prediction: 6, True Class: 6, Match: 1\n",
      "[Test 105] Prediction: 6, True Class: 6, Match: 1\n",
      "[Test 106] Prediction: 0, True Class: 0, Match: 1\n",
      "[Test 107] Prediction: 9, True Class: 9, Match: 1\n",
      "[Test 108] Prediction: 1, True Class: 1, Match: 1\n",
      "[Test 109] Prediction: 1, True Class: 4, Match: 0\n",
      "[Test 110] Prediction: 5, True Class: 5, Match: 1\n",
      "[Test 111] Prediction: 2, True Class: 2, Match: 1\n",
      "[Test 112] Prediction: 7, True Class: 7, Match: 1\n",
      "[Test 113] Prediction: 7, True Class: 7, Match: 1\n",
      "[Test 114] Prediction: 9, True Class: 9, Match: 1\n",
      "[Test 115] Prediction: 4, True Class: 4, Match: 1\n",
      "[Test 116] Prediction: 2, True Class: 2, Match: 1\n",
      "[Test 117] Prediction: 1, True Class: 1, Match: 1\n",
      "[Test 118] Prediction: 0, True Class: 0, Match: 1\n",
      "[Test 119] Prediction: 2, True Class: 2, Match: 1\n",
      "[Test 120] Prediction: 9, True Class: 9, Match: 1\n",
      "[Test 121] Prediction: 1, True Class: 1, Match: 1\n",
      "[Test 122] Prediction: 5, True Class: 5, Match: 1\n",
      "[Test 123] Prediction: 8, True Class: 8, Match: 1\n",
      "[Test 124] Prediction: 9, True Class: 9, Match: 1\n",
      "[Test 125] Prediction: 0, True Class: 0, Match: 1\n",
      "[Test 126] Prediction: 3, True Class: 3, Match: 1\n",
      "[Test 127] Prediction: 8, True Class: 8, Match: 1\n",
      "[Test 128] Prediction: 0, True Class: 0, Match: 1\n",
      "[Test 129] Prediction: 3, True Class: 3, Match: 1\n",
      "[Test 130] Prediction: 9, True Class: 9, Match: 1\n",
      "[Test 131] Prediction: 2, True Class: 2, Match: 1\n",
      "[Test 132] Prediction: 6, True Class: 6, Match: 1\n",
      "[Test 133] Prediction: 2, True Class: 7, Match: 0\n",
      "[Test 134] Prediction: 3, True Class: 3, Match: 1\n",
      "[Test 135] Prediction: 9, True Class: 9, Match: 1\n",
      "[Test 136] Prediction: 1, True Class: 2, Match: 0\n",
      "[Test 137] Prediction: 6, True Class: 6, Match: 1\n",
      "[Test 138] Prediction: 4, True Class: 4, Match: 1\n",
      "[Test 139] Prediction: 6, True Class: 6, Match: 1\n",
      "[Test 140] Prediction: 9, True Class: 9, Match: 1\n",
      "[Test 141] Prediction: 9, True Class: 9, Match: 1\n",
      "[Test 142] Prediction: 3, True Class: 3, Match: 1\n",
      "[Test 143] Prediction: 6, True Class: 6, Match: 1\n",
      "[Test 144] Prediction: 3, True Class: 5, Match: 0\n",
      "[Test 145] Prediction: 8, True Class: 8, Match: 1\n",
      "[Test 146] Prediction: 7, True Class: 7, Match: 1\n",
      "[Test 147] Prediction: 5, True Class: 5, Match: 1\n",
      "[Test 148] Prediction: 0, True Class: 0, Match: 1\n",
      "[Test 149] Prediction: 6, True Class: 6, Match: 1\n",
      "[Test 150] Prediction: 0, True Class: 0, Match: 1\n",
      "[Test 151] Prediction: 5, True Class: 5, Match: 1\n",
      "[Test 152] Prediction: 0, True Class: 0, Match: 1\n",
      "[Test 153] Prediction: 6, True Class: 6, Match: 1\n",
      "[Test 154] Prediction: 0, True Class: 0, Match: 1\n",
      "[Test 155] Prediction: 7, True Class: 7, Match: 1\n",
      "[Test 156] Prediction: 9, True Class: 9, Match: 1\n",
      "[Test 157] Prediction: 3, True Class: 3, Match: 1\n",
      "[Test 158] Prediction: 1, True Class: 1, Match: 1\n",
      "[Test 159] Prediction: 7, True Class: 7, Match: 1\n",
      "[Test 160] Prediction: 6, True Class: 6, Match: 1\n",
      "[Test 161] Prediction: 3, True Class: 3, Match: 1\n",
      "[Test 162] Prediction: 3, True Class: 3, Match: 1\n",
      "[Test 163] Prediction: 3, True Class: 3, Match: 1\n",
      "[Test 164] Prediction: 1, True Class: 1, Match: 1\n",
      "[Test 165] Prediction: 9, True Class: 9, Match: 1\n",
      "[Test 166] Prediction: 0, True Class: 0, Match: 1\n",
      "[Test 167] Prediction: 1, True Class: 7, Match: 0\n",
      "[Test 168] Prediction: 1, True Class: 1, Match: 1\n"
     ]
    },
    {
     "name": "stdout",
     "output_type": "stream",
     "text": [
      "[Test 169] Prediction: 1, True Class: 1, Match: 1\n",
      "[Test 170] Prediction: 6, True Class: 6, Match: 1\n",
      "[Test 171] Prediction: 1, True Class: 1, Match: 1\n",
      "[Test 172] Prediction: 6, True Class: 6, Match: 1\n",
      "[Test 173] Prediction: 4, True Class: 4, Match: 1\n",
      "[Test 174] Prediction: 9, True Class: 9, Match: 1\n",
      "[Test 175] Prediction: 8, True Class: 8, Match: 1\n",
      "[Test 176] Prediction: 4, True Class: 4, Match: 1\n",
      "[Test 177] Prediction: 8, True Class: 8, Match: 1\n",
      "[Test 178] Prediction: 6, True Class: 6, Match: 1\n",
      "[Test 179] Prediction: 8, True Class: 8, Match: 1\n",
      "[Test 180] Prediction: 6, True Class: 6, Match: 1\n",
      "[Test 181] Prediction: 0, True Class: 0, Match: 1\n",
      "[Test 182] Prediction: 7, True Class: 7, Match: 1\n",
      "[Test 183] Prediction: 9, True Class: 9, Match: 1\n",
      "[Test 184] Prediction: 0, True Class: 0, Match: 1\n",
      "[Test 185] Prediction: 7, True Class: 7, Match: 1\n",
      "[Test 186] Prediction: 9, True Class: 9, Match: 1\n",
      "[Test 187] Prediction: 4, True Class: 4, Match: 1\n",
      "[Test 188] Prediction: 0, True Class: 0, Match: 1\n",
      "[Test 189] Prediction: 2, True Class: 2, Match: 1\n",
      "[Test 190] Prediction: 8, True Class: 8, Match: 1\n",
      "[Test 191] Prediction: 3, True Class: 3, Match: 1\n",
      "[Test 192] Prediction: 9, True Class: 9, Match: 1\n",
      "[Test 193] Prediction: 9, True Class: 9, Match: 1\n",
      "[Test 194] Prediction: 2, True Class: 2, Match: 1\n",
      "[Test 195] Prediction: 1, True Class: 3, Match: 0\n",
      "[Test 196] Prediction: 8, True Class: 8, Match: 1\n",
      "[Test 197] Prediction: 1, True Class: 1, Match: 1\n",
      "[Test 198] Prediction: 0, True Class: 0, Match: 1\n",
      "[Test 199] Prediction: 3, True Class: 3, Match: 1\n",
      "Accuracy:  0.9400000000000007\n"
     ]
    }
   ],
   "source": [
    "with tf.Session() as sess:\n",
    "    \n",
    "    sess.run(tf.global_variables_initializer())\n",
    "    \n",
    "    accuracy = 0.0\n",
    "    \n",
    "    # Loop over test data\n",
    "    for i in range(len(x_test)):\n",
    "        \n",
    "        # Predicted label\n",
    "        pred_y = sess.run(predict, feed_dict={X1: x_data, X2: x_test[i]})\n",
    "        \n",
    "        # True label\n",
    "        true_y = tf.argmax(y_test[i], axis=0).eval()\n",
    "        \n",
    "        match = pred_y == true_y\n",
    "        \n",
    "        # Print result of classification\n",
    "        print(\"[Test %3d] Prediction: %d, True Class: %d, Match: %d\" % (i, pred_y, true_y, match))\n",
    "        \n",
    "        # Calculate accuracy\n",
    "        if match:\n",
    "            accuracy += 1.0 / len(x_test)\n",
    "\n",
    "    print(\"Accuracy: \", accuracy)"
   ]
  }
 ],
 "metadata": {
  "kernelspec": {
   "display_name": "Python 3",
   "language": "python",
   "name": "python3"
  },
  "language_info": {
   "codemirror_mode": {
    "name": "ipython",
    "version": 3
   },
   "file_extension": ".py",
   "mimetype": "text/x-python",
   "name": "python",
   "nbconvert_exporter": "python",
   "pygments_lexer": "ipython3",
   "version": "3.6.3"
  }
 },
 "nbformat": 4,
 "nbformat_minor": 2
}

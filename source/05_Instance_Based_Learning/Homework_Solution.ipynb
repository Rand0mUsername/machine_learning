{
 "cells": [
  {
   "cell_type": "markdown",
   "metadata": {},
   "source": [
    "# k-NN movie reccomendation"
   ]
  },
  {
   "cell_type": "markdown",
   "metadata": {},
   "source": [
    "\n",
    "| User\\Film | Movie A | Movie B | Movie C | ... | Movie # |\n",
    "|---------------------------------------------------------|\n",
    "| **User A**| 3       | 4       | 0       | ... | 5       |\n",
    "| **User B**| 0       | 3       | 2       | ... | 0       |\n",
    "| **User C**| 4       | 1       | 3       | ... | 4       |\n",
    "| **User D**| 5       | 3       | 2       | ... | 3       |\n",
    "|  ...      | ...     | ...     | ...     | ... | ...     |\n",
    "| **User #**| 2       | 1       | 1       | ... | 4       |"
   ]
  },
  {
   "cell_type": "markdown",
   "metadata": {},
   "source": [
    "Task: For a new user find k similar users based on movie rating and recommend few new, previously unseen, movies to the new user. Use mean rating of k users to find which one to recommend. Use cosine similarity as distance function. User didnt't see a movie if he didn't rate the movie.  "
   ]
  },
  {
   "cell_type": "code",
   "execution_count": 154,
   "metadata": {},
   "outputs": [],
   "source": [
    "# Import necessary libraries\n",
    "import tensorflow as tf\n",
    "import numpy as np"
   ]
  },
  {
   "cell_type": "code",
   "execution_count": 155,
   "metadata": {},
   "outputs": [],
   "source": [
    "# Define paramaters\n",
    "set_size = 1000  # Number of users in dataset\n",
    "n_features = 300 # Number of movies in dataset\n",
    "K = 3            # Number of similary users\n",
    "n_movies = 6     # Number of movies to reccomend"
   ]
  },
  {
   "cell_type": "code",
   "execution_count": 156,
   "metadata": {},
   "outputs": [],
   "source": [
    "# Generate dummy data\n",
    "data = np.array(np.random.randint(0, 6, size=(set_size, n_features)), dtype=np.float32)\n",
    "new_user = np.array(np.random.randint(0, 6, size=(1, n_features)), dtype=np.float32)\n",
    "\n",
    "# Find the number of movies that user did not rate\n",
    "not_rated = np.count_nonzero(new_user == 0)\n",
    "\n",
    "# Case in which the new user rated all movies in our dataset\n",
    "if not_rated == 0:\n",
    "    print('Regenerate new user')\n",
    "    \n",
    "# Case in which we try to recommend more movies than user didn't see\n",
    "if not_rated < n_movies:\n",
    "    print('Regenerate new user')\n",
    "\n",
    "# Print few examples\n",
    "# print(data[:3])\n",
    "# print(new_user)"
   ]
  },
  {
   "cell_type": "code",
   "execution_count": 157,
   "metadata": {},
   "outputs": [],
   "source": [
    "# Input train vector\n",
    "X1 = tf.placeholder(dtype=tf.float32, shape=[None, n_features], name=\"X1\")\n",
    "\n",
    "# Input test vector\n",
    "X2 = tf.placeholder(dtype=tf.float32, shape=[1, n_features], name=\"X2\")"
   ]
  },
  {
   "cell_type": "code",
   "execution_count": 158,
   "metadata": {},
   "outputs": [],
   "source": [
    "# Cosine similarity\n",
    "norm_X1 = tf.nn.l2_normalize(X1, axis=1)        \n",
    "norm_X2 = tf.nn.l2_normalize(X2, axis=1)\n",
    "cos_similarity = tf.reduce_sum(tf.matmul(norm_X1, tf.transpose(norm_X2)), axis=1)"
   ]
  },
  {
   "cell_type": "code",
   "execution_count": 159,
   "metadata": {},
   "outputs": [
    {
     "name": "stdout",
     "output_type": "stream",
     "text": [
      "Movie indices to reccomend:  [[ 27 157 274  29 167  52]]\n"
     ]
    }
   ],
   "source": [
    "with tf.Session() as sess:\n",
    "    \n",
    "    # Find all distances\n",
    "    distances = sess.run(cos_similarity, feed_dict={X1: data, X2: new_user})\n",
    "    # print(distances)\n",
    "    \n",
    "    # Find indices of k user with highest similarity\n",
    "    _, user_indices = sess.run(tf.nn.top_k(distances, K))\n",
    "    # print(user_indices)\n",
    "    \n",
    "    # Get users rating\n",
    "    # print(data[user_indices])\n",
    "    \n",
    "    # New user ratings\n",
    "    # print(new_user[0])\n",
    "    \n",
    "    # NOTICE:\n",
    "    # There is a possibility that we can incorporate\n",
    "    # user for e.g. movie A which he didn't see.\n",
    "    movie_ratings = sess.run(tf.reduce_mean(data[user_indices], axis=0))\n",
    "    # print(movie_ratings)\n",
    "    \n",
    "    # Positions where the new user doesn't have rating\n",
    "    # NOTICE:\n",
    "    # In random generating there is a possibility that \n",
    "    # the new user rated all movies in data set, if that\n",
    "    # happens regenerate the new user.\n",
    "    movie_indices = sess.run(tf.where(tf.equal(new_user[0], 0)))\n",
    "    # print(movie_indices)\n",
    "    \n",
    "    # Pick only the avarege rating of movies that have been rated by\n",
    "    # other users and haven't been rated by the new user and among\n",
    "    # those movies pick n_movies for recommend to the new user\n",
    "    _, top_rated_indices = sess.run(tf.nn.top_k(movie_ratings[movie_indices].reshape(-1), n_movies))\n",
    "    # print(top_rated_indices)\n",
    "    \n",
    "    # Indices of the movies with the highest mean rating, which new user did not\n",
    "    # see, from the k most similary users based on movie ratings\n",
    "    print('Movie indices to reccomend: ', movie_indices[top_rated_indices].T)"
   ]
  },
  {
   "cell_type": "markdown",
   "metadata": {},
   "source": [
    "# Locally weighted regression (LOWESS)"
   ]
  },
  {
   "cell_type": "code",
   "execution_count": 1,
   "metadata": {},
   "outputs": [],
   "source": [
    "# Import necessary libraries\n",
    "import numpy as np\n",
    "import tensorflow as tf\n",
    "import matplotlib.pyplot as plt\n",
    "from mpl_toolkits.mplot3d import Axes3D"
   ]
  },
  {
   "cell_type": "code",
   "execution_count": 2,
   "metadata": {},
   "outputs": [],
   "source": [
    "tf.reset_default_graph()"
   ]
  },
  {
   "cell_type": "code",
   "execution_count": 3,
   "metadata": {},
   "outputs": [],
   "source": [
    "# Load data as numpy array\n",
    "x, y = np.loadtxt('../../data/02_LinearRegression/polynomial.csv', delimiter=',', unpack=True)\n",
    "m = x.shape[0]"
   ]
  },
  {
   "cell_type": "code",
   "execution_count": 4,
   "metadata": {},
   "outputs": [],
   "source": [
    "x = (x - np.mean(x, axis=0)) / np.std(x, axis=0)\n",
    "y = (y - np.mean(y)) / np.std(y)"
   ]
  },
  {
   "cell_type": "code",
   "execution_count": 5,
   "metadata": {},
   "outputs": [
    {
     "data": {
      "image/png": "[encoded data removed]",
      "text/plain": [
       "<matplotlib.figure.Figure at 0x7fd35b1dbd68>"
      ]
     },
     "metadata": {},
     "output_type": "display_data"
    }
   ],
   "source": [
    "# Graphical preview\n",
    "%matplotlib inline\n",
    "fig, ax = plt.subplots()\n",
    "ax.set_xlabel('X Labe')\n",
    "ax.set_ylabel('Y Label')\n",
    "ax.scatter(x, y, edgecolors='k', label='Data')\n",
    "ax.grid(True, color='gray', linestyle='dashed')"
   ]
  },
  {
   "cell_type": "code",
   "execution_count": 6,
   "metadata": {},
   "outputs": [],
   "source": [
    "X = tf.placeholder(tf.float32, name='X')\n",
    "Y = tf.placeholder(tf.float32, name='Y')"
   ]
  },
  {
   "cell_type": "code",
   "execution_count": 8,
   "metadata": {},
   "outputs": [],
   "source": [
    "w = tf.Variable(0.0, name='weights')\n",
    "b = tf.Variable(0.0, name='bias')"
   ]
  },
  {
   "cell_type": "code",
   "execution_count": 9,
   "metadata": {},
   "outputs": [],
   "source": [
    "point_x = -0.5\n",
    "tau = 0.15 # 0.22"
   ]
  },
  {
   "cell_type": "code",
   "execution_count": 10,
   "metadata": {},
   "outputs": [],
   "source": [
    "t_w = tf.exp(tf.div(-tf.pow(tf.subtract(X, point_x), 2), tf.multiply(tf.pow(tau, 2), 2)))"
   ]
  },
  {
   "cell_type": "code",
   "execution_count": 11,
   "metadata": {},
   "outputs": [],
   "source": [
    "Y_predicted = tf.add(tf.multiply(X, w), b) "
   ]
  },
  {
   "cell_type": "code",
   "execution_count": 12,
   "metadata": {},
   "outputs": [],
   "source": [
    "cost = tf.reduce_mean(tf.multiply(tf.square(Y - Y_predicted), t_w), name='cost')"
   ]
  },
  {
   "cell_type": "code",
   "execution_count": 13,
   "metadata": {},
   "outputs": [],
   "source": [
    "optimizer = tf.train.GradientDescentOptimizer(learning_rate=0.001).minimize(cost)"
   ]
  },
  {
   "cell_type": "code",
   "execution_count": 14,
   "metadata": {},
   "outputs": [
    {
     "name": "stdout",
     "output_type": "stream",
     "text": [
      "Epoch 0: 0.0634478747775861\n",
      "Epoch 50: 0.007736005756521843\n",
      "Epoch 100: 0.004038000959155567\n",
      "Epoch 150: 0.0037609087880117664\n",
      "Epoch 200: 0.0037122827295769005\n",
      "Epoch 250: 0.003680550229646384\n",
      "Epoch 300: 0.0036512052056435814\n",
      "Epoch 350: 0.00362311072266426\n",
      "Epoch 400: 0.0035961129753376004\n",
      "Epoch 450: 0.0035701532227510966\n",
      "1.4452242e-35\n",
      "W: 0.413292, b: -0.540822\n",
      "Cost: 0.003539\n"
     ]
    }
   ],
   "source": [
    "with tf.Session() as sess:\n",
    "    \n",
    "    # Initialize the necessary variables, in this case, w and b\n",
    "    sess.run(tf.global_variables_initializer()) \n",
    "\n",
    "    # Train the model in 50 epochs\n",
    "    for i in range(500):\n",
    "        \n",
    "        total_cost = 0\n",
    "        \n",
    "        # Session runs train_op and fetch values of loss\n",
    "        for sample in range(m):\n",
    "            \n",
    "            # Session looks at all trainable variables that loss depends on and update them\n",
    "            _, l = sess.run([optimizer, cost], feed_dict={X: x[sample], Y:y[sample]}) \n",
    "            \n",
    "            total_cost += l\n",
    "        \n",
    "        # Print epoch and loss\n",
    "        if i % 50 == 0:\n",
    "            print('Epoch {0}: {1}'.format(i, total_cost / m))\n",
    " \n",
    "    # Output the values of w and b\n",
    "    w1, b1 = sess.run([w, b])\n",
    "    print(sess.run(t_w, feed_dict={X: 1.4}))\n",
    "    print('W: %f, b: %f' % (w1, b1))\n",
    "    print('Cost: %f' % sess.run(cost, feed_dict={X: x, Y: y}))"
   ]
  },
  {
   "cell_type": "code",
   "execution_count": 173,
   "metadata": {},
   "outputs": [
    {
     "data": {
      "image/png": "[encoded data removed]",
      "text/plain": [
       "<matplotlib.figure.Figure at 0x7f6b759419b0>"
      ]
     },
     "execution_count": 173,
     "metadata": {},
     "output_type": "execute_result"
    }
   ],
   "source": [
    "# Append hypothesis that we found on the plot\n",
    "x1 = np.linspace(-1.0, 0.0, 50)\n",
    "ax.plot(x1, x1 * w1 + b1, color='r', label='Predicted')\n",
    "ax.plot(x1, np.exp(-(x1 - point_x) ** 2 / (2 * 0.15 ** 2)), color='g', label='Weight function')\n",
    "ax.legend()\n",
    "fig"
   ]
  },
  {
   "cell_type": "code",
   "execution_count": null,
   "metadata": {},
   "outputs": [],
   "source": []
  }
 ],
 "metadata": {
  "kernelspec": {
   "display_name": "Python 3",
   "language": "python",
   "name": "python3"
  },
  "language_info": {
   "codemirror_mode": {
    "name": "ipython",
    "version": 3
   },
   "file_extension": ".py",
   "mimetype": "text/x-python",
   "name": "python",
   "nbconvert_exporter": "python",
   "pygments_lexer": "ipython3",
   "version": "3.6.3"
  }
 },
 "nbformat": 4,
 "nbformat_minor": 2
}

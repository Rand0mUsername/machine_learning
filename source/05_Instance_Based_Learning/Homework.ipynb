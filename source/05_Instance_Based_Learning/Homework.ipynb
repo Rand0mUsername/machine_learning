{
 "cells": [
  {
   "cell_type": "markdown",
   "metadata": {},
   "source": [
    "# k-NN movie reccomendation"
   ]
  },
  {
   "cell_type": "markdown",
   "metadata": {},
   "source": [
    "\n",
    "| User\\Film | Movie A | Movie B | Movie C | ... | Movie # |\n",
    "|---------------------------------------------------------|\n",
    "| **User A**| 3       | 4       | 0       | ... | 5       |\n",
    "| **User B**| 0       | 3       | 2       | ... | 0       |\n",
    "| **User C**| 4       | 1       | 3       | ... | 4       |\n",
    "| **User D**| 5       | 3       | 2       | ... | 3       |\n",
    "|  ...      | ...     | ...     | ...     | ... | ...     |\n",
    "| **User #**| 2       | 1       | 1       | ... | 4       |"
   ]
  },
  {
   "cell_type": "markdown",
   "metadata": {},
   "source": [
    "Task: For a new user find k similar users based on movie rating and recommend few new, previously unseen, movies to the new user. Use mean rating of k users to find which one to recommend. Use cosine similarity as distance function. User didnt't see a movie if he didn't rate the movie.  "
   ]
  },
  {
   "cell_type": "code",
   "execution_count": null,
   "metadata": {},
   "outputs": [],
   "source": [
    "# Import necessary libraries\n",
    "import tensorflow as tf\n",
    "import numpy as np"
   ]
  },
  {
   "cell_type": "code",
   "execution_count": null,
   "metadata": {},
   "outputs": [],
   "source": [
    "# Define paramaters\n",
    "set_size = 1000  # Number of users in dataset\n",
    "n_features = 300 # Number of movies in dataset\n",
    "K = 3            # Number of similary users\n",
    "n_movies = 6     # Number of movies to reccomend"
   ]
  },
  {
   "cell_type": "code",
   "execution_count": null,
   "metadata": {},
   "outputs": [],
   "source": [
    "# Generate dummy data\n",
    "data = np.array(np.random.randint(0, 6, size=(set_size, n_features)), dtype=np.float32)\n",
    "new_user = np.array(np.random.randint(0, 6, size=(1, n_features)), dtype=np.float32)\n",
    "\n",
    "# Find the number of movies that user did not rate\n",
    "not_rated = np.count_nonzero(new_user == 0)\n",
    "\n",
    "# Case in which the new user rated all movies in our dataset\n",
    "if not_rated == 0:\n",
    "    print('Regenerate new user')\n",
    "    \n",
    "# Case in which we try to recommend more movies than user didn't see\n",
    "if not_rated < n_movies:\n",
    "    print('Regenerate new user')\n",
    "\n",
    "# Print few examples\n",
    "# print(data[:3])\n",
    "# print(new_user)"
   ]
  },
  {
   "cell_type": "code",
   "execution_count": null,
   "metadata": {},
   "outputs": [],
   "source": [
    "# Input train vector\n",
    "X1 = tf.placeholder(dtype=tf.float32, shape=[None, n_features], name=\"X1\")\n",
    "\n",
    "# Input test vector\n",
    "X2 = tf.placeholder(dtype=tf.float32, shape=[1, n_features], name=\"X2\")"
   ]
  },
  {
   "cell_type": "code",
   "execution_count": null,
   "metadata": {},
   "outputs": [],
   "source": [
    "# Implement finding the k nearest users"
   ]
  },
  {
   "cell_type": "code",
   "execution_count": null,
   "metadata": {},
   "outputs": [],
   "source": []
  },
  {
   "cell_type": "markdown",
   "metadata": {},
   "source": [
    "# Locally weighted regression (LOWESS)"
   ]
  },
  {
   "cell_type": "code",
   "execution_count": null,
   "metadata": {},
   "outputs": [],
   "source": [
    "# Import necessary libraries\n",
    "import numpy as np\n",
    "import tensorflow as tf\n",
    "import matplotlib.pyplot as plt\n",
    "from mpl_toolkits.mplot3d import Axes3D"
   ]
  },
  {
   "cell_type": "code",
   "execution_count": null,
   "metadata": {},
   "outputs": [],
   "source": [
    "# Load data as numpy array\n",
    "x, y = np.loadtxt('../../data/02_LinearRegression/polynomial.csv', delimiter=',', unpack=True)\n",
    "m = x.shape[0]"
   ]
  },
  {
   "cell_type": "code",
   "execution_count": null,
   "metadata": {},
   "outputs": [],
   "source": [
    "x = (x - np.mean(x, axis=0)) / np.std(x, axis=0)\n",
    "y = (y - np.mean(y)) / np.std(y)"
   ]
  },
  {
   "cell_type": "code",
   "execution_count": null,
   "metadata": {},
   "outputs": [],
   "source": [
    "# Graphical preview\n",
    "%matplotlib inline\n",
    "fig, ax = plt.subplots()\n",
    "ax.set_xlabel('X Labe')\n",
    "ax.set_ylabel('Y Label')\n",
    "ax.scatter(x, y, edgecolors='k', label='Data')\n",
    "ax.grid(True, color='gray', linestyle='dashed')"
   ]
  },
  {
   "cell_type": "code",
   "execution_count": null,
   "metadata": {},
   "outputs": [],
   "source": [
    "X = tf.placeholder(tf.float32, name='X')\n",
    "Y = tf.placeholder(tf.float32, name='Y')"
   ]
  },
  {
   "cell_type": "code",
   "execution_count": null,
   "metadata": {},
   "outputs": [],
   "source": [
    "w = tf.Variable(0.0, name='weights')\n",
    "b = tf.Variable(0.0, name='bias')"
   ]
  },
  {
   "cell_type": "code",
   "execution_count": null,
   "metadata": {},
   "outputs": [],
   "source": [
    "# TODO: create model, cost function and optimization"
   ]
  },
  {
   "cell_type": "code",
   "execution_count": null,
   "metadata": {},
   "outputs": [],
   "source": [
    "with tf.Session() as sess:\n",
    "    \n",
    "    # Initialize the necessary variables, in this case, w and b\n",
    "    sess.run(tf.global_variables_initializer()) \n",
    "    \n",
    "    # TODO: Implement optimization\n",
    "    \n",
    "    # Output the values of w and b\n",
    "    w1, b1 = sess.run([w, b])\n",
    "    print(sess.run(t_w, feed_dict={X: 1.4}))\n",
    "    print('W: %f, b: %f' % (w1, b1))\n",
    "    print('Cost: %f' % sess.run(cost, feed_dict={X: x, Y: y}))"
   ]
  },
  {
   "cell_type": "code",
   "execution_count": null,
   "metadata": {},
   "outputs": [],
   "source": [
    "# Append hypothesis that we found on the plot\n",
    "x1 = np.linspace(-1.0, 0.0, 50)\n",
    "ax.plot(x1, x1 * w1 + b1, color='r', label='Predicted')\n",
    "ax.plot(x1, np.exp(-(x1 - point_x) ** 2 / (2 * 0.15 ** 2)), color='g', label='Weight function')\n",
    "ax.legend()\n",
    "fig"
   ]
  }
 ],
 "metadata": {
  "kernelspec": {
   "display_name": "Python 3",
   "language": "python",
   "name": "python3"
  },
  "language_info": {
   "codemirror_mode": {
    "name": "ipython",
    "version": 3
   },
   "file_extension": ".py",
   "mimetype": "text/x-python",
   "name": "python",
   "nbconvert_exporter": "python",
   "pygments_lexer": "ipython3",
   "version": "3.6.3"
  }
 },
 "nbformat": 4,
 "nbformat_minor": 2
}

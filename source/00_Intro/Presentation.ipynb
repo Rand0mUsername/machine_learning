{
 "cells": [
  {
   "cell_type": "markdown",
   "metadata": {
    "slideshow": {
     "slide_type": "slide"
    }
   },
   "source": [
    "# Mašinsko učenje\n",
    "<br> <br> <br>\n",
    "### Milutin Cerović <br> mcerovic@raf.rs\n",
    "#### Računarski fakultet <br> Univerzitet Union\n",
    "#### Februar, 2018"
   ]
  },
  {
   "cell_type": "markdown",
   "metadata": {
    "slideshow": {
     "slide_type": "slide"
    }
   },
   "source": [
    "# Anketa"
   ]
  },
  {
   "cell_type": "markdown",
   "metadata": {
    "slideshow": {
     "slide_type": "fragment"
    }
   },
   "source": [
    "* Da li je neko primenio neki algoritam mašinskog učenja?"
   ]
  },
  {
   "cell_type": "markdown",
   "metadata": {
    "slideshow": {
     "slide_type": "fragment"
    }
   },
   "source": [
    "* Ko zna bar jedan algoritam mašinskog učenja?"
   ]
  },
  {
   "cell_type": "markdown",
   "metadata": {
    "slideshow": {
     "slide_type": "fragment"
    }
   },
   "source": [
    "* Da li svi znaju Python?"
   ]
  },
  {
   "cell_type": "markdown",
   "metadata": {
    "slideshow": {
     "slide_type": "fragment"
    }
   },
   "source": [
    "* Da li je neko koristio TensorFlow?"
   ]
  },
  {
   "cell_type": "markdown",
   "metadata": {
    "slideshow": {
     "slide_type": "slide"
    }
   },
   "source": [
    "# Vežbe"
   ]
  },
  {
   "cell_type": "markdown",
   "metadata": {
    "slideshow": {
     "slide_type": "fragment"
    }
   },
   "source": [
    "* **Nastava:**\n",
    "    * Predavanje o algoritmima mašinskog učenja na tabli\n",
    "    * Implementacija: Python + TensorFlow\n",
    "    * Domaći nakon svakog časa koji proširuje ono što je rađeno\n",
    "        * **Ne nosi poene!**\n",
    "    * Ako pronađete grešku, javite!"
   ]
  },
  {
   "cell_type": "markdown",
   "metadata": {
    "slideshow": {
     "slide_type": "fragment"
    }
   },
   "source": [
    "* **Obaveze:**\n",
    "    * Dva domaća zadatka po 25 poena\n",
    "    * Timski rad u grupi od 2-3 studenta\n",
    "    * Odbrana u kolokvijumskim nedeljama"
   ]
  },
  {
   "cell_type": "markdown",
   "metadata": {
    "slideshow": {
     "slide_type": "fragment"
    }
   },
   "source": [
    "* **Materijali i radno okruženje:**\n",
    "    * Ispratiti korake koji se nalaze na sledećem [linku][1]\n",
    "    * Email: mcerovic@raf.rs\n",
    "[1]: https://github.com/mcerovic/machine_learning \"GitHub link\""
   ]
  },
  {
   "cell_type": "markdown",
   "metadata": {
    "slideshow": {
     "slide_type": "slide"
    }
   },
   "source": [
    "# Ukratko o mašinskom učenju"
   ]
  },
  {
   "cell_type": "markdown",
   "metadata": {
    "slideshow": {
     "slide_type": "fragment"
    }
   },
   "source": [
    "* **Šta je mašinsko učenje?**\n",
    "\n",
    "    Mašinsko učenje je podoblast veštačke inteligencije koja se bavi se proučavanjem generalizacije i konstrukcijom i analizom algoritama koji generalizuju"
   ]
  },
  {
   "cell_type": "markdown",
   "metadata": {
    "slideshow": {
     "slide_type": "fragment"
    }
   },
   "source": [
    "* **Koja je primena mašinskog učenja?**\n",
    "   \n",
    "  Medicinska dijagnostika, Autonomni automobili, Prepoznavanje rukom pisanog teksta, Prepoznavanje lica i identifikacija, Prepoznavanje govora, Sistemi za preporučivanje, Detekcija prevara, Detekcija kvaliteta, Bioinformatika, Prepoznavanje emocija, Rekonstrukcija trodimenzionalnog prostora, Detekcija jezika, Mašinsko prevođenje, i mnogo drugih oblasti...\n",
    "    "
   ]
  },
  {
   "cell_type": "markdown",
   "metadata": {
    "slideshow": {
     "slide_type": "fragment"
    }
   },
   "source": [
    "* ** Tipovi algoritama mašinskog učenja na osnovu tipa podataka**\n",
    "    * Nadgledano učenje (eng. _supervised learning_)\n",
    "    * Nenadgledano učenje (eng. _unsupervised learning_)\n",
    "    * Učenje uslovljavanjem (eng. _reinforcement learning_)"
   ]
  },
  {
   "cell_type": "markdown",
   "metadata": {
    "slideshow": {
     "slide_type": "slide"
    }
   },
   "source": [
    "# Teme"
   ]
  },
  {
   "cell_type": "markdown",
   "metadata": {
    "slideshow": {
     "slide_type": "fragment"
    }
   },
   "source": [
    "+ Uvod u TensorFlow\n",
    "+ Generalized Linear Models\n",
    "    * Linear Regression\n",
    "        * Multinomial Regression\n",
    "        * Polynomial Regression\n",
    "    * Logistic Regression\n",
    "        * Softmax Regression\n",
    "+ Instance-based Methods\n",
    "    * k-Nearest neighbours\n",
    "    * Locally-weighted Regression\n",
    "+ Generative algorithms\n",
    "    * Naive Bayes\n",
    "+ Uvod u Natural Language Processing\n",
    "+ Support Vector Machines\n",
    "    * Linear SVM\n",
    "    * Nonlinear SVM"
   ]
  },
  {
   "cell_type": "markdown",
   "metadata": {
    "slideshow": {
     "slide_type": "subslide"
    }
   },
   "source": [
    "# Teme (nastavak)\n",
    "\n",
    "+ Uvod u Computer Vision\n",
    "    * Image representation, Object Detection, Segmentation, Tracking...\n",
    "+ Neural Networks\n",
    "    * Multilayer perceptron\n",
    "+ Deep learning\n",
    "    * Convolutional Neural Networks\n",
    "    * Reccurent Neural Networks\n",
    "+ Clustering\n",
    "    * K-means\n",
    "+ Linear transformations\n",
    "    * Principal Component Analysis"
   ]
  },
  {
   "cell_type": "markdown",
   "metadata": {
    "slideshow": {
     "slide_type": "subslide"
    }
   },
   "source": [
    "# Teme (nastavak)\n",
    "\n",
    "* **Izbačeno**\n",
    "    * Decision Tree Learning\n",
    "        * Classification and Regressiong Tree\n",
    "        * Random Forest\n",
    "    * Model enasambles\n",
    "        * Boosting\n",
    "        * Bagging"
   ]
  },
  {
   "cell_type": "markdown",
   "metadata": {
    "slideshow": {
     "slide_type": "slide"
    }
   },
   "source": [
    "# Pitanja?"
   ]
  }
 ],
 "metadata": {
  "celltoolbar": "Slideshow",
  "kernelspec": {
   "display_name": "Python 3",
   "language": "python",
   "name": "python3"
  },
  "language_info": {
   "codemirror_mode": {
    "name": "ipython",
    "version": 3
   },
   "file_extension": ".py",
   "mimetype": "text/x-python",
   "name": "python",
   "nbconvert_exporter": "python",
   "pygments_lexer": "ipython3",
   "version": "3.6.3"
  }
 },
 "nbformat": 4,
 "nbformat_minor": 2
}

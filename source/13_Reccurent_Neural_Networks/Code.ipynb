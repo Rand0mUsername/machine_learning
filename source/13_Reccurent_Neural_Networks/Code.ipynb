{
 "cells": [
  {
   "cell_type": "markdown",
   "metadata": {},
   "source": [
    "### Today:\n",
    "* Reccurent Neural Networks\n",
    "    * Vanilla\n",
    "    * LSTM\n",
    "\n",
    "### Resources:\n",
    "* RNN: https://www.tensorflow.org/tutorials/text_classification_with_tf_hub\n",
    "* RNN: http://colah.github.io/posts/2015-08-Understanding-LSTMs/\n",
    "* RNN: http://karpathy.github.io/2015/05/21/rnn-effectiveness/"
   ]
  },
  {
   "cell_type": "code",
   "execution_count": 3,
   "metadata": {},
   "outputs": [],
   "source": [
    "import tensorflow as tf\n",
    "from tensorflow.contrib import rnn\n",
    "from tensorflow.examples.tutorials.mnist import input_data"
   ]
  },
  {
   "cell_type": "code",
   "execution_count": 4,
   "metadata": {},
   "outputs": [
    {
     "name": "stdout",
     "output_type": "stream",
     "text": [
      "Extracting ../../data/05_kNN/MNIST_data/train-images-idx3-ubyte.gz\n",
      "Extracting ../../data/05_kNN/MNIST_data/train-labels-idx1-ubyte.gz\n",
      "Extracting ../../data/05_kNN/MNIST_data/t10k-images-idx3-ubyte.gz\n",
      "Extracting ../../data/05_kNN/MNIST_data/t10k-labels-idx1-ubyte.gz\n"
     ]
    }
   ],
   "source": [
    "# Import MNIST data\n",
    "mnist = input_data.read_data_sets(\"../../data/05_kNN/MNIST_data/\", one_hot=True)"
   ]
  },
  {
   "cell_type": "code",
   "execution_count": 5,
   "metadata": {},
   "outputs": [],
   "source": [
    "# Training Parameters\n",
    "learning_rate = 0.001\n",
    "training_steps = 5000\n",
    "batch_size = 128\n",
    "display_step = 200\n",
    "\n",
    "# Network Parameters\n",
    "num_input = 28 # MNIST data input (img shape: 28*28)\n",
    "timesteps = 28 # timesteps\n",
    "num_hidden = 128 # hidden layer num of features\n",
    "num_classes = 10 # MNIST total classes (0-9 digits)"
   ]
  },
  {
   "cell_type": "code",
   "execution_count": 8,
   "metadata": {},
   "outputs": [],
   "source": [
    "# tf Graph input\n",
    "X = tf.placeholder(\"float\", [None, timesteps, num_input])\n",
    "Y = tf.placeholder(\"float\", [None, num_classes])\n",
    "\n",
    "# Define weights\n",
    "W = tf.Variable(tf.random_normal([num_hidden, num_classes]))\n",
    "b = tf.Variable(tf.random_normal([num_classes]))"
   ]
  },
  {
   "cell_type": "code",
   "execution_count": 9,
   "metadata": {},
   "outputs": [],
   "source": [
    "# Prepare data shape to match `rnn` function requirements\n",
    "# Current data input shape: (batch_size, timesteps, n_input)\n",
    "# Required shape: 'timesteps' tensors list of shape (batch_size, n_input)\n",
    "\n",
    "# Unstack to get a list of 'timesteps' tensors of shape (batch_size, n_input)\n",
    "x = tf.unstack(X, timesteps, 1)\n",
    "\n",
    "# Define a lstm cell with tensorflow\n",
    "lstm_cell = rnn.BasicLSTMCell(num_hidden, forget_bias=1.0)\n",
    "\n",
    "# Get lstm cell output\n",
    "outputs, states = rnn.static_rnn(lstm_cell, x, dtype=tf.float32)\n",
    "\n",
    "# Linear activation, using rnn inner loop last output\n",
    "logits = tf.matmul(outputs[-1], W) + b\n",
    "\n",
    "prediction = tf.nn.softmax(logits)\n",
    "\n",
    "# Loss\n",
    "loss_op = tf.reduce_mean(tf.nn.softmax_cross_entropy_with_logits_v2(logits=logits, labels=Y))\n",
    "\n",
    "# Optimizer\n",
    "optimizer = tf.train.AdamOptimizer(learning_rate=learning_rate).minimize(loss_op)\n",
    "\n",
    "# Evaluate model (with test logits, for dropout to be disabled)\n",
    "correct_pred = tf.equal(tf.argmax(prediction, 1), tf.argmax(Y, 1))\n",
    "accuracy = tf.reduce_mean(tf.cast(correct_pred, tf.float32))"
   ]
  },
  {
   "cell_type": "code",
   "execution_count": null,
   "metadata": {},
   "outputs": [
    {
     "name": "stdout",
     "output_type": "stream",
     "text": [
      "Epoch: 0001, cost: 2.6241097450, accuracy: 0.0781250000\n",
      "Epoch: 0200, cost: 0.2421981245, accuracy: 0.9218750000\n",
      "Epoch: 0400, cost: 0.1481991112, accuracy: 0.9765625000\n",
      "Epoch: 0600, cost: 0.0722186342, accuracy: 0.9765625000\n",
      "Epoch: 0800, cost: 0.1444121450, accuracy: 0.9687500000\n",
      "Epoch: 1000, cost: 0.0344634801, accuracy: 1.0000000000\n",
      "Epoch: 1200, cost: 0.0120857675, accuracy: 1.0000000000\n",
      "Epoch: 1400, cost: 0.0648216605, accuracy: 0.9843750000\n",
      "Epoch: 1600, cost: 0.2094063461, accuracy: 0.9531250000\n",
      "Epoch: 1800, cost: 0.0221068915, accuracy: 0.9921875000\n",
      "Epoch: 2000, cost: 0.0790174529, accuracy: 0.9765625000\n",
      "Epoch: 2200, cost: 0.0250653476, accuracy: 0.9921875000\n",
      "Epoch: 2400, cost: 0.0448347293, accuracy: 0.9921875000\n",
      "Epoch: 2600, cost: 0.0134690702, accuracy: 1.0000000000\n",
      "Epoch: 2800, cost: 0.0048909411, accuracy: 1.0000000000\n",
      "Epoch: 3000, cost: 0.0152390515, accuracy: 0.9921875000\n",
      "Epoch: 3200, cost: 0.0143390931, accuracy: 0.9921875000\n",
      "Epoch: 3400, cost: 0.0186426397, accuracy: 0.9921875000\n",
      "Epoch: 3600, cost: 0.0066450224, accuracy: 1.0000000000\n",
      "Epoch: 3800, cost: 0.0063809818, accuracy: 1.0000000000\n",
      "Epoch: 4000, cost: 0.0388490297, accuracy: 0.9921875000\n"
     ]
    }
   ],
   "source": [
    "# Start training\n",
    "with tf.Session() as sess:\n",
    "\n",
    "    # Run the initializer\n",
    "    sess.run(tf.global_variables_initializer())\n",
    "\n",
    "    for step in range(1, training_steps + 1):\n",
    "        \n",
    "        batch_x, batch_y = mnist.train.next_batch(batch_size)\n",
    "        \n",
    "        # Reshape data to get 28 seq of 28 elements\n",
    "        batch_x = batch_x.reshape((batch_size, timesteps, num_input))\n",
    "        \n",
    "        # Run optimization op (backprop)\n",
    "        sess.run(optimizer, feed_dict={X: batch_x, Y: batch_y})\n",
    "        \n",
    "        if step % display_step == 0 or step == 1:\n",
    "            \n",
    "            # Calculate batch loss and accuracy\n",
    "            loss, acc = sess.run([loss_op, accuracy], feed_dict={X: batch_x, Y: batch_y})\n",
    "            \n",
    "            print('Epoch: %04d, cost: %4.10f, accuracy: %4.10f' % (step, loss, acc))\n",
    "\n",
    "\n",
    "    # Calculate accuracy for 128 mnist test images\n",
    "    test_len = 128\n",
    "    test_data = mnist.test.images[:test_len].reshape((-1, timesteps, num_input))\n",
    "    test_label = mnist.test.labels[:test_len]\n",
    "    \n",
    "    print(\"Test acc: %4.10f\" % sess.run(accuracy, feed_dict={X: test_data, Y: test_label}))"
   ]
  },
  {
   "cell_type": "code",
   "execution_count": null,
   "metadata": {},
   "outputs": [],
   "source": []
  }
 ],
 "metadata": {
  "kernelspec": {
   "display_name": "Python 3",
   "language": "python",
   "name": "python3"
  },
  "language_info": {
   "codemirror_mode": {
    "name": "ipython",
    "version": 3
   },
   "file_extension": ".py",
   "mimetype": "text/x-python",
   "name": "python",
   "nbconvert_exporter": "python",
   "pygments_lexer": "ipython3",
   "version": "3.6.3"
  }
 },
 "nbformat": 4,
 "nbformat_minor": 2
}

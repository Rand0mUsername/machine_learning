{
 "cells": [
  {
   "cell_type": "code",
   "execution_count": 27,
   "metadata": {
    "colab": {
     "autoexec": {
      "startup": false,
      "wait_interval": 0
     }
    },
    "colab_type": "code",
    "id": "vHfULtsgcLeL"
   },
   "outputs": [],
   "source": [
    "import tensorflow as tf\n",
    "from tensorflow.examples.tutorials.mnist import input_data"
   ]
  },
  {
   "cell_type": "code",
   "execution_count": 15,
   "metadata": {
    "colab": {
     "autoexec": {
      "startup": false,
      "wait_interval": 0
     },
     "base_uri": "https://localhost:8080/",
     "height": 204
    },
    "colab_type": "code",
    "executionInfo": {
     "elapsed": 2422,
     "status": "ok",
     "timestamp": 1526767642605,
     "user": {
      "displayName": "Milutin Cerovic",
      "photoUrl": "//lh3.googleusercontent.com/-AJ49w5DY5wI/AAAAAAAAAAI/AAAAAAAAAGI/JqT5teRFCVg/s50-c-k-no/photo.jpg",
      "userId": "103611167205401562855"
     },
     "user_tz": -120
    },
    "id": "kgPreuUicHvp",
    "outputId": "f5003914-2380-4376-fae9-daa5d2446b6e"
   },
   "outputs": [
    {
     "name": "stdout",
     "output_type": "stream",
     "text": [
      "--2018-05-19 22:07:21--  http://deeplearning.net/data/mnist/mnist.pkl.gz\r\n",
      "Resolving deeplearning.net (deeplearning.net)... 132.204.26.28\r\n",
      "Connecting to deeplearning.net (deeplearning.net)|132.204.26.28|:80... connected.\n",
      "HTTP request sent, awaiting response... 200 OK\n",
      "Length: 16168813 (15M) [application/x-gzip]\n",
      "Saving to: ‘drive/app/mnist.pkl.gz.1’\n",
      "\n",
      "mnist.pkl.gz.1      100%[===================>]  15.42M  22.8MB/s    in 0.7s    \n",
      "\n",
      "2018-05-19 22:07:22 (22.8 MB/s) - ‘drive/app/mnist.pkl.gz.1’ saved [16168813/16168813]\n",
      "\n"
     ]
    }
   ],
   "source": [
    "!wget http://deeplearning.net/data/mnist/mnist.pkl.gz -P drive/app"
   ]
  },
  {
   "cell_type": "code",
   "execution_count": 40,
   "metadata": {
    "colab": {
     "autoexec": {
      "startup": false,
      "wait_interval": 0
     },
     "base_uri": "https://localhost:8080/",
     "height": 85
    },
    "colab_type": "code",
    "executionInfo": {
     "elapsed": 1040,
     "status": "ok",
     "timestamp": 1526769619371,
     "user": {
      "displayName": "Milutin Cerovic",
      "photoUrl": "//lh3.googleusercontent.com/-AJ49w5DY5wI/AAAAAAAAAAI/AAAAAAAAAGI/JqT5teRFCVg/s50-c-k-no/photo.jpg",
      "userId": "103611167205401562855"
     },
     "user_tz": -120
    },
    "id": "JiShG5LScLi0",
    "outputId": "a072e6f0-4aac-4e27-817c-a047bdcce500"
   },
   "outputs": [
    {
     "name": "stdout",
     "output_type": "stream",
     "text": [
      "Extracting drive/app/MNIST_data/train-images-idx3-ubyte.gz\n",
      "Extracting drive/app/MNIST_data/train-labels-idx1-ubyte.gz\n",
      "Extracting drive/app/MNIST_data/t10k-images-idx3-ubyte.gz\n",
      "Extracting drive/app/MNIST_data/t10k-labels-idx1-ubyte.gz\n"
     ]
    }
   ],
   "source": [
    "mnist = input_data.read_data_sets(\"drive/app/MNIST_data/\", one_hot=True)"
   ]
  },
  {
   "cell_type": "code",
   "execution_count": 0,
   "metadata": {
    "colab": {
     "autoexec": {
      "startup": false,
      "wait_interval": 0
     }
    },
    "colab_type": "code",
    "id": "l7utqL2OcKcV"
   },
   "outputs": [],
   "source": [
    "# Training Parameters\n",
    "learning_rate = 0.001\n",
    "num_epochs = 15\n",
    "batch_size = 128\n",
    "\n",
    "# Data Parameters\n",
    "num_input = 784  # MNIST data input (img shape: 28*28)\n",
    "num_classes = 10 # MNIST total classes (0-9 digits)"
   ]
  },
  {
   "cell_type": "code",
   "execution_count": 0,
   "metadata": {
    "colab": {
     "autoexec": {
      "startup": false,
      "wait_interval": 0
     }
    },
    "colab_type": "code",
    "id": "l1yt882BUKmo"
   },
   "outputs": [],
   "source": [
    "# TF Estimator input is a dict, in case of multiple inputs\n",
    "X = tf.placeholder(\"float\", [batch_size, num_input])\n",
    "Y = tf.placeholder(\"float\", [batch_size, num_classes])\n",
    "\n",
    "# Reshape to match picture format [Height x Width x Channel]\n",
    "# Tensor input become 4-D: [Batch Size, Height, Width, Channel]\n",
    "x = tf.reshape(X, shape=[batch_size, 28, 28, 1])\n",
    "\n",
    "# Convolution Layer with 32 filters and a kernel size of 5\n",
    "conv1 = tf.layers.conv2d(x, 32, 5, activation=tf.nn.relu)\n",
    "# Max Pooling (down-sampling) with strides of 2 and kernel size of 2\n",
    "conv1 = tf.layers.max_pooling2d(conv1, 2, 2)\n",
    "\n",
    "# Convolution Layer with 64 filters and a kernel size of 3\n",
    "conv2 = tf.layers.conv2d(conv1, 64, 3, activation=tf.nn.relu)\n",
    "# Max Pooling (down-sampling) with strides of 2 and kernel size of 2\n",
    "conv2 = tf.layers.max_pooling2d(conv2, 2, 2)\n",
    "\n",
    "# Flatten the data to a 1-D vector for the fully connected layer\n",
    "fc1 = tf.contrib.layers.flatten(conv2)\n",
    "\n",
    "# Fully connected layer (in tf contrib folder for now)\n",
    "fc1 = tf.layers.dense(fc1, 1024)\n",
    "\n",
    "# Output layer, class prediction\n",
    "out = tf.layers.dense(fc1, num_classes)\n",
    "\n",
    "# Define loss and optimizer\n",
    "loss_op = tf.reduce_mean(\n",
    "    tf.nn.softmax_cross_entropy_with_logits_v2(logits=out, labels=Y)\n",
    ")\n",
    "\n",
    "# Optimization\n",
    "optimizer = tf.train.AdamOptimizer(learning_rate=learning_rate).minimize(loss_op)\n",
    "\n",
    "# Evaluate the accuracy of the model\n",
    "pred = tf.nn.softmax(out)\n",
    "correct_prediction = tf.equal(tf.argmax(pred, 1), tf.argmax(Y, 1))\n"
   ]
  },
  {
   "cell_type": "code",
   "execution_count": 43,
   "metadata": {
    "colab": {
     "autoexec": {
      "startup": false,
      "wait_interval": 0
     },
     "base_uri": "https://localhost:8080/",
     "height": 289
    },
    "colab_type": "code",
    "executionInfo": {
     "elapsed": 62991,
     "status": "ok",
     "timestamp": 1526769730446,
     "user": {
      "displayName": "Milutin Cerovic",
      "photoUrl": "//lh3.googleusercontent.com/-AJ49w5DY5wI/AAAAAAAAAAI/AAAAAAAAAGI/JqT5teRFCVg/s50-c-k-no/photo.jpg",
      "userId": "103611167205401562855"
     },
     "user_tz": -120
    },
    "id": "p6F1a1T4ck1n",
    "outputId": "839e23f8-400c-40ac-a9c3-ef82f691ea95"
   },
   "outputs": [
    {
     "name": "stdout",
     "output_type": "stream",
     "text": [
      "Epoch: 0001, cost: 0.1520659345\n",
      "Epoch: 0002, cost: 0.0460075843\n",
      "Epoch: 0003, cost: 0.0327306254\n",
      "Epoch: 0004, cost: 0.0259933803\n",
      "Epoch: 0005, cost: 0.0219824929\n",
      "Epoch: 0006, cost: 0.0175281693\n",
      "Epoch: 0007, cost: 0.0176041371\n",
      "Epoch: 0008, cost: 0.0143590284\n",
      "Epoch: 0009, cost: 0.0125266345\n",
      "Epoch: 0010, cost: 0.0137665005\n",
      "Epoch: 0011, cost: 0.0112521511\n",
      "Epoch: 0012, cost: 0.0110344613\n",
      "Epoch: 0013, cost: 0.0084478811\n",
      "Epoch: 0014, cost: 0.0095168456\n",
      "Epoch: 0015, cost: 0.0107860034\n",
      "Accuracy: 0.9905849359\n"
     ]
    }
   ],
   "source": [
    "with tf.Session() as sess:\n",
    "\n",
    "    sess.run(tf.global_variables_initializer())\n",
    "    \n",
    "    # Training cycle\n",
    "    for epoch in range(num_epochs):\n",
    "\n",
    "        avg_cost = 0.0\n",
    "        \n",
    "        total_batch = int(mnist.train.num_examples / batch_size)\n",
    "\n",
    "        # Loop over all batches\n",
    "        for i in range(total_batch):\n",
    "            batch_x, batch_y = mnist.train.next_batch(batch_size)\n",
    "\n",
    "            # Run optimization op (backprop) and cost op (to get loss value)\n",
    "            _, c = sess.run([optimizer, loss_op], feed_dict={X: batch_x, Y: batch_y})\n",
    "\n",
    "            # Compute average loss\n",
    "            avg_cost += c / total_batch\n",
    "\n",
    "        # Display logs per epoch step\n",
    "        if epoch % 1 == 0:\n",
    "            print('Epoch: %04d, cost: %4.10f' % (epoch + 1, avg_cost))\n",
    "\n",
    "    # Calculate accuracy\n",
    "    avg_acc = 0.0\n",
    "    \n",
    "    total_test_batch = int(mnist.test.num_examples / batch_size)\n",
    "    \n",
    "    # Test cycle\n",
    "    for i in range(total_test_batch):\n",
    "        accuracy = tf.reduce_mean(tf.cast(correct_prediction, \"float\"))\n",
    "        batch_x, batch_y = mnist.test.next_batch(batch_size)\n",
    "        avg_acc += sess.run(accuracy, feed_dict={X: batch_x, Y: batch_y})\n",
    "    \n",
    "    print('Accuracy: %4.10f' % (avg_acc / total_test_batch))"
   ]
  },
  {
   "cell_type": "code",
   "execution_count": 0,
   "metadata": {
    "colab": {
     "autoexec": {
      "startup": false,
      "wait_interval": 0
     }
    },
    "colab_type": "code",
    "id": "d5XHlJ9cclY_"
   },
   "outputs": [],
   "source": []
  }
 ],
 "metadata": {
  "accelerator": "GPU",
  "colab": {
   "collapsed_sections": [],
   "default_view": {},
   "name": "Untitled0.ipynb",
   "provenance": [],
   "version": "0.3.2",
   "views": {}
  },
  "kernelspec": {
   "display_name": "Python 3",
   "language": "python",
   "name": "python3"
  },
  "language_info": {
   "codemirror_mode": {
    "name": "ipython",
    "version": 3
   },
   "file_extension": ".py",
   "mimetype": "text/x-python",
   "name": "python",
   "nbconvert_exporter": "python",
   "pygments_lexer": "ipython3",
   "version": "3.6.3"
  }
 },
 "nbformat": 4,
 "nbformat_minor": 1
}

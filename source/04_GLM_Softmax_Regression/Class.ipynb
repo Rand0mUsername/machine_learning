{
 "cells": [
  {
   "cell_type": "markdown",
   "metadata": {},
   "source": [
    "### Today:\n",
    "* Multiclass classification\n",
    "* Softmax regression\n",
    "    * Model\n",
    "    * Cost function\n",
    "    * Optimization\n",
    "\n",
    "### Resources:\n",
    "* Softmax regression: https://mcerovic.github.io/notes/SoftmaxRegression/index.html\n",
    "* Softmax regression: http://ufldl.stanford.edu/wiki/index.php/Softmax_Regression\n",
    "* Softmax function: https://medium.com/@uniqtech/understand-the-softmax-function-in-minutes-f3a59641e86d\n",
    "* Multiclass classification: Patternt Recognition and Machine Learning - Bishop"
   ]
  },
  {
   "cell_type": "markdown",
   "metadata": {},
   "source": [
    "# Softmax regression"
   ]
  },
  {
   "cell_type": "code",
   "execution_count": 6,
   "metadata": {},
   "outputs": [],
   "source": [
    "# Import necessary libraries\n",
    "import numpy as np\n",
    "import tensorflow as tf\n",
    "import matplotlib.pyplot as plt\n",
    "%matplotlib inline\n",
    "tf.reset_default_graph()"
   ]
  },
  {
   "cell_type": "code",
   "execution_count": 10,
   "metadata": {},
   "outputs": [],
   "source": [
    "# Load dataset as numpy array\n",
    "data = np.loadtxt('../../data/04_SoftmaxRegression/sr_data.csv', delimiter=',')"
   ]
  },
  {
   "cell_type": "code",
   "execution_count": 21,
   "metadata": {},
   "outputs": [
    {
     "data": {
      "text/plain": [
       "<matplotlib.legend.Legend at 0x7efdec05c630>"
      ]
     },
     "execution_count": 21,
     "metadata": {},
     "output_type": "execute_result"
    },
    {
     "data": {
      "image/png": "[encoded data removed]",
      "text/plain": [
       "<matplotlib.figure.Figure at 0x7efdec0a96d8>"
      ]
     },
     "metadata": {},
     "output_type": "display_data"
    }
   ],
   "source": [
    "# Find index of samples with class 0\n",
    "idx_0 = data[:, 2] == 0.0\n",
    "idx_1 = data[:, 2] == 1.0\n",
    "idx_2 = data[:, 2] == 2.0\n",
    "\n",
    "# Plot dataset\n",
    "fig, ax = plt.subplots()\n",
    "ax.set_xlabel('Feature 1')\n",
    "ax.set_ylabel('Feature 2')\n",
    "ax.scatter(data[idx_0][:, 0], data[idx_0][:,1], c='b', edgecolors='k', label='Class 0')\n",
    "ax.scatter(data[idx_1][:, 0], data[idx_1][:,1], c='g', edgecolors='k', label='Class 1')\n",
    "ax.scatter(data[idx_2][:, 0], data[idx_2][:,1], c='y', edgecolors='k', label='Class 2')\n",
    "ax.grid(True, color='gray', linestyle='dashed')\n",
    "ax.legend()"
   ]
  },
  {
   "cell_type": "code",
   "execution_count": 22,
   "metadata": {},
   "outputs": [],
   "source": [
    "# Data parameters\n",
    "n_features = 2\n",
    "n_labels = 3\n",
    "train_size = len(data)\n",
    "train_split = 0.85 # 85% data in train set, 15% in test set\n",
    "split = int(train_split * train_size) # Split boundry, check for yourself!\n",
    "\n",
    "# Training parameters\n",
    "learning_rate = 0.01\n",
    "training_epochs = 5000\n",
    "batch_size = 100"
   ]
  },
  {
   "cell_type": "code",
   "execution_count": 23,
   "metadata": {},
   "outputs": [
    {
     "name": "stdout",
     "output_type": "stream",
     "text": [
      "[2. 0. 1. 2.]\n",
      "[[0 0 1]\n",
      " [1 0 0]\n",
      " [0 1 0]\n",
      " [0 0 1]]\n"
     ]
    }
   ],
   "source": [
    "# Split dataset on features and labels\n",
    "x_data = data[:, :2]\n",
    "print(data[:4, 2]) # y_data\n",
    "\n",
    "y_data = tf.one_hot(data[:, 2], n_labels, dtype=tf.uint8)\n",
    "# Softmax accepts labels as one hot tensor\n",
    "# https://www.tensorflow.org/api_docs/python/tf/one_hot\n",
    "\n",
    "sess = tf.Session()\n",
    "print(sess.run(y_data[:4]))\n",
    "sess.close()\n",
    "\n",
    "# Split data on training and test \n",
    "x_train, x_test = x_data[:split], x_data[split:]\n",
    "y_train, y_test = y_data[:split], y_data[split:]"
   ]
  },
  {
   "cell_type": "markdown",
   "metadata": {},
   "source": [
    "## Model"
   ]
  },
  {
   "cell_type": "code",
   "execution_count": 24,
   "metadata": {},
   "outputs": [],
   "source": [
    "X = tf.placeholder(tf.float32, [None, n_features], \"X\")\n",
    "y = tf.placeholder(tf.float32, [None, n_labels], \"y\")\n",
    "\n",
    "W = tf.Variable(tf.random_normal([n_features, n_labels]), name=\"W\")\n",
    "b = tf.Variable(tf.random_normal([n_labels]), name=\"b\")"
   ]
  },
  {
   "cell_type": "code",
   "execution_count": 25,
   "metadata": {},
   "outputs": [],
   "source": [
    "hypothesis = tf.nn.softmax(tf.add(tf.matmul(X, W), b))"
   ]
  },
  {
   "cell_type": "markdown",
   "metadata": {},
   "source": [
    "## Cost"
   ]
  },
  {
   "cell_type": "code",
   "execution_count": 27,
   "metadata": {},
   "outputs": [],
   "source": [
    "cost = -tf.reduce_mean(tf.reduce_sum(tf.multiply(y, tf.log(hypothesis)), axis=1))"
   ]
  },
  {
   "cell_type": "markdown",
   "metadata": {},
   "source": [
    "## Optimization"
   ]
  },
  {
   "cell_type": "code",
   "execution_count": 28,
   "metadata": {},
   "outputs": [],
   "source": [
    "train_op = tf.train.GradientDescentOptimizer(learning_rate).minimize(cost)"
   ]
  },
  {
   "cell_type": "markdown",
   "metadata": {},
   "source": [
    "## Train"
   ]
  },
  {
   "cell_type": "code",
   "execution_count": 29,
   "metadata": {},
   "outputs": [],
   "source": [
    "corr_pred = tf.equal(tf.argmax(hypothesis, 1), tf.argmax(y, 1))\n",
    "acc = tf.reduce_mean(tf.cast(corr_pred, \"float\"))"
   ]
  },
  {
   "cell_type": "code",
   "execution_count": 30,
   "metadata": {},
   "outputs": [
    {
     "name": "stdout",
     "output_type": "stream",
     "text": [
      "0 2.066874\n",
      "100 0.8216946\n",
      "200 0.5264254\n",
      "300 0.54904884\n",
      "400 0.5522057\n",
      "500 0.44962776\n",
      "600 0.4823578\n",
      "700 0.48912174\n",
      "800 0.40060213\n",
      "900 0.4401185\n",
      "1000 0.4437672\n",
      "1100 0.36374497\n",
      "1200 0.40816364\n",
      "1300 0.40870568\n",
      "1400 0.3351144\n",
      "1500 0.38293296\n",
      "1600 0.38076556\n",
      "1700 0.31229022\n",
      "1800 0.36248097\n",
      "1900 0.3580047\n",
      "2000 0.2937023\n",
      "2100 0.34556252\n",
      "2200 0.3391236\n",
      "2300 0.27828434\n",
      "2400 0.3313302\n",
      "2500 0.3232166\n",
      "2600 0.2652902\n",
      "2700 0.3191851\n",
      "2800 0.3096335\n",
      "2900 0.2541852\n",
      "3000 0.30869266\n",
      "3100 0.29789773\n",
      "3200 0.24457774\n",
      "3300 0.29953066\n",
      "3400 0.28765285\n",
      "3500 0.23617634\n",
      "3600 0.29145455\n",
      "3700 0.2786273\n",
      "3800 0.22875957\n",
      "3900 0.28427655\n",
      "4000 0.2706112\n",
      "4100 0.22215693\n",
      "4200 0.2778494\n",
      "4300 0.2634399\n",
      "4400 0.21623556\n",
      "4500 0.27205682\n",
      "4600 0.25698256\n",
      "4700 0.21088982\n",
      "4800 0.2668053\n",
      "4900 0.25113416\n",
      "5000 0.20603515\n",
      "5100 0.26201877\n",
      "5200 0.24580903\n",
      "5300 0.20160304\n",
      "5400 0.2576351\n",
      "5500 0.24093731\n",
      "5600 0.19753735\n",
      "5700 0.25360283\n",
      "5800 0.23646094\n",
      "5900 0.19379167\n",
      "6000 0.24987894\n",
      "6100 0.23233147\n",
      "6200 0.19032718\n",
      "6300 0.24642728\n",
      "6400 0.22850814\n",
      "6500 0.18711141\n",
      "6600 0.24321705\n",
      "6700 0.22495642\n",
      "6800 0.18411666\n",
      "6900 0.24022232\n",
      "7000 0.22164685\n",
      "7100 0.18131936\n",
      "7200 0.2374205\n",
      "7300 0.2185541\n",
      "7400 0.17869931\n",
      "7500 0.23479249\n",
      "7600 0.21565643\n",
      "7700 0.17623904\n",
      "7800 0.23232105\n",
      "7900 0.21293479\n",
      "8000 0.17392318\n",
      "8100 0.2299917\n",
      "8200 0.2103727\n",
      "8300 0.17173877\n",
      "8400 0.22779165\n",
      "8500 0.2079557\n",
      "8600 0.1696739\n",
      "8700 0.22570945\n",
      "8800 0.20567101\n",
      "8900 0.16771847\n",
      "9000 0.2237352\n",
      "9100 0.20350742\n",
      "9200 0.1658634\n",
      "9300 0.22185995\n",
      "9400 0.20145492\n",
      "9500 0.16410051\n",
      "9600 0.22007573\n",
      "9700 0.19950455\n",
      "9800 0.16242284\n",
      "9900 0.21837546\n",
      "10000 0.19764844\n",
      "10100 0.16082358\n",
      "10200 0.21675296\n",
      "10300 0.19587933\n",
      "10400 0.15929721\n",
      "10500 0.21520221\n",
      "10600 0.1941909\n",
      "10700 0.15783842\n",
      "10800 0.21371843\n",
      "10900 0.19257742\n",
      "11000 0.15644263\n",
      "11100 0.21229687\n",
      "11200 0.19103359\n",
      "11300 0.15510562\n",
      "11400 0.21093307\n",
      "11500 0.18955469\n",
      "11600 0.15382332\n",
      "11700 0.20962341\n",
      "11800 0.18813643\n",
      "11900 0.15259235\n",
      "12000 0.20836426\n",
      "12100 0.18677479\n",
      "12200 0.15140933\n",
      "12300 0.20715266\n",
      "12400 0.18546616\n",
      "12500 0.1502715\n",
      "12600 0.20598541\n",
      "12700 0.18420742\n",
      "12800 0.14917609\n",
      "12900 0.20485969\n",
      "13000 0.18299547\n",
      "13100 0.14812054\n",
      "13200 0.20377357\n",
      "13300 0.18182755\n",
      "13400 0.14710288\n",
      "13500 0.20272452\n",
      "13600 0.1807011\n",
      "13700 0.14612053\n",
      "13800 0.20171031\n",
      "13900 0.17961368\n",
      "14000 0.1451718\n",
      "14100 0.20072924\n",
      "14200 0.17856331\n",
      "14300 0.14425503\n",
      "14400 0.19977921\n",
      "14500 0.17754787\n",
      "14600 0.14336824\n",
      "14700 0.19885886\n",
      "14800 0.17656556\n",
      "14900 0.14251024\n",
      "acc 0.95555556\n"
     ]
    }
   ],
   "source": [
    "with tf.Session() as sess:\n",
    "    \n",
    "    sess.run(tf.global_variables_initializer())\n",
    "    \n",
    "    # 5000 * 300 / 100 = 15000\n",
    "    for step in range(training_epochs * train_size // batch_size):\n",
    "        \n",
    "        offset = (step * batch_size) % train_size\n",
    "        \n",
    "        batch_data = x_train[offset:(offset + batch_size)]\n",
    "        \n",
    "        # feed_dict cannot use Tensor so we have to \n",
    "        # evaluete our y_train and y_test tensors\n",
    "        batch_labels = y_train.eval()[offset:(offset + batch_size)]\n",
    "        \n",
    "        \n",
    "        err, _ = sess.run([cost, train_op], feed_dict={X: batch_data, y: batch_labels})\n",
    "        \n",
    "        \n",
    "        if step % 100 == 0:\n",
    "            print(step, err)\n",
    "            \n",
    "    print('acc', sess.run(acc, feed_dict={X: x_test, y: y_test.eval()}))"
   ]
  },
  {
   "cell_type": "code",
   "execution_count": null,
   "metadata": {},
   "outputs": [],
   "source": []
  }
 ],
 "metadata": {
  "kernelspec": {
   "display_name": "Python 3",
   "language": "python",
   "name": "python3"
  },
  "language_info": {
   "codemirror_mode": {
    "name": "ipython",
    "version": 3
   },
   "file_extension": ".py",
   "mimetype": "text/x-python",
   "name": "python",
   "nbconvert_exporter": "python",
   "pygments_lexer": "ipython3",
   "version": "3.6.3"
  }
 },
 "nbformat": 4,
 "nbformat_minor": 2
}

{
 "cells": [
  {
   "cell_type": "markdown",
   "metadata": {
    "slideshow": {
     "slide_type": "slide"
    }
   },
   "source": [
    "# Introduction to TensorFlow"
   ]
  },
  {
   "cell_type": "markdown",
   "metadata": {
    "slideshow": {
     "slide_type": "slide"
    }
   },
   "source": [
    "# Table of Contents"
   ]
  },
  {
   "cell_type": "markdown",
   "metadata": {
    "slideshow": {
     "slide_type": "fragment"
    }
   },
   "source": [
    "1. Graph and session\n",
    "2. Tensor\n",
    "3. Scopes and summaries\n",
    "4. Placeholders\n",
    "5. Saving and Restoring"
   ]
  },
  {
   "cell_type": "markdown",
   "metadata": {
    "slideshow": {
     "slide_type": "slide"
    }
   },
   "source": [
    "# 0. Before everything, import!"
   ]
  },
  {
   "cell_type": "code",
   "execution_count": 2,
   "metadata": {
    "slideshow": {
     "slide_type": "fragment"
    }
   },
   "outputs": [],
   "source": [
    "import tensorflow as tf"
   ]
  },
  {
   "cell_type": "markdown",
   "metadata": {
    "slideshow": {
     "slide_type": "slide"
    }
   },
   "source": [
    "# 1. Graph and session"
   ]
  },
  {
   "cell_type": "markdown",
   "metadata": {
    "slideshow": {
     "slide_type": "skip"
    }
   },
   "source": [
    "A class for running TensorFlow operations.\n",
    "\n",
    "A Session object encapsulates the environment in which Operation objects are executed, and Tensor objects are evaluated.\n",
    "\n",
    "TensorFlow uses a dataflow graph to represent your computation in terms of the dependencies between individual operations. This leads to a low-level programming model in which you first define the dataflow graph, then create a TensorFlow session to run parts of the graph across a set of local and remote devices.\n",
    "\n",
    "A TensorFlow Session for use in interactive contexts, such as a shell.\n",
    "\n",
    "The only difference with a regular `Session` is that an `InteractiveSession` installs itself as the default session on construction. The methods `tf.Tensor.eval` and `tf.Operation.run` will use that session to run ops."
   ]
  },
  {
   "cell_type": "code",
   "execution_count": 3,
   "metadata": {
    "slideshow": {
     "slide_type": "fragment"
    }
   },
   "outputs": [
    {
     "name": "stdout",
     "output_type": "stream",
     "text": [
      "30.0\n",
      "30.0\n",
      "30.0\n"
     ]
    }
   ],
   "source": [
    "# Build a graph.\n",
    "a = tf.constant(5.0)\n",
    "b = tf.constant(6.0)\n",
    "c = tf.multiply(a, b)\n",
    "\n",
    "# First way\n",
    "# Launch the graph in a session.\n",
    "sess = tf.Session()\n",
    "\n",
    "# Evaluate the tensor `c`.\n",
    "print(sess.run(c))\n",
    "\n",
    "# Using the `close()` method.\n",
    "sess.close()\n",
    "\n",
    "# Second way\n",
    "# Using the context manager.\n",
    "with tf.Session() as sess:\n",
    "    \n",
    "    # Evaluate the tensor `c`.\n",
    "    print(sess.run(c))\n",
    "    \n",
    "# Third way\n",
    "sess = tf.InteractiveSession()\n",
    "\n",
    "# Evaluate the tensor `c`.\n",
    "# If you have a Tensor t, calling t.eval() is equivalent \n",
    "# to calling tf.get_default_session().run(t)\n",
    "print(c.eval())\n",
    "\n",
    "# Using the `close()` method.\n",
    "sess.close()"
   ]
  },
  {
   "cell_type": "markdown",
   "metadata": {},
   "source": [
    "# 2. Tensor\n",
    "\n",
    "A **tensor** is a generalization of vectors and matrices to potentially higher dimensions. Internally, TensorFlow represents tensors as n-dimensional arrays of base datatypes.\n",
    "\n",
    "When writing a TensorFlow program, the main object you manipulate and pass around is the `tf.Tensor`. A `tf.Tensor` object represents a partially defined computation that will eventually produce a value. TensorFlow programs work by first building a graph of `tf.Tensor` objects, detailing how each tensor is computed based on the other available tensors and then by running parts of this graph to achieve the desired results.\n",
    "\n",
    "A `tf.Tensor` has the following properties:\n",
    "\n",
    "* a data type (float32, int32, or string, for example)\n",
    "* a shape\n",
    "\n",
    "The main ones are:\n",
    "\n",
    "* `tf.Constant`\n",
    "* `tf.Variable`\n",
    "* `tf.Placeholder`\n",
    "* `tf.SparseTensor`\n",
    "\n",
    "The **rank** of a `tf.Tensor` object is its number of dimensions. Synonyms for rank include **order** or **degree** or **n-dimension**.\n",
    "\n",
    "As the following list shows, each rank in TensorFlow corresponds to a different mathematical entity:\n",
    "\n",
    "* 0\tScalar (magnitude only)\n",
    "* 1\tVector (magnitude and direction)\n",
    "* 2\tMatrix (table of numbers)\n",
    "* 3\t3-Tensor (cube of numbers)\n",
    "* n\tn-Tensor (you get the idea)"
   ]
  },
  {
   "cell_type": "markdown",
   "metadata": {},
   "source": [
    "## 2.1. Constants, Sequences, and Random Values\n",
    "\n",
    "### Constant Value Tensors\n",
    "\n",
    "* Constants are stored in the graph definition\n",
    "* This makes loading graphs expensive when constants are big\n",
    "* Only use constants for primitive types\n",
    "\n",
    "`tf.constant(value, dtype=None, shape=None, name='Const', verify_shape=False)`\n",
    "\n",
    "* value: A constant value (or list) of output type dtype.\n",
    "* dtype: The type of the elements of the resulting tensor.\n",
    "* shape: Optional dimensions of resulting tensor.\n",
    "* name: Optional name for the tensor.\n",
    "* verify_shape: Boolean that enables verification of a shape of values\n",
    "\n",
    "`tf.zeros(shape, dtype=tf.float32, name=None)`\n",
    "\n",
    "Creates a tensor with all elements set to zero.\n",
    "\n",
    "* shape: A list of integers, a tuple of integers, or a 1-D Tensor of type int32.\n",
    "* dtype: The type of an element in the resulting Tensor.\n",
    "* name: A name for the operation (optional).\n",
    "\n",
    "`tf.ones(shape, dtype=tf.float32, name=None)`\n",
    "\n",
    "Creates a tensor with all elements set to one.\n",
    "\n",
    "* shape: A list of integers, a tuple of integers, or a 1-D Tensor of type int32.\n",
    "* dtype: The type of an element in the resulting Tensor.\n",
    "* name: A name for the operation (optional).\n",
    "\n",
    "`tf.fill(dims, value, name=None)`\n",
    "\n",
    "Creates a tensor filled with a scalar value.\n",
    "\n",
    "* dims: A Tensor of type int32. 1-D. Represents the shape of the output tensor.\n",
    "* value: A Tensor. 0-D (scalar). Value to fill the returned tensor.\n",
    "* name: A name for the operation (optional)."
   ]
  },
  {
   "cell_type": "code",
   "execution_count": 6,
   "metadata": {},
   "outputs": [
    {
     "name": "stdout",
     "output_type": "stream",
     "text": [
      "Result: 4\n"
     ]
    }
   ],
   "source": [
    "a = tf.constant(1)\n",
    "b = tf.constant(3)\n",
    "\n",
    "x = tf.add(a, b)\n",
    "\n",
    "with tf.Session() as sess:\n",
    "    print('Result:', sess.run(x))"
   ]
  },
  {
   "cell_type": "code",
   "execution_count": 21,
   "metadata": {},
   "outputs": [
    {
     "name": "stdout",
     "output_type": "stream",
     "text": [
      "Result: 4\n"
     ]
    }
   ],
   "source": [
    "tf.reset_default_graph()\n",
    "\n",
    "a = tf.constant(1)\n",
    "b = tf.constant(3)\n",
    "x = tf.add(a, b)\n",
    "\n",
    "with tf.Session() as sess:\n",
    "    writer = tf.summary.FileWriter('./graphs', sess.graph)\n",
    "    print('Result:', sess.run(x))\n",
    "\n",
    "writer.close()"
   ]
  },
  {
   "cell_type": "code",
   "execution_count": null,
   "metadata": {},
   "outputs": [],
   "source": [
    "tf.reset_default_graph()\n",
    "\n",
    "a = tf.constant(1, name='a')\n",
    "b = tf.constant(3, name='b')\n",
    "x = tf.add(a, b, name='add')\n",
    "\n",
    "with tf.Session() as sess:\n",
    "    writer = tf.summary.FileWriter('./graphs', sess.graph)\n",
    "    print('Result:', sess.run(x))\n",
    "\n",
    "writer.close()"
   ]
  },
  {
   "cell_type": "code",
   "execution_count": 9,
   "metadata": {},
   "outputs": [
    {
     "name": "stdout",
     "output_type": "stream",
     "text": [
      "Result: [array([[2, 3],\n",
      "       [4, 5]], dtype=int32), array([[0, 2],\n",
      "       [4, 6]], dtype=int32), array([[4, 8]], dtype=int32)]\n"
     ]
    }
   ],
   "source": [
    "tf.reset_default_graph()\n",
    "\n",
    "a = tf.constant([[2, 2]], name='a')\n",
    "b = tf.constant([[0, 1], [2, 3]], name='b')\n",
    "\n",
    "# Po kordinatama!\n",
    "x = tf.add(a, b, name='add')\n",
    "y = tf.multiply(a, b, name='mul')\n",
    "\n",
    "# Matrice\n",
    "z = tf.matmul(a, b, name='matmul')\n",
    "\n",
    "with tf.Session() as sess:\n",
    "    writer = tf.summary.FileWriter('./graphs', sess.graph)\n",
    "    print('Result:', sess.run([x, y, z]))\n",
    "\n",
    "writer.close()"
   ]
  },
  {
   "cell_type": "code",
   "execution_count": 10,
   "metadata": {},
   "outputs": [
    {
     "name": "stdout",
     "output_type": "stream",
     "text": [
      "Result: [array([[0, 0, 0],\n",
      "       [0, 0, 0]], dtype=int32), array([[0],\n",
      "       [0]], dtype=int32), array([[[8., 8., 8.]],\n",
      "\n",
      "       [[8., 8., 8.]]], dtype=float32)]\n"
     ]
    }
   ],
   "source": [
    "tf.reset_default_graph()\n",
    "\n",
    "a = tf.zeros([2, 3], tf.int32, name='a')\n",
    "b = tf.zeros([2, 1], tf.int32, name='b')\n",
    "c = tf.fill([2, 1, 3], 8.0)\n",
    "\n",
    "with tf.Session() as sess:\n",
    "    writer = tf.summary.FileWriter('./graphs', sess.graph)\n",
    "    print('Result:', sess.run([a, b, c]))\n",
    "\n",
    "writer.close()"
   ]
  },
  {
   "cell_type": "markdown",
   "metadata": {},
   "source": [
    "### Sequences\n",
    "\n",
    "`tf.linspace(start, stop, num, name=None)`\n",
    "\n",
    "Generates values in an interval.\n",
    "\n",
    "A sequence of `num` evenly-spaced values are generated beginning at `start`. If `num > 1`, the values in the sequence increase by `stop - start / num - 1`, so that the last one is exactly stop.\n",
    "\n",
    "* start: A Tensor. Must be one of the following types: float32, float64. First entry in the range.\n",
    "* stop: A Tensor. Must have the same type as start. Last entry in the range.\n",
    "* num: A Tensor. Must be one of the following types: int32, int64. Number of values to generate.\n",
    "* name: A name for the operation (optional).\n",
    "\n",
    "`tf.range(start, limit, delta=1, dtype=None, name='range')`\n",
    "\n",
    "Creates a sequence of numbers.\n",
    "\n",
    "Creates a sequence of numbers that begins at start and extends by increments of `delta` up to but not including `limit`.\n",
    "\n",
    "* start: A 0-D Tensor (scalar). Acts as first entry in the range if limit is not None; otherwise, acts as range limit and first entry defaults to 0.\n",
    "* limit: A 0-D Tensor (scalar). Upper limit of sequence, exclusive. If None, defaults to the value of start while the first entry of the range defaults to 0.\n",
    "* delta: A 0-D Tensor (scalar). Number that increments start. Defaults to 1.\n",
    "* dtype: The type of the elements of the resulting tensor.\n",
    "* name: A name for the operation. Defaults to \"range\"."
   ]
  },
  {
   "cell_type": "code",
   "execution_count": 14,
   "metadata": {},
   "outputs": [
    {
     "name": "stdout",
     "output_type": "stream",
     "text": [
      "[array([10., 11., 12.], dtype=float32), array([1, 3, 5, 7, 9], dtype=int32)]\n"
     ]
    }
   ],
   "source": [
    "tf.reset_default_graph()\n",
    "\n",
    "a = tf.linspace(10.0, 12.0, 3, name='a')\n",
    "b = tf.range(1, 10, 2, name='b')\n",
    "\n",
    "with tf.Session() as sess:\n",
    "    print(sess.run([a, b]))"
   ]
  },
  {
   "cell_type": "markdown",
   "metadata": {},
   "source": [
    "### Random Tensors\n",
    "\n",
    "`tf.random_normal(shape, mean=0.0, stddev=1.0, dtype=tf.float32, seed=None, name=None)`\n",
    "\n",
    "Outputs random values from a normal distribution.\n",
    "\n",
    "* shape: A 1-D integer Tensor or Python array. The shape of the output tensor.\n",
    "* mean: A 0-D Tensor or Python value of type dtype. The mean of the normal distribution.\n",
    "* stddev: A 0-D Tensor or Python value of type dtype. The standard deviation of the normal distribution.\n",
    "* dtype: The type of the output.\n",
    "* seed: A Python integer. Used to create a random seed for the distribution. See tf.set_random_seed for behavior.\n",
    "* name: A name for the operation (optional).\n",
    "\n",
    "`tf.random_uniform(shape, minval=0, maxval=None, dtype=tf.float32, seed=None, name=None)`\n",
    "\n",
    "Outputs random values from a uniform distribution.\n",
    "\n",
    "The generated values follow a uniform distribution in the range `[minval, maxval)`. The lower bound minval is included in the range, while the upper bound `maxval` is excluded.\n",
    "\n",
    "For floats, the default range is `[0, 1)`. For ints, at least `maxval` must be specified explicitly.\n",
    "\n",
    "In the integer case, the random integers are slightly biased unless `maxval - minval` is an exact power of two. The bias is small for values of `maxval - minval` significantly smaller than the range of the output (either `2**32` or `2**64`).\n",
    "\n",
    "* shape: A 1-D integer Tensor or Python array. The shape of the output tensor.\n",
    "* minval: A 0-D Tensor or Python value of type dtype. The lower bound on the range of random values to generate. Defaults to 0.\n",
    "* maxval: A 0-D Tensor or Python value of type dtype. The upper bound on the range of random values to generate. Defaults to 1 if dtype is floating point.\n",
    "* dtype: The type of the output: float16, float32, float64, int32, or int64.\n",
    "* seed: A Python integer. Used to create a random seed for the distribution. See `tf.set_random_seed` for behavior.\n",
    "* name: A name for the operation (optional).\n",
    "\n",
    "Other usefull functions:\n",
    "\n",
    "* `tf.truncated_normal`\n",
    "* `tf.random_uniform`\n",
    "* `tf.random_shuffle`\n",
    "* `tf.random_crop`\n",
    "* `tf.multinomial`\n",
    "* `tf.random_gamma`"
   ]
  },
  {
   "cell_type": "code",
   "execution_count": null,
   "metadata": {},
   "outputs": [],
   "source": [
    "# The graph-level seed\n",
    "tf.set_random_seed(1)"
   ]
  },
  {
   "cell_type": "code",
   "execution_count": 15,
   "metadata": {},
   "outputs": [
    {
     "name": "stdout",
     "output_type": "stream",
     "text": [
      "[[ -4.2452726    4.938395    -0.7386825 ]\n",
      " [-10.770817    -0.60300636   1.3648973 ]]\n",
      "[[-3.7036238   0.14663327  0.28635478]\n",
      " [ 3.849855   -4.2234287  -1.5339782 ]]\n",
      "[[6.459399   2.722218   0.46063542]]\n",
      "\n",
      "[[ -4.2452726    4.938395    -0.7386825 ]\n",
      " [-10.770817    -0.60300636   1.3648973 ]]\n",
      "[[-3.7036238   0.14663327  0.28635478]\n",
      " [ 3.849855   -4.2234287  -1.5339782 ]]\n"
     ]
    }
   ],
   "source": [
    "norm = tf.random_normal([2, 3], mean=-1, stddev=4, seed=1)\n",
    "unif = tf.random_uniform([1, 3], minval=0, maxval=10)\n",
    "\n",
    "with tf.Session() as sess:\n",
    "    print(sess.run(norm))\n",
    "    print(sess.run(norm))\n",
    "    print(sess.run(unif))\n",
    "print()\n",
    "with tf.Session() as sess:\n",
    "    print(sess.run(norm))\n",
    "    print(sess.run(norm))"
   ]
  },
  {
   "cell_type": "markdown",
   "metadata": {},
   "source": [
    "## 2.2. Variables\n",
    "\n",
    "Tensor Ranks, Shapes, and Types : https://www.tensorflow.org/versions/r0.12/resources/dims_types\n",
    "\n",
    "A TensorFlow **variable** is the best way to represent shared, persistent state manipulated by your program.\n",
    "\n",
    "Variables are manipulated via the tf.Variable class. A tf.Variable represents a tensor whose value can be changed by running ops on it. Unlike `tf.Tensor` objects, a `tf.Variable` exists outside the context of a single session.run call.\n",
    "\n",
    "Internally, a `tf.Variable` stores a persistent tensor. Specific ops allow you to read and modify the values of this tensor. These modifications are visible across multiple `tf.Sessions`, so multiple workers can see the same values for a `tf.Variable`.\n",
    "\n",
    "Each session maintains its own copy of variable."
   ]
  },
  {
   "cell_type": "code",
   "execution_count": 16,
   "metadata": {},
   "outputs": [
    {
     "name": "stdout",
     "output_type": "stream",
     "text": [
      "[array([[0., 0.],\n",
      "       [0., 0.]], dtype=float32)]\n",
      "[array([[1.7090285, 4.2903066, 3.5735536]], dtype=float32)]\n",
      "2\n",
      "4\n"
     ]
    }
   ],
   "source": [
    "# create variable a with scalar value\n",
    "a = tf.Variable(2, name=\"scalar\")\n",
    "\n",
    "# create variable b as a vector\n",
    "b = tf.Variable([2, 3], name=\"vector\")\n",
    "\n",
    "# create variable c as a 2x2 matrix\n",
    "c = tf.Variable([[0, 1], [2, 3]], name=\"matrix\")\n",
    "\n",
    "# Initialize variable with zeros\n",
    "d = tf.Variable(tf.zeros([2, 2]), name=\"zeros\")\n",
    "\n",
    "# Initialize variable with random uniform numbers\n",
    "e = tf.Variable(tf.random_uniform([1, 3], minval=0, maxval=10), name=\"random_uniform\")\n",
    "\n",
    "# create variable W as 784 x 10 tensor, filled with zeros\n",
    "W = tf.Variable(tf.zeros([784,10]))\n",
    "\n",
    "# Initializing all variables at once\n",
    "init = tf.global_variables_initializer()\n",
    "\n",
    "# Initialize only a subset of variables\n",
    "init_ab = tf.variables_initializer([a, b], name=\"init_ab\")\n",
    "\n",
    "# Initialize assign ops\n",
    "a_new = a.assign(tf.add(a, 2))\n",
    "\n",
    "with tf.Session() as sess:\n",
    "    \n",
    "    sess.run(init)\n",
    "    \n",
    "    print(sess.run([d]))\n",
    "    \n",
    "    print(sess.run([e]))\n",
    "    \n",
    "    # print(sess.run([a, c]))\n",
    "    print(a.eval())\n",
    "    sess.run(a_new)\n",
    "\n",
    "    print(a.eval())"
   ]
  },
  {
   "cell_type": "markdown",
   "metadata": {},
   "source": [
    "# Placeholders"
   ]
  },
  {
   "cell_type": "markdown",
   "metadata": {},
   "source": [
    "`tf.placeholder(dtype, shape=None, name=None)`\n",
    "\n",
    "Inserts a placeholder for a tensor that will be always fed.\n",
    "\n",
    "**Important**: This tensor will produce an error if evaluated. Its value must be fed using the `feed_dict` optional argument to `Session.run()`, `Tensor.eval()`, or `Operation.run()`.\n",
    "\n",
    "* `dtype`: The type of elements in the tensor to be fed.\n",
    "* `shape`: The shape of the tensor to be fed (optional). If the shape is not specified, you can feed a tensor of any shape.\n",
    "* `name`: A name for the operation (optional).\n",
    "\n",
    "Analogy:\n",
    "\n",
    "Can define the function $f(x, y) = x*2 + y$ without knowing value of $x$ or $y$. $x, y$ are placeholders for the actual values. Can assemble the graph first without knowing the values needed for computation.\n"
   ]
  },
  {
   "cell_type": "code",
   "execution_count": 18,
   "metadata": {},
   "outputs": [
    {
     "name": "stdout",
     "output_type": "stream",
     "text": [
      "[array([[14.]], dtype=float32), array([[2., 4., 6.]], dtype=float32)]\n",
      "[[0. 0. 0.]]\n",
      "[[2. 2. 2.]]\n",
      "[[4. 4. 4.]]\n",
      "[[6. 6. 6.]]\n",
      "[[8. 8. 8.]]\n",
      "[[10. 10. 10.]]\n",
      "[[12. 12. 12.]]\n",
      "[[14. 14. 14.]]\n",
      "[[16. 16. 16.]]\n",
      "[[18. 18. 18.]]\n"
     ]
    }
   ],
   "source": [
    "tf.reset_default_graph()\n",
    "\n",
    "x = tf.placeholder(shape=(1, 3), dtype=tf.float32, name=\"x\")\n",
    "y = tf.matmul(x, tf.transpose(x), name=\"y\")\n",
    "z = tf.multiply(x, 2, name=\"z\")\n",
    "\n",
    "with tf.Session() as sess:\n",
    "    \n",
    "    # ERROR: will fail because x was not fed.\n",
    "    # print(sess.run(y))\n",
    "    \n",
    "    writer = tf.summary.FileWriter('./graphs', sess.graph)\n",
    "    print(sess.run([y, z], feed_dict={x: [[1, 2, 3]]}))  # Will succeed.\n",
    "    \n",
    "    # Feed multiple data points in placeholder\n",
    "    for i in range(10):\n",
    "        print(sess.run(z, {x : [[i, i, i]]}))\n",
    "    \n",
    "writer.close()"
   ]
  },
  {
   "cell_type": "markdown",
   "metadata": {},
   "source": [
    "# Saving and Restoring"
   ]
  },
  {
   "cell_type": "code",
   "execution_count": 19,
   "metadata": {},
   "outputs": [
    {
     "name": "stdout",
     "output_type": "stream",
     "text": [
      "[array([0.16410099], dtype=float32), array([-0.3397109], dtype=float32)]\n",
      "[-0.01150891]\n",
      "[array([2.164101], dtype=float32), array([-1.339711], dtype=float32)]\n",
      "[2.9884908]\n",
      "Model saved\n"
     ]
    }
   ],
   "source": [
    "tf.reset_default_graph()\n",
    "\n",
    "# Create some variables.\n",
    "a = tf.Variable(tf.random_normal([1]), name=\"a\")\n",
    "b = tf.Variable(tf.random_normal([1]), name=\"b\")\n",
    "\n",
    "x = tf.placeholder(shape=[1], dtype=tf.float32, name=\"x\")\n",
    "\n",
    "y = tf.add(tf.multiply(a, x), b, name=\"y\")\n",
    "\n",
    "# Add an op to initialize the variables.\n",
    "init_op = tf.global_variables_initializer()\n",
    "\n",
    "# Add ops to save and restore all the variables.\n",
    "saver = tf.train.Saver()\n",
    "\n",
    "with tf.Session() as sess:\n",
    "    \n",
    "    sess.run(init_op)\n",
    "    \n",
    "    print(sess.run([a, b]))\n",
    "    print(sess.run(y, feed_dict={x: [2.0]}))\n",
    "    \n",
    "    sess.run(a.assign_add([2.0]))\n",
    "    sess.run(b.assign_sub([1.0]))\n",
    "    \n",
    "    print(sess.run([a, b]))\n",
    "    print(sess.run(y, feed_dict={x: [2.0]}))\n",
    "    \n",
    "    saver.save(sess, './models/liner_function_model')\n",
    "    print('Model saved')"
   ]
  },
  {
   "cell_type": "code",
   "execution_count": 20,
   "metadata": {},
   "outputs": [
    {
     "name": "stdout",
     "output_type": "stream",
     "text": [
      "INFO:tensorflow:Restoring parameters from ./models/liner_function_model\n",
      "[2.9884908]\n"
     ]
    }
   ],
   "source": [
    "with tf.Session() as sess:\n",
    "    model = tf.train.import_meta_graph('./models/liner_function_model.meta')\n",
    "    model.restore(sess, tf.train.latest_checkpoint('./models/'))\n",
    "    graph = tf.get_default_graph()\n",
    "    # x = graph.get_tensor_by_name(\"x:0\")\n",
    "    # y = graph.get_tensor_by_name(\"y:0\")\n",
    "    print(sess.run(\"y:0\", feed_dict={\"x:0\": [2.0]}))"
   ]
  },
  {
   "cell_type": "markdown",
   "metadata": {},
   "source": [
    "# Resources"
   ]
  },
  {
   "cell_type": "markdown",
   "metadata": {},
   "source": [
    "1. [TensorFlow: Programmer's Guide][1]\n",
    "2. [CS 20: Tensorflow for Deep Learning Research][2]\n",
    "\n",
    "[1]: https://www.tensorflow.org/programmers_guide/\n",
    "[2]: http://web.stanford.edu/class/cs20si/"
   ]
  },
  {
   "cell_type": "code",
   "execution_count": null,
   "metadata": {},
   "outputs": [],
   "source": []
  }
 ],
 "metadata": {
  "kernelspec": {
   "display_name": "Python 3",
   "language": "python",
   "name": "python3"
  },
  "language_info": {
   "codemirror_mode": {
    "name": "ipython",
    "version": 3
   },
   "file_extension": ".py",
   "mimetype": "text/x-python",
   "name": "python",
   "nbconvert_exporter": "python",
   "pygments_lexer": "ipython3",
   "version": "3.6.3"
  }
 },
 "nbformat": 4,
 "nbformat_minor": 2
}

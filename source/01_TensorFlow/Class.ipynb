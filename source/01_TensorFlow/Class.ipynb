{
 "cells": [
  {
   "cell_type": "markdown",
   "metadata": {},
   "source": [
    "# Introduction to TensorFlow"
   ]
  },
  {
   "cell_type": "markdown",
   "metadata": {},
   "source": [
    "# Table of Contents"
   ]
  },
  {
   "cell_type": "markdown",
   "metadata": {},
   "source": [
    "1. Graph and session\n",
    "2. Tensor <br>\n",
    "    2.1. Constants, Sequences, and Random Values <br>\n",
    "    2.2. Variables <br>\n",
    "    2.3. Placeholders\n",
    "5. Saving and Restoring"
   ]
  },
  {
   "cell_type": "markdown",
   "metadata": {},
   "source": [
    "# 1. Graph and session"
   ]
  },
  {
   "cell_type": "code",
   "execution_count": 3,
   "metadata": {},
   "outputs": [],
   "source": [
    "import tensorflow as tf"
   ]
  },
  {
   "cell_type": "code",
   "execution_count": 10,
   "metadata": {},
   "outputs": [
    {
     "name": "stdout",
     "output_type": "stream",
     "text": [
      "15\n",
      "15\n"
     ]
    }
   ],
   "source": [
    "a = tf.constant(5)\n",
    "b = tf.constant(3)\n",
    "c = tf.multiply(a, b)\n",
    "\n",
    "sess = tf.Session()\n",
    "\n",
    "print(sess.run(c))\n",
    "\n",
    "sess.close()\n",
    "\n",
    "with tf.Session() as sess:\n",
    "    \n",
    "    print(sess.run(c))"
   ]
  },
  {
   "cell_type": "markdown",
   "metadata": {},
   "source": [
    "# 2. Tensors"
   ]
  },
  {
   "cell_type": "markdown",
   "metadata": {},
   "source": [
    "## 2.1. Constants, Sequences, and Random Values"
   ]
  },
  {
   "cell_type": "code",
   "execution_count": null,
   "metadata": {},
   "outputs": [],
   "source": [
    "# tensorboard --logdir=PATH"
   ]
  },
  {
   "cell_type": "code",
   "execution_count": 11,
   "metadata": {},
   "outputs": [
    {
     "name": "stdout",
     "output_type": "stream",
     "text": [
      "4\n"
     ]
    }
   ],
   "source": [
    "a = tf.constant(1, name=\"a\")\n",
    "b = tf.constant(3, name=\"b\")\n",
    "x = tf.add(a, b, name=\"add\")\n",
    "\n",
    "with tf.Session() as sess:\n",
    "    writer = tf.summary.FileWriter('./graphs', sess.graph)\n",
    "    print(sess.run(x))\n",
    "writer.close()"
   ]
  },
  {
   "cell_type": "code",
   "execution_count": 16,
   "metadata": {},
   "outputs": [
    {
     "name": "stdout",
     "output_type": "stream",
     "text": [
      "[[2 3]\n",
      " [4 5]]\n",
      "\n",
      "[[0 2]\n",
      " [4 6]]\n",
      "\n",
      "[[4 8]]\n"
     ]
    }
   ],
   "source": [
    "tf.reset_default_graph()\n",
    "\n",
    "a = tf.constant([[2, 2]], name=\"a\")\n",
    "b = tf.constant([[0, 1], [2, 3]], name=\"b\")\n",
    "\n",
    "x = tf.add(a, b, name=\"add\")\n",
    "y = tf.multiply(a, b, name=\"mul\")\n",
    "\n",
    "z = tf.matmul(a, b, name=\"matmul\")\n",
    "\n",
    "with tf.Session() as sess:\n",
    "    \n",
    "    print(sess.run(x))\n",
    "    print()\n",
    "    print(sess.run(y))\n",
    "    print()\n",
    "    print(sess.run(z))"
   ]
  },
  {
   "cell_type": "code",
   "execution_count": 19,
   "metadata": {},
   "outputs": [
    {
     "name": "stdout",
     "output_type": "stream",
     "text": [
      "[[0]\n",
      " [0]]\n",
      "\n",
      "[[[4. 4. 4.]]\n",
      "\n",
      " [[4. 4. 4.]]]\n"
     ]
    }
   ],
   "source": [
    "a = tf.zeros(shape=[2, 1], dtype=tf.int32, name=\"a\")\n",
    "b = tf.fill([2, 1, 3], 4.0)\n",
    "\n",
    "with tf.Session() as sess:\n",
    "    \n",
    "    print(sess.run(a))\n",
    "    print()\n",
    "    print(sess.run(b))"
   ]
  },
  {
   "cell_type": "code",
   "execution_count": 22,
   "metadata": {},
   "outputs": [
    {
     "name": "stdout",
     "output_type": "stream",
     "text": [
      "[10.  10.5 11.  11.5 12. ]\n",
      "[1 3 5 7 9]\n"
     ]
    }
   ],
   "source": [
    "a = tf.linspace(10.0, 12.0, 5)\n",
    "b = tf.range(1, 10, 2)\n",
    "\n",
    "with tf.Session() as sess:\n",
    "    print(sess.run(a))\n",
    "    print(sess.run(b))"
   ]
  },
  {
   "cell_type": "code",
   "execution_count": 23,
   "metadata": {},
   "outputs": [
    {
     "name": "stdout",
     "output_type": "stream",
     "text": [
      "[[-10.481074   -1.9077125  -4.1953936]\n",
      " [ -3.3815193   2.1222029   2.3484426]]\n",
      "\n",
      "[[5.637683  4.143921  3.3832204]]\n"
     ]
    }
   ],
   "source": [
    "norm = tf.random_normal([2, 3], mean=-1, stddev=4)\n",
    "unif = tf.random_uniform([1, 3], minval=0, maxval=10)\n",
    "\n",
    "with tf.Session() as sess:\n",
    "    print(sess.run(norm))\n",
    "    print()\n",
    "    print(sess.run(unif))"
   ]
  },
  {
   "cell_type": "markdown",
   "metadata": {},
   "source": [
    "## 2.2. Variables"
   ]
  },
  {
   "cell_type": "code",
   "execution_count": 36,
   "metadata": {},
   "outputs": [
    {
     "name": "stdout",
     "output_type": "stream",
     "text": [
      "2\n",
      "[[0 1]\n",
      " [2 3]]\n",
      "[[0 0]\n",
      " [0 0]]\n",
      "[[8.33042  8.724636 4.703435]]\n"
     ]
    }
   ],
   "source": [
    "a = tf.Variable(2, name=\"scalar\")\n",
    "b = tf.Variable([[0, 1], [2, 3]], name=\"matrix\")\n",
    "c = tf.Variable(tf.zeros([2, 2], dtype=tf.int32), name=\"zeros\")\n",
    "d = tf.Variable(tf.random_uniform([1, 3], minval=0, maxval=10), name=\"random_init\")\n",
    "# init_ab = tf.variable_initializer([a, b], name=\"init_ab\")\n",
    "init_op = tf.global_variables_initializer()\n",
    "with tf.Session() as sess:\n",
    "    # sess.run(init_ab)\n",
    "    sess.run(init_op)\n",
    "    print(sess.run(a))\n",
    "    print(sess.run(b))\n",
    "    print(sess.run(c))\n",
    "    print(sess.run(d))"
   ]
  },
  {
   "cell_type": "markdown",
   "metadata": {},
   "source": [
    "## 2.3. Placeholders"
   ]
  },
  {
   "cell_type": "code",
   "execution_count": 43,
   "metadata": {},
   "outputs": [
    {
     "name": "stdout",
     "output_type": "stream",
     "text": [
      "[[14.]]\n",
      "[[2. 4. 6.]]\n",
      "[[0. 0. 0.]]\n",
      "[[2. 2. 2.]]\n",
      "[[4. 4. 4.]]\n",
      "[[6. 6. 6.]]\n",
      "[[8. 8. 8.]]\n",
      "[[10. 10. 10.]]\n",
      "[[12. 12. 12.]]\n",
      "[[14. 14. 14.]]\n",
      "[[16. 16. 16.]]\n",
      "[[18. 18. 18.]]\n"
     ]
    }
   ],
   "source": [
    "tf.reset_default_graph()\n",
    "\n",
    "x = tf.placeholder(shape=[1, 3], dtype=tf.float32, name=\"x\")\n",
    "y = tf.matmul(x, tf.transpose(x), name=\"y\")\n",
    "z = tf.multiply(x, 2, name=\"z\")\n",
    "\n",
    "with tf.Session() as sess:\n",
    "    writer = tf.summary.FileWriter('./graphs', sess.graph)\n",
    "    print(sess.run(y, feed_dict={x: [[1, 2, 3]]}))\n",
    "    print(sess.run(z, feed_dict={x: [[1, 2, 3]]}))\n",
    "    # print(sess.run([y, z] feed_dict={x: [[1, 2, 3]]}))\n",
    "    for i in range(10):\n",
    "        print(sess.run(z, feed_dict={x: [[i, i, i]]}))\n",
    "\n",
    "writer.close()"
   ]
  },
  {
   "cell_type": "markdown",
   "metadata": {},
   "source": [
    "# 3. Saving and Restoring"
   ]
  },
  {
   "cell_type": "code",
   "execution_count": 52,
   "metadata": {},
   "outputs": [
    {
     "name": "stdout",
     "output_type": "stream",
     "text": [
      "[array([-1.6198103], dtype=float32), array([-1.0922256], dtype=float32)]\n",
      "[-4.331846]\n"
     ]
    }
   ],
   "source": [
    "tf.reset_default_graph()\n",
    "\n",
    "a = tf.Variable(tf.random_normal([1]), name=\"a\")\n",
    "b = tf.Variable(tf.random_normal([1]), name=\"b\")\n",
    "\n",
    "x = tf.placeholder(shape=[1], dtype=tf.float32, name=\"x\")\n",
    "\n",
    "y = tf.add(tf.multiply(a, x), b, name=\"y\")\n",
    "\n",
    "init_op = tf.global_variables_initializer()\n",
    "\n",
    "saver = tf.train.Saver()\n",
    "\n",
    "with tf.Session() as sess:\n",
    "    \n",
    "    sess.run(init_op)\n",
    "    print(sess.run([a, b]))\n",
    "    print(sess.run(y, feed_dict={x: [2.0]}))\n",
    "    \n",
    "    saver.save(sess, './models/modellll')"
   ]
  },
  {
   "cell_type": "code",
   "execution_count": 53,
   "metadata": {},
   "outputs": [
    {
     "name": "stdout",
     "output_type": "stream",
     "text": [
      "INFO:tensorflow:Restoring parameters from ./models/modellll\n",
      "[-4.331846]\n"
     ]
    }
   ],
   "source": [
    "with tf.Session() as sess:\n",
    "    model = tf.train.import_meta_graph('./models/modellll.meta')\n",
    "    model.restore(sess, tf.train.latest_checkpoint('./models/'))\n",
    "    graph = tf.get_default_graph()\n",
    "    x = graph.get_tensor_by_name(\"x:0\")\n",
    "    y = graph.get_tensor_by_name(\"y:0\")\n",
    "    print(sess.run(y, feed_dict={x: [2.0]}))"
   ]
  }
 ],
 "metadata": {
  "kernelspec": {
   "display_name": "Python 3",
   "language": "python",
   "name": "python3"
  },
  "language_info": {
   "codemirror_mode": {
    "name": "ipython",
    "version": 3
   },
   "file_extension": ".py",
   "mimetype": "text/x-python",
   "name": "python",
   "nbconvert_exporter": "python",
   "pygments_lexer": "ipython3",
   "version": "3.6.3"
  }
 },
 "nbformat": 4,
 "nbformat_minor": 2
}

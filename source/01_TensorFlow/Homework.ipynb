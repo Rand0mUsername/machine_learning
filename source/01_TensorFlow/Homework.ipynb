{
 "cells": [
  {
   "cell_type": "code",
   "execution_count": 2,
   "metadata": {},
   "outputs": [],
   "source": [
    "import tensorflow as tf"
   ]
  },
  {
   "cell_type": "markdown",
   "metadata": {},
   "source": [
    "### 1. Naći indeks najmanje i najveće vrednost u datim tenzorima. Probati sa različitim osama tenzora."
   ]
  },
  {
   "cell_type": "code",
   "execution_count": null,
   "metadata": {},
   "outputs": [],
   "source": []
  },
  {
   "cell_type": "markdown",
   "metadata": {},
   "source": [
    "### 2. Naći prosek u tenzoru. Probati sa različitim osama tenzora."
   ]
  },
  {
   "cell_type": "code",
   "execution_count": null,
   "metadata": {},
   "outputs": [],
   "source": []
  },
  {
   "cell_type": "markdown",
   "metadata": {},
   "source": [
    "### 3. Naći sumu tenzora. Probati sa različitim osama tenzora."
   ]
  },
  {
   "cell_type": "code",
   "execution_count": null,
   "metadata": {},
   "outputs": [],
   "source": []
  },
  {
   "cell_type": "markdown",
   "metadata": {},
   "source": [
    "### 4. Naći prosek random tenzora oblika (4, 3) koji se dobija iz normalne raspodele sa prosekom $\\mu=5$ i standardnom devijacijom $\\sigma=7$. Obratiti pažnju da je neophodno raditi proseke po kolonama."
   ]
  },
  {
   "cell_type": "code",
   "execution_count": null,
   "metadata": {},
   "outputs": [],
   "source": []
  },
  {
   "cell_type": "markdown",
   "metadata": {},
   "source": [
    "### 5. Napisati program koji rešava dati sistem linearni jednačina.\n",
    "$$\n",
    "    \\begin{array}{c} \n",
    "    a_{11}x + a_{12}y = b_{11} \\\\ \n",
    "    a_{21}x + a_{22}y = b_{21} \\\\ \n",
    "    \\end{array} \n",
    "$$"
   ]
  },
  {
   "cell_type": "code",
   "execution_count": null,
   "metadata": {},
   "outputs": [],
   "source": []
  },
  {
   "cell_type": "markdown",
   "metadata": {},
   "source": [
    "### 6. Napisati program koji nalazi rešenja kvadratne jednačine oblika $ax^{2} + bx + c$, za proizvoljne $a, b, c$ koeficijente, pri čemu $a\\ne 0$."
   ]
  },
  {
   "cell_type": "code",
   "execution_count": null,
   "metadata": {},
   "outputs": [],
   "source": []
  },
  {
   "cell_type": "markdown",
   "metadata": {},
   "source": [
    "### 7. Naći minimum funkcije $y=x^2$ korišćenjem [Gradijentalnog spusta](https://en.wikipedia.org/wiki/Gradient_descent), iterativnog algoritma za optimizaciju.\n",
    "Hint : tf.train.GradientDescentOptimizer(learning_rate).minimize(function)"
   ]
  },
  {
   "cell_type": "code",
   "execution_count": null,
   "metadata": {},
   "outputs": [],
   "source": []
  }
 ],
 "metadata": {
  "kernelspec": {
   "display_name": "Python 3",
   "language": "python",
   "name": "python3"
  },
  "language_info": {
   "codemirror_mode": {
    "name": "ipython",
    "version": 3
   },
   "file_extension": ".py",
   "mimetype": "text/x-python",
   "name": "python",
   "nbconvert_exporter": "python",
   "pygments_lexer": "ipython3",
   "version": "3.6.3"
  }
 },
 "nbformat": 4,
 "nbformat_minor": 2
}

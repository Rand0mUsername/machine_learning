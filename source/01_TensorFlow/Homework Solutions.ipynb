{
 "cells": [
  {
   "cell_type": "code",
   "execution_count": 2,
   "metadata": {},
   "outputs": [],
   "source": [
    "import tensorflow as tf"
   ]
  },
  {
   "cell_type": "markdown",
   "metadata": {},
   "source": [
    "### 1. Naći indeks najmanje i najveće vrednost u datim tenzorima. Probati sa različitim osama tenzora."
   ]
  },
  {
   "cell_type": "code",
   "execution_count": 96,
   "metadata": {},
   "outputs": [
    {
     "name": "stdout",
     "output_type": "stream",
     "text": [
      "4\n",
      "[2 1 1]\n",
      "3\n",
      "[0 2 0]\n"
     ]
    }
   ],
   "source": [
    "a = tf.constant([1, 4, 10, 50, 0, 10, 2, 3], name='a')\n",
    "b = tf.constant([[10, 1, 2], [1, 0, -1], [-2, 13, 0]], name='b')\n",
    "\n",
    "with tf.Session() as sess:\n",
    "    \n",
    "    print(sess.run(tf.argmin(a, 0)))\n",
    "    print(sess.run(tf.argmin(b, axis=0)))\n",
    "    \n",
    "    print(sess.run(tf.argmax(a, 0)))\n",
    "    print(sess.run(tf.argmax(b, axis=0)))"
   ]
  },
  {
   "cell_type": "markdown",
   "metadata": {},
   "source": [
    "### 2. Naći prosek u tenzoru. Probati sa različitim osama tenzora."
   ]
  },
  {
   "cell_type": "code",
   "execution_count": 100,
   "metadata": {},
   "outputs": [
    {
     "name": "stdout",
     "output_type": "stream",
     "text": [
      "581\n",
      "[716 446]\n",
      "[ 665   30 1050]\n"
     ]
    }
   ],
   "source": [
    "a = tf.constant([[1200, 130], [50, 10], [900, 1200]])\n",
    "\n",
    "with tf.Session() as sess:\n",
    "    \n",
    "    print(sess.run(tf.reduce_mean(a)))\n",
    "    print(sess.run(tf.reduce_mean(a, axis=0)))\n",
    "    print(sess.run(tf.reduce_mean(a, axis=1)))"
   ]
  },
  {
   "cell_type": "markdown",
   "metadata": {},
   "source": [
    "### 3. Naći sumu tenzora. Probati sa različitim osama tenzora."
   ]
  },
  {
   "cell_type": "code",
   "execution_count": 101,
   "metadata": {},
   "outputs": [
    {
     "name": "stdout",
     "output_type": "stream",
     "text": [
      "7\n",
      "[3 4]\n",
      "[4 2 1]\n"
     ]
    }
   ],
   "source": [
    "a = tf.constant([[1, 3], [2, 0], [0, 1]])\n",
    "\n",
    "with tf.Session() as sess:\n",
    "    \n",
    "    print(sess.run(tf.reduce_sum(a)))\n",
    "    print(sess.run(tf.reduce_sum(a, 0)))\n",
    "    print(sess.run(tf.reduce_sum(a, 1)))"
   ]
  },
  {
   "cell_type": "markdown",
   "metadata": {},
   "source": [
    "### 4. Naći prosek random tenzora oblika (4, 3) koji se dobija iz normalne raspodele sa proskom $\\mu=5$ i standardnom devijacijom $\\sigma=7$. Obratiti pažnju da je neophodno raditi proske po kolonama."
   ]
  },
  {
   "cell_type": "code",
   "execution_count": 109,
   "metadata": {},
   "outputs": [
    {
     "name": "stdout",
     "output_type": "stream",
     "text": [
      "[[ 8.113598  -5.6435156  8.954301 ]\n",
      " [12.320296  11.368067   0.9636698]\n",
      " [ 2.5194013 16.042938   1.8242159]\n",
      " [ 9.144661   8.56468    2.8091257]]\n",
      "[8.024489  7.5830426 3.637828 ]\n",
      "[[ 8.113598  -5.6435156  8.954301 ]\n",
      " [12.320296  11.368067   0.9636698]\n",
      " [ 2.5194013 16.042938   1.8242159]\n",
      " [ 9.144661   8.56468    2.8091257]]\n"
     ]
    }
   ],
   "source": [
    "norm = tf.Variable(tf.random_normal([4, 3], mean=5, stddev=7))\n",
    "\n",
    "with tf.Session() as sess:\n",
    "    \n",
    "    sess.run(tf.global_variables_initializer())\n",
    "    \n",
    "    print(sess.run(norm))\n",
    "    \n",
    "    print(sess.run(tf.reduce_mean(norm, 0)))\n",
    "    \n",
    "    print(sess.run(norm))"
   ]
  },
  {
   "cell_type": "markdown",
   "metadata": {},
   "source": [
    "### 5. Napisati program koji rešava dati sistem linearni jednačina.\n",
    "$$\n",
    "    \\begin{array}{c} \n",
    "    a_{11}x + a_{12}y = b_{11} \\\\ \n",
    "    a_{21}x + a_{22}y = b_{21} \\\\ \n",
    "    \\end{array} \n",
    "$$"
   ]
  },
  {
   "cell_type": "code",
   "execution_count": 116,
   "metadata": {},
   "outputs": [
    {
     "name": "stdout",
     "output_type": "stream",
     "text": [
      "[[3.1818182]\n",
      " [2.7272727]]\n"
     ]
    }
   ],
   "source": [
    "A = tf.Variable(tf.zeros([2, 2]), dtype=tf.float32)\n",
    "B = tf.Variable(tf.zeros([2, 1]), dtype=tf.float32)\n",
    "\n",
    "X = tf.matmul(tf.matrix_inverse(A), B)\n",
    "\n",
    "with tf.Session() as sess:\n",
    "    \n",
    "    print(sess.run(X, feed_dict={A:[[3, 2], [4, -1]], B:[[15], [10]]}))"
   ]
  },
  {
   "cell_type": "markdown",
   "metadata": {},
   "source": [
    "### 6. Napisati program koji nalazi rešenja kvadratne jednačine oblika $ax^{2} + bx + c$, za proizvoljne $a, b, c$ koeficijente, pri čemu $a\\ne 0$."
   ]
  },
  {
   "cell_type": "code",
   "execution_count": 113,
   "metadata": {},
   "outputs": [
    {
     "name": "stdout",
     "output_type": "stream",
     "text": [
      "[-2.0, -3.0]\n",
      "[-0.2, -1.0]\n"
     ]
    }
   ],
   "source": [
    "a = tf.placeholder(tf.float32)\n",
    "b = tf.placeholder(tf.float32)\n",
    "c = tf.placeholder(tf.float32)\n",
    "\n",
    "d = tf.sqrt(tf.pow(b, 2) - 4*a*c)\n",
    "\n",
    "x1 = tf.divide(-b + d, 2*a)\n",
    "x2 = tf.divide(-b - d, 2*a)\n",
    "\n",
    "\n",
    "with tf.Session() as sess:\n",
    "    \n",
    "    print(sess.run([x1, x2], feed_dict={a:1, b:5, c:6}))\n",
    "    \n",
    "    print(sess.run([x1, x2], feed_dict={a:5, b:6, c:1}))"
   ]
  },
  {
   "cell_type": "markdown",
   "metadata": {},
   "source": [
    "### 7. Naći minimum funkcije $y=x^2$ korišćenjem [Gradijentalnog spusta](https://en.wikipedia.org/wiki/Gradient_descent), iterativnog algoritma za optimizaciju.\n",
    "Hint : tf.train.GradientDescentOptimizer(learning_rate).minimize(function)"
   ]
  },
  {
   "cell_type": "code",
   "execution_count": 30,
   "metadata": {},
   "outputs": [],
   "source": [
    "x = tf.Variable(2.0, dtype=tf.float32, name='x') \n",
    "y = tf.pow(x, 2)"
   ]
  },
  {
   "cell_type": "code",
   "execution_count": 31,
   "metadata": {},
   "outputs": [],
   "source": [
    "learning_rate = 0.001\n",
    "optimizer = tf.train.GradientDescentOptimizer(learning_rate).minimize(y)"
   ]
  },
  {
   "cell_type": "code",
   "execution_count": 37,
   "metadata": {},
   "outputs": [
    {
     "name": "stdout",
     "output_type": "stream",
     "text": [
      "[2.0, 4.0]\n",
      "[4.0, 16.0]\n",
      "iteration:    0, x: 3.992000\n",
      "Minimum of function is y=15 at value x=3\n"
     ]
    }
   ],
   "source": [
    "with tf.Session() as sess:\n",
    "    \n",
    "    sess.run(tf.global_variables_initializer())\n",
    "\n",
    "    print(sess.run([x, y]))\n",
    "\n",
    "    sess.run(x.assign(4.0))\n",
    "    print(sess.run([x, y]))\n",
    "    \n",
    "    for i in range(1):\n",
    "        \n",
    "        sess.run(optimizer)\n",
    "        \n",
    "        if i % 1000 == 0:\n",
    "            print(\"iteration: %4d, x: %4f\" % (i, sess.run(x)))\n",
    "        \n",
    "    print(\"Minimum of function is y=%d at value x=%d\" % (sess.run(y), sess.run(x)))"
   ]
  }
 ],
 "metadata": {
  "kernelspec": {
   "display_name": "Python 3",
   "language": "python",
   "name": "python3"
  },
  "language_info": {
   "codemirror_mode": {
    "name": "ipython",
    "version": 3
   },
   "file_extension": ".py",
   "mimetype": "text/x-python",
   "name": "python",
   "nbconvert_exporter": "python",
   "pygments_lexer": "ipython3",
   "version": "3.6.3"
  }
 },
 "nbformat": 4,
 "nbformat_minor": 2
}

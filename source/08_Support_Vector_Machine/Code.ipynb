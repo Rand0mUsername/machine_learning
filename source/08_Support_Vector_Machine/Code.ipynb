{
 "cells": [
  {
   "cell_type": "markdown",
   "metadata": {},
   "source": [
    "### Today:\n",
    "* Support Vector Machine\n",
    "    * Linear SVM\n",
    "        * Hard-margin\n",
    "        * Soft-margin\n",
    "    * Nonlinear SVM\n",
    "\n",
    "### Resources:\n",
    "* Support Vector Machine: https://www.svm-tutorial.com/\n",
    "* Support Vector Machine: http://cs229.stanford.edu/notes/cs229-notes3.pdf\n",
    "* Support Vector Machine: http://web.mit.edu/zoya/www/SVM.pdf"
   ]
  },
  {
   "cell_type": "markdown",
   "metadata": {},
   "source": [
    "# Soft-margin SVM"
   ]
  },
  {
   "cell_type": "code",
   "execution_count": 1,
   "metadata": {},
   "outputs": [],
   "source": [
    "# Import necessary libraries\n",
    "import numpy as np\n",
    "import tensorflow as tf\n",
    "import matplotlib.pyplot as plt\n",
    "%matplotlib inline\n",
    "tf.reset_default_graph()"
   ]
  },
  {
   "cell_type": "code",
   "execution_count": 2,
   "metadata": {},
   "outputs": [],
   "source": [
    "# Load dataset as numpy array\n",
    "data = np.loadtxt('../../data/03_LogisticRegression/lr_data.csv', delimiter=',')"
   ]
  },
  {
   "cell_type": "code",
   "execution_count": 3,
   "metadata": {},
   "outputs": [
    {
     "data": {
      "text/plain": [
       "<matplotlib.legend.Legend at 0x7f3c2b49ba20>"
      ]
     },
     "execution_count": 3,
     "metadata": {},
     "output_type": "execute_result"
    },
    {
     "data": {
      "image/png": "[encoded data removed]",
      "text/plain": [
       "<matplotlib.figure.Figure at 0x7f3c2d541c88>"
      ]
     },
     "metadata": {},
     "output_type": "display_data"
    }
   ],
   "source": [
    "# Find index of samples with class 0\n",
    "idx = data[:, 2] == 0.0\n",
    "\n",
    "# Plot dataset\n",
    "fig, ax = plt.subplots()\n",
    "ax.set_xlabel('Feature 1')\n",
    "ax.set_ylabel('Feature 2')\n",
    "ax.scatter(data[idx][:, 0], data[idx][:,1], c='b', edgecolors='k', label='Class 0')\n",
    "ax.scatter(data[~idx][:,0], data[~idx][:,1], c='g', edgecolors='k', label='Class 1')\n",
    "ax.grid(True, color='gray', linestyle='dashed')\n",
    "ax.legend()"
   ]
  },
  {
   "cell_type": "code",
   "execution_count": 4,
   "metadata": {},
   "outputs": [
    {
     "name": "stdout",
     "output_type": "stream",
     "text": [
      "(200, 2) (200, 1)\n"
     ]
    }
   ],
   "source": [
    "# Split dataset on features and labels\n",
    "x_data = data[:, :2]\n",
    "y_data = data[:, 2].reshape(len(data), 1)\n",
    "print(x_data.shape, y_data.shape)"
   ]
  },
  {
   "cell_type": "code",
   "execution_count": 7,
   "metadata": {},
   "outputs": [],
   "source": [
    "# Convert labels to -1, 1\n",
    "y_data[y_data==0] = -1"
   ]
  },
  {
   "cell_type": "code",
   "execution_count": 21,
   "metadata": {},
   "outputs": [],
   "source": [
    "# Data parameters\n",
    "n_features = 2\n",
    "n_labels = 1\n",
    "\n",
    "train_size = len(data) # 300\n",
    "# train_split = 0.85 # 85% data in train set, 15% in test set\n",
    "# split = int(train_split * train_size) # Split boundry, check for yourself!\n",
    "\n",
    "# Training parameters\n",
    "n_epoch = 100\n",
    "svmC = 1\n",
    "batch_size = 100"
   ]
  },
  {
   "cell_type": "markdown",
   "metadata": {},
   "source": [
    "## Model"
   ]
  },
  {
   "cell_type": "code",
   "execution_count": 22,
   "metadata": {},
   "outputs": [],
   "source": [
    "# Graph input\n",
    "X = tf.placeholder(tf.float32, [None, n_features], \"X\")\n",
    "y = tf.placeholder(tf.float32, [None, n_labels], \"y\")\n",
    "\n",
    "# Model parameters\n",
    "W = tf.Variable(tf.zeros([n_features, n_labels])) # random_normal\n",
    "b = tf.Variable(tf.zeros([n_labels]))"
   ]
  },
  {
   "cell_type": "code",
   "execution_count": 23,
   "metadata": {},
   "outputs": [],
   "source": [
    "hypothesis = tf.add(tf.matmul(X, W), b)"
   ]
  },
  {
   "cell_type": "markdown",
   "metadata": {},
   "source": [
    "## Cost"
   ]
  },
  {
   "cell_type": "code",
   "execution_count": 24,
   "metadata": {},
   "outputs": [],
   "source": [
    "regularization_loss = 0.5 * tf.reduce_sum(tf.square(W)) \n",
    "hinge_loss = tf.reduce_sum(tf.maximum(tf.zeros([batch_size, 1]),  1 - y * hypothesis));\n",
    "svm_loss = regularization_loss + svmC * hinge_loss"
   ]
  },
  {
   "cell_type": "markdown",
   "metadata": {},
   "source": [
    "## Optimization"
   ]
  },
  {
   "cell_type": "code",
   "execution_count": 25,
   "metadata": {},
   "outputs": [],
   "source": [
    "train_step = tf.train.GradientDescentOptimizer(0.01).minimize(svm_loss)"
   ]
  },
  {
   "cell_type": "markdown",
   "metadata": {},
   "source": [
    "## Evaluation"
   ]
  },
  {
   "cell_type": "code",
   "execution_count": 26,
   "metadata": {},
   "outputs": [],
   "source": [
    "predicted_class = tf.sign(hypothesis)\n",
    "correct_prediction = tf.equal(y, predicted_class)\n",
    "accuracy = tf.reduce_mean(tf.cast(correct_prediction, \"float\"))"
   ]
  },
  {
   "cell_type": "markdown",
   "metadata": {},
   "source": [
    "## Train"
   ]
  },
  {
   "cell_type": "code",
   "execution_count": 50,
   "metadata": {},
   "outputs": [
    {
     "name": "stdout",
     "output_type": "stream",
     "text": [
      "loss:  310.24094\n",
      "loss:  191.38383\n",
      "loss:  120.67768\n",
      "loss:  42.4725\n",
      "loss:  145.2155\n",
      "loss:  323.91782\n",
      "loss:  266.54263\n",
      "loss:  155.59915\n",
      "loss:  85.405365\n",
      "loss:  25.414406\n",
      "loss:  103.460594\n",
      "loss:  310.20538\n",
      "loss:  251.5874\n",
      "loss:  150.94864\n",
      "loss:  80.704094\n",
      "loss:  23.006945\n",
      "loss:  55.94291\n",
      "loss:  256.0666\n",
      "loss:  191.11568\n",
      "loss:  107.4217\n",
      "loss:  40.858482\n",
      "loss:  19.993053\n",
      "loss:  23.699492\n",
      "loss:  24.003094\n",
      "loss:  60.694088\n",
      "loss:  17.414022\n",
      "loss:  25.506239\n",
      "loss:  84.799774\n",
      "loss:  26.172161\n",
      "loss:  28.787527\n",
      "loss:  80.29953\n",
      "loss:  27.918875\n",
      "loss:  14.487747\n",
      "loss:  24.894268\n",
      "loss:  16.052647\n",
      "loss:  28.546886\n",
      "loss:  14.250012\n",
      "loss:  23.274965\n",
      "loss:  14.115085\n",
      "loss:  17.168552\n",
      "loss:  14.448767\n",
      "loss:  22.683418\n",
      "loss:  14.100664\n",
      "loss:  18.65981\n",
      "loss:  16.750072\n",
      "loss:  30.829367\n",
      "loss:  14.086564\n",
      "loss:  17.491003\n",
      "loss:  16.789549\n",
      "loss:  32.787754\n",
      "loss:  14.28357\n",
      "loss:  16.218374\n",
      "loss:  16.434965\n",
      "loss:  33.99822\n",
      "loss:  14.212394\n",
      "loss:  17.38698\n",
      "loss:  14.113884\n",
      "loss:  23.020094\n",
      "loss:  14.134374\n",
      "loss:  17.180025\n",
      "loss:  14.37485\n",
      "loss:  24.444746\n",
      "loss:  14.17112\n",
      "loss:  16.897581\n",
      "loss:  14.89754\n",
      "loss:  23.714272\n",
      "loss:  14.506733\n",
      "loss:  19.999949\n",
      "loss:  15.22299\n",
      "loss:  19.246876\n",
      "loss:  15.525396\n",
      "loss:  24.206846\n",
      "loss:  14.657405\n",
      "loss:  16.681053\n",
      "loss:  15.233303\n",
      "loss:  21.444704\n",
      "loss:  14.684459\n",
      "loss:  17.809008\n",
      "loss:  14.109354\n",
      "loss:  18.434431\n",
      "loss:  16.360016\n",
      "loss:  26.308905\n",
      "loss:  14.23549\n",
      "loss:  17.02057\n",
      "loss:  14.541185\n",
      "loss:  23.96357\n",
      "loss:  14.323706\n",
      "loss:  18.052736\n",
      "loss:  15.088445\n",
      "loss:  23.944328\n",
      "loss:  14.295949\n",
      "loss:  18.058746\n",
      "loss:  15.025833\n",
      "loss:  21.615452\n",
      "loss:  14.807471\n",
      "loss:  16.597782\n",
      "loss:  15.430263\n",
      "loss:  21.03401\n",
      "loss:  14.416495\n",
      "loss:  16.909334\n",
      "loss:  14.649857\n",
      "loss:  21.765604\n",
      "loss:  14.438337\n",
      "loss:  17.24564\n",
      "loss:  14.303748\n",
      "loss:  22.464802\n",
      "loss:  14.350692\n",
      "loss:  16.993042\n",
      "loss:  14.546585\n",
      "loss:  23.821135\n",
      "loss:  14.404013\n",
      "loss:  16.700743\n",
      "loss:  15.094998\n",
      "loss:  23.019571\n",
      "loss:  14.486891\n",
      "loss:  17.177433\n",
      "loss:  14.377085\n",
      "loss:  22.258003\n",
      "loss:  14.560432\n",
      "loss:  16.439184\n",
      "loss:  15.872356\n",
      "loss:  22.151632\n",
      "loss:  14.477884\n",
      "loss:  16.83743\n",
      "loss:  14.740322\n",
      "loss:  21.48591\n",
      "loss:  14.508749\n",
      "loss:  17.162626\n",
      "loss:  14.4099245\n",
      "loss:  22.160896\n",
      "loss:  14.581578\n",
      "loss:  16.44374\n",
      "loss:  14.544416\n",
      "loss:  23.737473\n",
      "loss:  14.491561\n",
      "loss:  16.656797\n",
      "loss:  15.0708475\n",
      "loss:  22.904383\n",
      "loss:  14.579329\n",
      "loss:  17.150002\n",
      "loss:  14.445929\n",
      "loss:  19.274738\n",
      "loss:  14.44011\n",
      "loss:  16.936495\n",
      "loss:  14.66296\n",
      "loss:  23.423306\n",
      "loss:  14.453579\n",
      "loss:  16.645588\n",
      "loss:  15.210337\n",
      "loss:  22.585152\n",
      "loss:  14.733984\n",
      "loss:  16.180897\n",
      "loss:  15.049146\n",
      "loss:  23.212563\n",
      "loss:  14.73906\n",
      "loss:  16.134804\n",
      "loss:  15.986582\n",
      "loss:  24.088419\n",
      "loss:  14.443338\n",
      "loss:  16.957167\n",
      "loss:  14.734679\n",
      "loss:  23.215029\n",
      "loss:  14.624938\n",
      "loss:  16.403385\n",
      "loss:  14.688015\n",
      "loss:  23.31007\n",
      "loss:  14.5021515\n",
      "loss:  16.607502\n",
      "loss:  14.437468\n",
      "loss:  19.39185\n",
      "loss:  14.482499\n",
      "loss:  17.061989\n",
      "loss:  14.626228\n",
      "loss:  23.37297\n",
      "loss:  14.827506\n",
      "loss:  16.158182\n",
      "loss:  15.7715225\n",
      "loss:  24.221167\n",
      "loss:  14.527376\n",
      "loss:  16.9697\n",
      "loss:  14.648425\n",
      "loss:  23.32074\n",
      "loss:  14.706239\n",
      "loss:  16.409172\n",
      "loss:  14.641844\n",
      "loss:  23.39013\n",
      "loss:  14.541713\n",
      "loss:  16.607533\n",
      "loss:  14.464045\n",
      "loss:  19.384842\n",
      "loss:  14.557046\n",
      "loss:  17.056107\n",
      "loss:  14.601212\n",
      "loss:  23.404236\n",
      "loss:  14.900068\n",
      "loss:  16.177515\n",
      "loss:  14.569662\n",
      "loss:  23.748938\n",
      "loss:  14.593247\n",
      "loss:  16.694427\n",
      "Accuracy on train: 0.935\n"
     ]
    }
   ],
   "source": [
    "with tf.Session() as sess:\n",
    "    \n",
    "    sess.run(tf.global_variables_initializer())\n",
    "    \n",
    "    # Iterate and train.\n",
    "    for step in range(n_epoch * train_size // batch_size):\n",
    "        \n",
    "        offset = (step * batch_size) % train_size\n",
    "        \n",
    "        batch_data = x_data[offset:(offset + batch_size), :]\n",
    "        batch_labels = y_data[offset:(offset + batch_size)]\n",
    "        \n",
    "        train_step.run(feed_dict={X: batch_data, y: batch_labels})\n",
    "        \n",
    "        print('loss: ', svm_loss.eval(feed_dict={X: batch_data, y: batch_labels}))\n",
    "    \n",
    "    eval_fun = lambda X: predicted_class.eval(feed_dict={x:X})\n",
    "    print(\"Accuracy on train:\", accuracy.eval(feed_dict={X: x_data, y: y_data}))\n",
    "    W_e, b_e = W.eval(), b.eval()"
   ]
  },
  {
   "cell_type": "code",
   "execution_count": 51,
   "metadata": {},
   "outputs": [
    {
     "data": {
      "text/plain": [
       "<function __main__.<lambda>>"
      ]
     },
     "execution_count": 51,
     "metadata": {},
     "output_type": "execute_result"
    }
   ],
   "source": [
    "eval_fun"
   ]
  },
  {
   "cell_type": "code",
   "execution_count": 48,
   "metadata": {},
   "outputs": [
    {
     "data": {
      "image/png": "[encoded data removed]",
      "text/plain": [
       "<matplotlib.figure.Figure at 0x7f3c2d541c88>"
      ]
     },
     "execution_count": 48,
     "metadata": {},
     "output_type": "execute_result"
    }
   ],
   "source": [
    "# x = np.linspace(-4, 10, 100)\n",
    "# ax.plot(x, -W_e[0][0] * x - b_e[0], c='r')\n",
    "# ax.plot(x, -W_e[1][0] * x - b_e[0], c='r')\n",
    "# fig"
   ]
  },
  {
   "cell_type": "code",
   "execution_count": null,
   "metadata": {},
   "outputs": [],
   "source": []
  }
 ],
 "metadata": {
  "kernelspec": {
   "display_name": "Python 3",
   "language": "python",
   "name": "python3"
  },
  "language_info": {
   "codemirror_mode": {
    "name": "ipython",
    "version": 3
   },
   "file_extension": ".py",
   "mimetype": "text/x-python",
   "name": "python",
   "nbconvert_exporter": "python",
   "pygments_lexer": "ipython3",
   "version": "3.6.3"
  }
 },
 "nbformat": 4,
 "nbformat_minor": 2
}

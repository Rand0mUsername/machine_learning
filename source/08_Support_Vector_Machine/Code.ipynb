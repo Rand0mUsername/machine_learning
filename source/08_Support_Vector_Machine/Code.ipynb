{
 "cells": [
  {
   "cell_type": "markdown",
   "metadata": {},
   "source": [
    "### Today:\n",
    "* Support Vector Machine\n",
    "    * Linear SVM\n",
    "        * Hard-margin\n",
    "        * Soft-margin\n",
    "    * Nonlinear SVM\n",
    "\n",
    "### Resources:\n",
    "* Support Vector Machine: https://www.svm-tutorial.com/\n",
    "* Support Vector Machine: http://cs229.stanford.edu/notes/cs229-notes3.pdf\n",
    "* Support Vector Machine: http://web.mit.edu/zoya/www/SVM.pdf\n",
    "* Kernel Methods: https://www.cs.utah.edu/~piyush/teaching/15-9-slides.pdf"
   ]
  },
  {
   "cell_type": "markdown",
   "metadata": {},
   "source": [
    "# Soft-margin SVM"
   ]
  },
  {
   "cell_type": "code",
   "execution_count": 1,
   "metadata": {},
   "outputs": [],
   "source": [
    "# Import necessary libraries\n",
    "import numpy as np\n",
    "import tensorflow as tf\n",
    "import matplotlib.pyplot as plt\n",
    "%matplotlib inline\n",
    "tf.reset_default_graph()"
   ]
  },
  {
   "cell_type": "code",
   "execution_count": 2,
   "metadata": {},
   "outputs": [],
   "source": [
    "# Load dataset as numpy array\n",
    "data = np.loadtxt('../../data/03_LogisticRegression/lr_data.csv', delimiter=',')"
   ]
  },
  {
   "cell_type": "code",
   "execution_count": 3,
   "metadata": {},
   "outputs": [
    {
     "data": {
      "text/plain": [
       "<matplotlib.legend.Legend at 0x7f3ab561ba58>"
      ]
     },
     "execution_count": 3,
     "metadata": {},
     "output_type": "execute_result"
    },
    {
     "data": {
      "image/png": "[encoded data removed]",
      "text/plain": [
       "<matplotlib.figure.Figure at 0x7f3ab76c0ba8>"
      ]
     },
     "metadata": {},
     "output_type": "display_data"
    }
   ],
   "source": [
    "# Find index of samples with class 0\n",
    "idx = data[:, 2] == 0.0\n",
    "\n",
    "# Plot dataset\n",
    "fig, ax = plt.subplots()\n",
    "ax.set_xlabel('Feature 1')\n",
    "ax.set_ylabel('Feature 2')\n",
    "ax.scatter(data[idx][:, 0], data[idx][:,1], c='b', edgecolors='k', label='Class 0')\n",
    "ax.scatter(data[~idx][:,0], data[~idx][:,1], c='g', edgecolors='k', label='Class 1')\n",
    "ax.grid(True, color='gray', linestyle='dashed')\n",
    "ax.legend()"
   ]
  },
  {
   "cell_type": "markdown",
   "metadata": {},
   "source": [
    "$$ D = \\Big\\{ \\big(x^{(i)}, y^{(i)} \\big) \\; \\mid \\; x^{(i)} \\in \\mathbb{R}^{n}, y^{(i)} \\in \\{-1, 1\\} \\Big\\}_{i=1}^{m} $$"
   ]
  },
  {
   "cell_type": "code",
   "execution_count": 4,
   "metadata": {},
   "outputs": [],
   "source": [
    "# Split dataset on features and labels\n",
    "x_data = data[:, :2]\n",
    "y_data = data[:, 2].reshape(len(data), 1)\n",
    "\n",
    "# Convert labels to -1, 1\n",
    "y_data[y_data==0] = -1"
   ]
  },
  {
   "cell_type": "code",
   "execution_count": 5,
   "metadata": {},
   "outputs": [],
   "source": [
    "# Data parameters\n",
    "train_size = len(data)\n",
    "n_features = 2\n",
    "n_labels = 1\n",
    "\n",
    "# Training parameters\n",
    "C = 0.1\n",
    "n_epoch = 100\n",
    "batch_size = 100\n",
    "learning_rate = 0.01"
   ]
  },
  {
   "cell_type": "markdown",
   "metadata": {},
   "source": [
    "## Model"
   ]
  },
  {
   "cell_type": "code",
   "execution_count": 6,
   "metadata": {},
   "outputs": [],
   "source": [
    "# Graph input\n",
    "X = tf.placeholder(tf.float32, [None, n_features], \"X\")\n",
    "y = tf.placeholder(tf.float32, [None, n_labels], \"y\")\n",
    "\n",
    "# Model parameters\n",
    "W = tf.Variable(tf.random_normal([n_features, n_labels]))\n",
    "b = tf.Variable(tf.random_normal([n_labels]))"
   ]
  },
  {
   "cell_type": "code",
   "execution_count": 7,
   "metadata": {},
   "outputs": [],
   "source": [
    "hypothesis = tf.add(tf.matmul(X, W), b)"
   ]
  },
  {
   "cell_type": "markdown",
   "metadata": {},
   "source": [
    "## Cost"
   ]
  },
  {
   "cell_type": "markdown",
   "metadata": {},
   "source": [
    "$$ \\frac{1}{2} \\| w \\|_{2}^{2} + C\\sum_{i=1}^{m} \\max \\big(0, 1 - y^{(i)} (w^{T}x^{(i)} + b) \\big)$$"
   ]
  },
  {
   "cell_type": "code",
   "execution_count": 8,
   "metadata": {},
   "outputs": [],
   "source": [
    "regularization_loss = 0.5 * tf.reduce_sum(tf.square(W)) \n",
    "\n",
    "hinge_loss = tf.reduce_sum(tf.maximum(tf.zeros([batch_size, 1]),  1 - y * hypothesis))\n",
    "\n",
    "svm_loss = regularization_loss + C * hinge_loss"
   ]
  },
  {
   "cell_type": "markdown",
   "metadata": {},
   "source": [
    "## Optimization"
   ]
  },
  {
   "cell_type": "code",
   "execution_count": 9,
   "metadata": {},
   "outputs": [],
   "source": [
    "train_step = tf.train.GradientDescentOptimizer(learning_rate).minimize(svm_loss)"
   ]
  },
  {
   "cell_type": "markdown",
   "metadata": {},
   "source": [
    "## Evaluation"
   ]
  },
  {
   "cell_type": "code",
   "execution_count": 10,
   "metadata": {},
   "outputs": [],
   "source": [
    "predicted_class = tf.sign(hypothesis)\n",
    "correct_prediction = tf.equal(y, predicted_class)\n",
    "accuracy = tf.reduce_mean(tf.cast(correct_prediction, tf.float32))"
   ]
  },
  {
   "cell_type": "markdown",
   "metadata": {},
   "source": [
    "## Train"
   ]
  },
  {
   "cell_type": "code",
   "execution_count": 11,
   "metadata": {},
   "outputs": [
    {
     "name": "stdout",
     "output_type": "stream",
     "text": [
      "Loss:  21.90517\n",
      "Loss:  15.981653\n",
      "Loss:  16.498453\n",
      "Loss:  13.786549\n",
      "Loss:  14.94245\n",
      "Loss:  12.51045\n",
      "Loss:  13.650144\n",
      "Loss:  11.342251\n",
      "Loss:  12.448495\n",
      "Loss:  10.242634\n",
      "Loss:  11.299291\n",
      "Loss:  9.227168\n",
      "Loss:  10.213726\n",
      "Loss:  8.271347\n",
      "Loss:  9.171379\n",
      "Loss:  7.403327\n",
      "Loss:  8.190579\n",
      "Loss:  6.625538\n",
      "Loss:  7.2825394\n",
      "Loss:  5.9139214\n",
      "Loss:  6.5412745\n",
      "Loss:  5.2841806\n",
      "Loss:  5.7934475\n",
      "Loss:  4.770051\n",
      "Loss:  5.302811\n",
      "Loss:  4.3462334\n",
      "Loss:  4.7439346\n",
      "Loss:  4.0868583\n",
      "Loss:  4.3614845\n",
      "Loss:  3.8576977\n",
      "Loss:  4.144532\n",
      "Loss:  3.7549038\n",
      "Loss:  3.9718583\n",
      "Loss:  3.6151788\n",
      "Loss:  3.7658875\n",
      "Loss:  3.4239092\n",
      "Loss:  3.6316307\n",
      "Loss:  3.2983468\n",
      "Loss:  3.4393961\n",
      "Loss:  3.178865\n",
      "Loss:  3.2705843\n",
      "Loss:  3.067673\n",
      "Loss:  3.1201599\n",
      "Loss:  2.9158034\n",
      "Loss:  3.1148329\n",
      "Loss:  2.9133294\n",
      "Loss:  2.9063675\n",
      "Loss:  2.7795553\n",
      "Loss:  2.8566332\n",
      "Loss:  2.7343886\n",
      "Loss:  2.8390925\n",
      "Loss:  2.7462165\n",
      "Loss:  2.7210202\n",
      "Loss:  2.6528175\n",
      "Loss:  2.704081\n",
      "Loss:  2.6431766\n",
      "Loss:  2.6462107\n",
      "Loss:  2.5976412\n",
      "Loss:  2.624545\n",
      "Loss:  2.5900404\n",
      "Loss:  2.5375419\n",
      "Loss:  2.5163128\n",
      "Loss:  2.5521505\n",
      "Loss:  2.528218\n",
      "Loss:  2.4594533\n",
      "Loss:  2.450801\n",
      "Loss:  2.418561\n",
      "Loss:  2.4227252\n",
      "Loss:  2.3568935\n",
      "Loss:  2.4014974\n",
      "Loss:  2.3249257\n",
      "Loss:  2.3864236\n",
      "Loss:  2.326002\n",
      "Loss:  2.3626585\n",
      "Loss:  2.2724698\n",
      "Loss:  2.351049\n",
      "Loss:  2.2674935\n",
      "Loss:  2.3296676\n",
      "Loss:  2.2168722\n",
      "Loss:  2.3188264\n",
      "Loss:  2.2040322\n",
      "Loss:  2.3019412\n",
      "Loss:  2.1744173\n",
      "Loss:  2.2904124\n",
      "Loss:  2.1494346\n",
      "Loss:  2.2789025\n",
      "Loss:  2.128081\n",
      "Loss:  2.2702029\n",
      "Loss:  2.1035285\n",
      "Loss:  2.2625878\n",
      "Loss:  2.0865881\n",
      "Loss:  2.2524238\n",
      "Loss:  2.0701673\n",
      "Loss:  2.2427773\n",
      "Loss:  2.049799\n",
      "Loss:  2.2350845\n",
      "Loss:  2.035417\n",
      "Loss:  2.220039\n",
      "Loss:  2.0218644\n",
      "Loss:  2.2083015\n",
      "Loss:  2.008589\n",
      "Loss:  2.1978233\n",
      "Loss:  1.994462\n",
      "Loss:  2.1916904\n",
      "Loss:  1.9805918\n",
      "Loss:  2.1844473\n",
      "Loss:  1.9686234\n",
      "Loss:  2.1784706\n",
      "Loss:  1.9552773\n",
      "Loss:  2.1729167\n",
      "Loss:  1.9455997\n",
      "Loss:  2.1623077\n",
      "Loss:  1.9294301\n",
      "Loss:  2.1576774\n",
      "Loss:  1.9157715\n",
      "Loss:  2.1526716\n",
      "Loss:  1.9017588\n",
      "Loss:  2.1476552\n",
      "Loss:  1.8899158\n",
      "Loss:  2.1401365\n",
      "Loss:  1.8889406\n",
      "Loss:  2.1296394\n",
      "Loss:  1.8710555\n",
      "Loss:  2.1254408\n",
      "Loss:  1.8579934\n",
      "Loss:  2.1236873\n",
      "Loss:  1.847701\n",
      "Loss:  2.1178632\n",
      "Loss:  1.8374435\n",
      "Loss:  2.1137795\n",
      "Loss:  1.8287721\n",
      "Loss:  2.1063457\n",
      "Loss:  1.8191001\n",
      "Loss:  2.1012204\n",
      "Loss:  1.8189578\n",
      "Loss:  2.094283\n",
      "Loss:  1.8075781\n",
      "Loss:  2.088409\n",
      "Loss:  1.8053424\n",
      "Loss:  2.0871673\n",
      "Loss:  1.7891966\n",
      "Loss:  2.0811927\n",
      "Loss:  1.7842538\n",
      "Loss:  2.0754812\n",
      "Loss:  1.7851222\n",
      "Loss:  2.0747995\n",
      "Loss:  1.7677784\n",
      "Loss:  2.0689054\n",
      "Loss:  1.7649862\n",
      "Loss:  2.0632744\n",
      "Loss:  1.7679853\n",
      "Loss:  2.064127\n",
      "Loss:  1.7575665\n",
      "Loss:  2.0586486\n",
      "Loss:  1.7480936\n",
      "Loss:  2.05878\n",
      "Loss:  1.7414223\n",
      "Loss:  2.0551844\n",
      "Loss:  1.7315911\n",
      "Loss:  2.0456007\n",
      "Loss:  1.7426823\n",
      "Loss:  2.0437424\n",
      "Loss:  1.7298132\n",
      "Loss:  2.0422566\n",
      "Loss:  1.7201498\n",
      "Loss:  2.0328825\n",
      "Loss:  1.7255923\n",
      "Loss:  2.032967\n",
      "Loss:  1.7290025\n",
      "Loss:  2.0275555\n",
      "Loss:  1.7224078\n",
      "Loss:  2.0276787\n",
      "Loss:  1.7052783\n",
      "Loss:  2.0223277\n",
      "Loss:  1.7132657\n",
      "Loss:  2.0207453\n",
      "Loss:  1.7147564\n",
      "Loss:  2.0191646\n",
      "Loss:  1.6952939\n",
      "Loss:  2.0139122\n",
      "Loss:  1.7058429\n",
      "Loss:  2.012403\n",
      "Loss:  1.7074333\n",
      "Loss:  2.0074923\n",
      "Loss:  1.6880422\n",
      "Loss:  2.0075812\n",
      "Loss:  1.7009764\n",
      "Loss:  2.0027115\n",
      "Loss:  1.6817548\n",
      "Loss:  2.0013642\n",
      "Loss:  1.6907274\n",
      "Loss:  2.0013552\n",
      "Loss:  1.6785944\n",
      "Loss:  1.9937761\n",
      "Loss:  1.7106135\n",
      "Loss:  1.9882361\n",
      "Loss:  1.6819421\n",
      "Loss:  1.9892515\n",
      "Loss:  1.6729643\n",
      "Loss:  1.9849962\n",
      "Accuracy on train: 0.93\n"
     ]
    }
   ],
   "source": [
    "with tf.Session() as sess:\n",
    "    \n",
    "    sess.run(tf.global_variables_initializer())\n",
    "    \n",
    "    for step in range(n_epoch * train_size // batch_size):\n",
    "        \n",
    "        offset = (step * batch_size) % train_size\n",
    "        batch_data = x_data[offset:(offset + batch_size), :]\n",
    "        batch_labels = y_data[offset:(offset + batch_size)]\n",
    "        \n",
    "        train_step.run(feed_dict={X: batch_data, y: batch_labels})\n",
    "        \n",
    "        print('Loss: ', svm_loss.eval(feed_dict={X: batch_data, y: batch_labels}))\n",
    "    \n",
    "    print(\"Accuracy on train:\", accuracy.eval(feed_dict={X: x_data, y: y_data}))\n",
    "    W_computed, b_computed = W.eval(), b.eval()"
   ]
  },
  {
   "cell_type": "code",
   "execution_count": 12,
   "metadata": {},
   "outputs": [
    {
     "data": {
      "image/png": "[encoded data removed]",
      "text/plain": [
       "<matplotlib.figure.Figure at 0x7f3ab76c0ba8>"
      ]
     },
     "execution_count": 12,
     "metadata": {},
     "output_type": "execute_result"
    }
   ],
   "source": [
    "parameters = [b_computed[0], W_computed[1][0], W_computed[0][0]]\n",
    "parameters\n",
    "x = np.arange(-4, 10)\n",
    "y = (-parameters[0] - parameters[1] * x) / parameters[2]\n",
    "ax.plot(x, y, '-', color='r', marker=' ')\n",
    "fig"
   ]
  }
 ],
 "metadata": {
  "kernelspec": {
   "display_name": "Python 3",
   "language": "python",
   "name": "python3"
  },
  "language_info": {
   "codemirror_mode": {
    "name": "ipython",
    "version": 3
   },
   "file_extension": ".py",
   "mimetype": "text/x-python",
   "name": "python",
   "nbconvert_exporter": "python",
   "pygments_lexer": "ipython3",
   "version": "3.6.3"
  }
 },
 "nbformat": 4,
 "nbformat_minor": 2
}

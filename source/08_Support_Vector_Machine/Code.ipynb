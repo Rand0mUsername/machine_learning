{
 "cells": [
  {
   "cell_type": "markdown",
   "metadata": {},
   "source": [
    "### Today:\n",
    "* Support Vector Machine\n",
    "    * Linear SVM\n",
    "        * Hard-margin\n",
    "        * Soft-margin\n",
    "    * Nonlinear SVM\n",
    "\n",
    "### Resources:\n",
    "* Support Vector Machine: https://www.svm-tutorial.com/\n",
    "* Support Vector Machine: http://cs229.stanford.edu/notes/cs229-notes3.pdf\n",
    "* Support Vector Machine: http://web.mit.edu/zoya/www/SVM.pdf"
   ]
  },
  {
   "cell_type": "markdown",
   "metadata": {},
   "source": [
    "# Soft-margin SVM"
   ]
  },
  {
   "cell_type": "code",
   "execution_count": 1,
   "metadata": {},
   "outputs": [],
   "source": [
    "# Import necessary libraries\n",
    "import numpy as np\n",
    "import tensorflow as tf\n",
    "import matplotlib.pyplot as plt\n",
    "%matplotlib inline\n",
    "tf.reset_default_graph()"
   ]
  },
  {
   "cell_type": "code",
   "execution_count": 2,
   "metadata": {},
   "outputs": [],
   "source": [
    "# Load dataset as numpy array\n",
    "data = np.loadtxt('../../data/03_LogisticRegression/lr_data.csv', delimiter=',')"
   ]
  },
  {
   "cell_type": "code",
   "execution_count": 3,
   "metadata": {},
   "outputs": [
    {
     "data": {
      "text/plain": [
       "<matplotlib.legend.Legend at 0x7f66657fc4a8>"
      ]
     },
     "execution_count": 3,
     "metadata": {},
     "output_type": "execute_result"
    },
    {
     "data": {
      "image/png": "[encoded data removed]",
      "text/plain": [
       "<matplotlib.figure.Figure at 0x7f6667814b38>"
      ]
     },
     "metadata": {},
     "output_type": "display_data"
    }
   ],
   "source": [
    "# Find index of samples with class 0\n",
    "idx = data[:, 2] == 0.0\n",
    "\n",
    "# Plot dataset\n",
    "fig, ax = plt.subplots()\n",
    "ax.set_xlabel('Feature 1')\n",
    "ax.set_ylabel('Feature 2')\n",
    "ax.scatter(data[idx][:, 0], data[idx][:,1], c='b', edgecolors='k', label='Class 0')\n",
    "ax.scatter(data[~idx][:,0], data[~idx][:,1], c='g', edgecolors='k', label='Class 1')\n",
    "ax.grid(True, color='gray', linestyle='dashed')\n",
    "ax.legend()"
   ]
  },
  {
   "cell_type": "markdown",
   "metadata": {},
   "source": [
    "$$ D = \\Big\\{ \\big(x^{(i)}, y^{(i)} \\big) \\; \\mid \\; x^{(i)} \\in \\mathbb{R}^{n}, y^{(i)} \\in \\{-1, 1\\} \\Big\\}_{i=1}^{m} $$"
   ]
  },
  {
   "cell_type": "code",
   "execution_count": 4,
   "metadata": {},
   "outputs": [],
   "source": [
    "# Split dataset on features and labels\n",
    "x_data = data[:, :2]\n",
    "y_data = data[:, 2].reshape(len(data), 1)\n",
    "# Convert labels to -1, 1\n",
    "y_data[y_data==0] = -1"
   ]
  },
  {
   "cell_type": "code",
   "execution_count": 5,
   "metadata": {},
   "outputs": [],
   "source": [
    "# Data parameters\n",
    "train_size = len(data)\n",
    "n_features = 2\n",
    "n_labels = 1\n",
    "\n",
    "# Training parameters\n",
    "C = 0.1\n",
    "n_epoch = 100\n",
    "batch_size = 100\n",
    "learning_rate = 0.01"
   ]
  },
  {
   "cell_type": "markdown",
   "metadata": {},
   "source": [
    "## Model"
   ]
  },
  {
   "cell_type": "code",
   "execution_count": 6,
   "metadata": {},
   "outputs": [],
   "source": [
    "# Graph input\n",
    "X = tf.placeholder(tf.float32, [None, n_features], \"X\")\n",
    "y = tf.placeholder(tf.float32, [None, n_labels], \"y\")\n",
    "\n",
    "# Model parameters\n",
    "W = tf.Variable(tf.random_normal([n_features, n_labels]))\n",
    "b = tf.Variable(tf.random_normal([n_labels]))"
   ]
  },
  {
   "cell_type": "code",
   "execution_count": 7,
   "metadata": {},
   "outputs": [],
   "source": [
    "hypothesis = tf.add(tf.matmul(X, W), b)"
   ]
  },
  {
   "cell_type": "markdown",
   "metadata": {},
   "source": [
    "## Cost"
   ]
  },
  {
   "cell_type": "markdown",
   "metadata": {},
   "source": [
    "$$ \\frac{1}{2} \\| w \\|_{2}^{2} + C\\sum_{i=1}^{m} \\max \\big(0, 1 - y^{(i)} (w^{T}x^{(i)} + b) \\big)$$"
   ]
  },
  {
   "cell_type": "code",
   "execution_count": 8,
   "metadata": {},
   "outputs": [],
   "source": [
    "regularization_loss = 0.5 * tf.reduce_sum(tf.square(W)) \n",
    "\n",
    "hinge_loss = tf.reduce_sum(tf.maximum(tf.zeros([batch_size, 1]),  1 - y * hypothesis))\n",
    "\n",
    "svm_loss = regularization_loss + C * hinge_loss"
   ]
  },
  {
   "cell_type": "markdown",
   "metadata": {},
   "source": [
    "## Optimization"
   ]
  },
  {
   "cell_type": "code",
   "execution_count": 9,
   "metadata": {},
   "outputs": [],
   "source": [
    "train_step = tf.train.GradientDescentOptimizer(learning_rate).minimize(svm_loss)"
   ]
  },
  {
   "cell_type": "markdown",
   "metadata": {},
   "source": [
    "## Evaluation"
   ]
  },
  {
   "cell_type": "code",
   "execution_count": 10,
   "metadata": {},
   "outputs": [],
   "source": [
    "predicted_class = tf.sign(hypothesis)\n",
    "correct_prediction = tf.equal(y, predicted_class)\n",
    "accuracy = tf.reduce_mean(tf.cast(correct_prediction, tf.float32))"
   ]
  },
  {
   "cell_type": "markdown",
   "metadata": {},
   "source": [
    "## Train"
   ]
  },
  {
   "cell_type": "code",
   "execution_count": 11,
   "metadata": {},
   "outputs": [
    {
     "name": "stdout",
     "output_type": "stream",
     "text": [
      "Loss:  4.8870187\n",
      "Loss:  2.9099274\n",
      "Loss:  2.8475423\n",
      "Loss:  2.39904\n",
      "Loss:  2.401584\n",
      "Loss:  2.1618905\n",
      "Loss:  2.108677\n",
      "Loss:  2.084004\n",
      "Loss:  1.9957597\n",
      "Loss:  2.0740573\n",
      "Loss:  1.9198185\n",
      "Loss:  2.067161\n",
      "Loss:  1.8714439\n",
      "Loss:  2.0665543\n",
      "Loss:  1.8477387\n",
      "Loss:  2.0626125\n",
      "Loss:  1.827581\n",
      "Loss:  2.0566814\n",
      "Loss:  1.8151293\n",
      "Loss:  2.055207\n",
      "Loss:  1.7955445\n",
      "Loss:  2.0541074\n",
      "Loss:  1.7836277\n",
      "Loss:  2.0529308\n",
      "Loss:  1.7663668\n",
      "Loss:  2.0566218\n",
      "Loss:  1.7589473\n",
      "Loss:  2.0553503\n",
      "Loss:  1.7611346\n",
      "Loss:  2.0564165\n",
      "Loss:  1.7508417\n",
      "Loss:  2.0510404\n",
      "Loss:  1.7551943\n",
      "Loss:  2.052108\n",
      "Loss:  1.7306359\n",
      "Loss:  2.0448759\n",
      "Loss:  1.7343144\n",
      "Loss:  2.0384722\n",
      "Loss:  1.7378429\n",
      "Loss:  2.035689\n",
      "Loss:  1.7304918\n",
      "Loss:  2.0357394\n",
      "Loss:  1.717291\n",
      "Loss:  2.024824\n",
      "Loss:  1.7461337\n",
      "Loss:  2.0305562\n",
      "Loss:  1.7082405\n",
      "Loss:  2.019603\n",
      "Loss:  1.7133057\n",
      "Loss:  2.024688\n",
      "Loss:  1.701249\n",
      "Loss:  2.013812\n",
      "Loss:  1.7061864\n",
      "Loss:  2.017189\n",
      "Loss:  1.7001845\n",
      "Loss:  2.0071855\n",
      "Loss:  1.7195528\n",
      "Loss:  2.003563\n",
      "Loss:  1.6932542\n",
      "Loss:  2.004791\n",
      "Loss:  1.686097\n",
      "Loss:  2.0049164\n",
      "Loss:  1.6983228\n",
      "Loss:  2.000086\n",
      "Loss:  1.6803538\n",
      "Loss:  1.9987773\n",
      "Loss:  1.6881686\n",
      "Loss:  1.9987947\n",
      "Loss:  1.6764662\n",
      "Loss:  1.9940602\n",
      "Loss:  1.6794837\n",
      "Loss:  1.991588\n",
      "Loss:  1.6726339\n",
      "Loss:  1.9870923\n",
      "Loss:  1.6810257\n",
      "Loss:  1.9895713\n",
      "Loss:  1.6699986\n",
      "Loss:  1.9849503\n",
      "Loss:  1.6725543\n",
      "Loss:  1.9825692\n",
      "Loss:  1.6658655\n",
      "Loss:  1.978587\n",
      "Loss:  1.6742749\n",
      "Loss:  1.9786836\n",
      "Loss:  1.6628947\n",
      "Loss:  1.9744966\n",
      "Loss:  1.6725509\n",
      "Loss:  1.9732043\n",
      "Loss:  1.660492\n",
      "Loss:  1.9704553\n",
      "Loss:  1.6798096\n",
      "Loss:  1.9668463\n",
      "Loss:  1.6604364\n",
      "Loss:  1.9654019\n",
      "Loss:  1.6758401\n",
      "Loss:  1.9618397\n",
      "Loss:  1.6584471\n",
      "Loss:  1.9609349\n",
      "Loss:  1.665278\n",
      "Loss:  1.9584886\n",
      "Loss:  1.656019\n",
      "Loss:  1.9572239\n",
      "Loss:  1.6693221\n",
      "Loss:  1.953958\n",
      "Loss:  1.656048\n",
      "Loss:  1.9538608\n",
      "Loss:  1.6690391\n",
      "Loss:  1.9498273\n",
      "Loss:  1.6570919\n",
      "Loss:  1.9505022\n",
      "Loss:  1.6592245\n",
      "Loss:  1.947091\n",
      "Loss:  1.654493\n",
      "Loss:  1.947612\n",
      "Loss:  1.6562573\n",
      "Loss:  1.9441223\n",
      "Loss:  1.6518571\n",
      "Loss:  1.9447409\n",
      "Loss:  1.6533384\n",
      "Loss:  1.9413614\n",
      "Loss:  1.6491859\n",
      "Loss:  1.9418082\n",
      "Loss:  1.6504662\n",
      "Loss:  1.9392697\n",
      "Loss:  1.6464803\n",
      "Loss:  1.9389699\n",
      "Loss:  1.6476382\n",
      "Loss:  1.9373107\n",
      "Loss:  1.6437415\n",
      "Loss:  1.9365749\n",
      "Loss:  1.6448529\n",
      "Loss:  1.9353602\n",
      "Loss:  1.6409707\n",
      "Loss:  1.9345875\n",
      "Loss:  1.642108\n",
      "Loss:  1.9332535\n",
      "Loss:  1.641449\n",
      "Loss:  1.9341552\n",
      "Loss:  1.6605885\n",
      "Loss:  1.9313376\n",
      "Loss:  1.6421968\n",
      "Loss:  1.9303663\n",
      "Loss:  1.638885\n",
      "Loss:  1.9311016\n",
      "Loss:  1.6397481\n",
      "Loss:  1.9296277\n",
      "Loss:  1.6391376\n",
      "Loss:  1.9305813\n",
      "Loss:  1.6547546\n",
      "Loss:  1.9264281\n",
      "Loss:  1.6407416\n",
      "Loss:  1.9280711\n",
      "Loss:  1.6395395\n",
      "Loss:  1.9263546\n",
      "Loss:  1.6317664\n",
      "Loss:  1.9281423\n",
      "Loss:  1.6485631\n",
      "Loss:  1.9232728\n",
      "Loss:  1.6367717\n",
      "Loss:  1.9252974\n",
      "Loss:  1.6346754\n",
      "Loss:  1.9243056\n",
      "Loss:  1.6325974\n",
      "Loss:  1.923681\n",
      "Loss:  1.6305374\n",
      "Loss:  1.9230531\n",
      "Loss:  1.6292322\n",
      "Loss:  1.9230245\n",
      "Loss:  1.6298058\n",
      "Loss:  1.920911\n",
      "Loss:  1.6276419\n",
      "Loss:  1.9223261\n",
      "Loss:  1.6344445\n",
      "Loss:  1.9200926\n",
      "Loss:  1.6252801\n",
      "Loss:  1.9210466\n",
      "Loss:  1.6335847\n",
      "Loss:  1.9179915\n",
      "Loss:  1.6264379\n",
      "Loss:  1.9197713\n",
      "Loss:  1.6329378\n",
      "Loss:  1.9159544\n",
      "Loss:  1.6274756\n",
      "Loss:  1.9184997\n",
      "Loss:  1.6244838\n",
      "Loss:  1.9174238\n",
      "Loss:  1.6187204\n",
      "Loss:  1.9188169\n",
      "Loss:  1.635809\n",
      "Loss:  1.9175702\n",
      "Loss:  1.6200464\n",
      "Loss:  1.9180561\n",
      "Loss:  1.6442506\n",
      "Loss:  1.9134424\n",
      "Loss:  1.6225104\n",
      "Loss:  1.9153347\n",
      "Loss:  1.6194458\n",
      "Loss:  1.9161092\n",
      "Loss:  1.6329461\n",
      "Loss:  1.91202\n",
      "Accuracy on train: 0.925\n"
     ]
    }
   ],
   "source": [
    "with tf.Session() as sess:\n",
    "    \n",
    "    sess.run(tf.global_variables_initializer())\n",
    "    \n",
    "    for step in range(n_epoch * train_size // batch_size):\n",
    "        \n",
    "        offset = (step * batch_size) % train_size\n",
    "        batch_data = x_data[offset:(offset + batch_size), :]\n",
    "        batch_labels = y_data[offset:(offset + batch_size)]\n",
    "        \n",
    "        train_step.run(feed_dict={X: batch_data, y: batch_labels})\n",
    "        \n",
    "        print('Loss: ', svm_loss.eval(feed_dict={X: batch_data, y: batch_labels}))\n",
    "    \n",
    "    print(\"Accuracy on train:\", accuracy.eval(feed_dict={X: x_data, y: y_data}))\n",
    "    W_computed, b_computed = W.eval(), b.eval()"
   ]
  },
  {
   "cell_type": "code",
   "execution_count": 12,
   "metadata": {},
   "outputs": [
    {
     "data": {
      "image/png": "[encoded data removed]",
      "text/plain": [
       "<matplotlib.figure.Figure at 0x7f6667814b38>"
      ]
     },
     "execution_count": 12,
     "metadata": {},
     "output_type": "execute_result"
    }
   ],
   "source": [
    "parameters = [b_computed[0], W_computed[1][0], W_computed[0][0]]\n",
    "parameters\n",
    "x = np.arange(-4, 10)\n",
    "y = (-parameters[0] - parameters[1] * x) / parameters[2]\n",
    "ax.plot(x, y, '-', color='r', marker=' ')\n",
    "fig"
   ]
  }
 ],
 "metadata": {
  "kernelspec": {
   "display_name": "Python 3",
   "language": "python",
   "name": "python3"
  },
  "language_info": {
   "codemirror_mode": {
    "name": "ipython",
    "version": 3
   },
   "file_extension": ".py",
   "mimetype": "text/x-python",
   "name": "python",
   "nbconvert_exporter": "python",
   "pygments_lexer": "ipython3",
   "version": "3.6.3"
  }
 },
 "nbformat": 4,
 "nbformat_minor": 2
}

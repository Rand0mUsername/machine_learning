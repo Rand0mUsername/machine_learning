{
 "cells": [
  {
   "cell_type": "markdown",
   "metadata": {},
   "source": [
    "### Today:\n",
    "* Supervised Learning\n",
    "* Linear Regression\n",
    "    * Model\n",
    "    * Cost Function\n",
    "    * Optimization\n",
    "        * Gradient Descent\n",
    "        * Feature Scaling\n",
    "* Polynomial Regression\n",
    "    * Model\n",
    "    * Overfitting and Underfitting\n",
    "    * Regularization\n",
    "\n",
    "### Resources:\n",
    "* Supervised Learning: https://mcerovic.github.io/notes/SupervisedLearning/index.html\n",
    "* Linear Regression: https://mcerovic.github.io/notes/LinearRegression/index.html\n",
    "* Gradient Descent: https://mcerovic.github.io/notes/GradientDescent/index.html\n",
    "* Feature Scaling: http://sebastianraschka.com/Articles/2014_about_feature_scaling.html#about-standardization"
   ]
  },
  {
   "cell_type": "markdown",
   "metadata": {},
   "source": [
    "# Linear regression"
   ]
  },
  {
   "cell_type": "code",
   "execution_count": 2,
   "metadata": {},
   "outputs": [],
   "source": [
    "# Import necessary libraries\n",
    "import numpy as np\n",
    "import tensorflow as tf\n",
    "import matplotlib.pyplot as plt\n",
    "%matplotlib inline"
   ]
  },
  {
   "cell_type": "code",
   "execution_count": 4,
   "metadata": {},
   "outputs": [],
   "source": [
    "# Load dataset as numpy array\n",
    "y, x = np.loadtxt('../../data/02_LinearRegression/house_price.csv', delimiter=',', unpack=True)\n",
    "n_samples = len(x)"
   ]
  },
  {
   "cell_type": "code",
   "execution_count": 5,
   "metadata": {},
   "outputs": [],
   "source": [
    "# Normalize data\n",
    "x = (x - np.mean(x)) / np.std(x)\n",
    "y = (y - np.mean(y)) / np.std(y)"
   ]
  },
  {
   "cell_type": "code",
   "execution_count": 6,
   "metadata": {},
   "outputs": [
    {
     "data": {
      "image/png": "[encoded data removed]",
      "text/plain": [
       "<matplotlib.figure.Figure at 0x7f118f385cf8>"
      ]
     },
     "metadata": {},
     "output_type": "display_data"
    }
   ],
   "source": [
    "# Graphical preview\n",
    "fig, ax = plt.subplots()\n",
    "ax.set_xlabel('Size')\n",
    "ax.set_ylabel('Price')\n",
    "ax.scatter(x, y, edgecolors='k', label='Real house price')\n",
    "ax.grid(True, color='gray', linestyle='dashed')"
   ]
  },
  {
   "cell_type": "markdown",
   "metadata": {},
   "source": [
    "## Model"
   ]
  },
  {
   "cell_type": "code",
   "execution_count": 7,
   "metadata": {},
   "outputs": [],
   "source": [
    "X = tf.placeholder(tf.float32, name='X')\n",
    "Y = tf.placeholder(tf.float32, name='Y')"
   ]
  },
  {
   "cell_type": "code",
   "execution_count": 8,
   "metadata": {},
   "outputs": [],
   "source": [
    "w = tf.Variable(0.0, name='weights')\n",
    "b = tf.Variable(0.0, name='bias')"
   ]
  },
  {
   "cell_type": "code",
   "execution_count": 9,
   "metadata": {},
   "outputs": [],
   "source": [
    "Y_predicted = tf.add(tf.multiply(X, w), b) "
   ]
  },
  {
   "cell_type": "markdown",
   "metadata": {},
   "source": [
    "## Cost function"
   ]
  },
  {
   "cell_type": "code",
   "execution_count": 11,
   "metadata": {},
   "outputs": [],
   "source": [
    "cost = tf.reduce_mean(tf.square(Y - Y_predicted), name='cost')"
   ]
  },
  {
   "cell_type": "markdown",
   "metadata": {},
   "source": [
    "## Optimization"
   ]
  },
  {
   "cell_type": "code",
   "execution_count": 12,
   "metadata": {},
   "outputs": [],
   "source": [
    "optimizer = tf.train.GradientDescentOptimizer(learning_rate=0.001).minimize(cost)"
   ]
  },
  {
   "cell_type": "markdown",
   "metadata": {},
   "source": [
    "## Train"
   ]
  },
  {
   "cell_type": "code",
   "execution_count": 13,
   "metadata": {},
   "outputs": [
    {
     "name": "stdout",
     "output_type": "stream",
     "text": [
      "Epoch 0: 0.9493254337137387\n",
      "Epoch 1: 0.8467418120155343\n",
      "Epoch 2: 0.7593818654942879\n",
      "Epoch 3: 0.6849871750717285\n",
      "Epoch 4: 0.6216341430710599\n",
      "Epoch 5: 0.567684725373556\n",
      "Epoch 6: 0.5217437629502356\n",
      "Epoch 7: 0.4826229100071032\n",
      "Epoch 8: 0.4493101443895989\n",
      "Epoch 9: 0.4209438291443803\n",
      "Epoch 10: 0.39678982907425964\n",
      "Epoch 11: 0.3762229884319822\n",
      "Epoch 12: 0.3587109926957652\n",
      "Epoch 13: 0.34380037332884966\n",
      "Epoch 14: 0.3311051445431076\n",
      "Epoch 15: 0.3202964202471776\n",
      "Epoch 16: 0.3110940179391946\n",
      "Epoch 17: 0.30325955810039884\n",
      "Epoch 18: 0.2965897890792803\n",
      "Epoch 19: 0.29091190604297024\n",
      "Epoch 20: 0.28607861342570684\n",
      "Epoch 21: 0.2819644258896005\n",
      "Epoch 22: 0.27846248714267857\n",
      "Epoch 23: 0.27548188228302023\n",
      "Epoch 24: 0.27294518834896736\n",
      "Epoch 25: 0.2707863362119724\n",
      "Epoch 26: 0.26894923349484545\n",
      "Epoch 27: 0.2673859913416351\n",
      "Epoch 28: 0.2660558756721912\n",
      "Epoch 29: 0.26492427692514864\n",
      "Epoch 30: 0.26396160841804883\n",
      "Epoch 31: 0.2631427668080505\n",
      "Epoch 32: 0.2624463188782101\n",
      "Epoch 33: 0.2618540332838165\n",
      "Epoch 34: 0.26135043530084656\n",
      "Epoch 35: 0.26092225749071074\n",
      "Epoch 36: 0.2605582753745693\n",
      "Epoch 37: 0.2602489352288103\n",
      "Epoch 38: 0.2599860737218478\n",
      "Epoch 39: 0.25976272798016\n",
      "Epoch 40: 0.2595730144636036\n",
      "Epoch 41: 0.25941189429504447\n",
      "Epoch 42: 0.2592750967996835\n",
      "Epoch 43: 0.2591590083713527\n",
      "Epoch 44: 0.2590605043522373\n",
      "Epoch 45: 0.25897694454615705\n",
      "Epoch 46: 0.25890607681430994\n",
      "Epoch 47: 0.2588460311249946\n",
      "Epoch 48: 0.2587951470457483\n",
      "Epoch 49: 0.2587520619679708\n",
      "W: 0.847519, b: 0.002776\n",
      "Cost: 0.257586\n"
     ]
    }
   ],
   "source": [
    "with tf.Session() as sess:\n",
    "    \n",
    "    # Initialize the necessary variables, in this case, w and b\n",
    "    sess.run(tf.global_variables_initializer()) \n",
    "    \n",
    "    # writer = tf.summary.FileWriter('./graphs/linear_reg', sess.graph)\n",
    "\n",
    "    # Train the model in 50 epochs\n",
    "    for i in range(50):\n",
    "        \n",
    "        total_cost = 0\n",
    "        \n",
    "        # Session runs train_op and fetch values of loss\n",
    "        for sample in range(n_samples):\n",
    "            \n",
    "            # Session looks at all trainable variables that loss depends on and update them\n",
    "            _, l = sess.run([optimizer, cost], feed_dict={X: x[sample], Y:y[sample]}) \n",
    "            \n",
    "            total_cost += l\n",
    "        \n",
    "        # Print epoch and loss\n",
    "        print('Epoch {0}: {1}'.format(i, total_cost / n_samples))\n",
    " \n",
    "    # Close the writer when you're done using it\n",
    "    # writer.close() \n",
    "    \n",
    "    # Output the values of w and b\n",
    "    w, b = sess.run([w, b]) \n",
    "    print('W: %f, b: %f' % (w, b))\n",
    "    print('Cost: %f' % sess.run(cost, feed_dict={X: x, Y: y}))"
   ]
  },
  {
   "cell_type": "code",
   "execution_count": 14,
   "metadata": {},
   "outputs": [
    {
     "data": {
      "image/png": "[encoded data removed]",
      "text/plain": [
       "<matplotlib.figure.Figure at 0x7f118f385cf8>"
      ]
     },
     "execution_count": 14,
     "metadata": {},
     "output_type": "execute_result"
    }
   ],
   "source": [
    "# Append hypothesis that we found on the plot\n",
    "ax.plot(x, x * w + b, color='r', label='Predicted house price')\n",
    "ax.legend()\n",
    "fig"
   ]
  },
  {
   "cell_type": "code",
   "execution_count": 15,
   "metadata": {},
   "outputs": [
    {
     "name": "stdout",
     "output_type": "stream",
     "text": [
      "0.42653536424040794\n"
     ]
    }
   ],
   "source": [
    "# Predict at point 0.5\n",
    "print(0.5 * w + b)"
   ]
  }
 ],
 "metadata": {
  "kernelspec": {
   "display_name": "Python 3",
   "language": "python",
   "name": "python3"
  },
  "language_info": {
   "codemirror_mode": {
    "name": "ipython",
    "version": 3
   },
   "file_extension": ".py",
   "mimetype": "text/x-python",
   "name": "python",
   "nbconvert_exporter": "python",
   "pygments_lexer": "ipython3",
   "version": "3.6.3"
  }
 },
 "nbformat": 4,
 "nbformat_minor": 2
}
